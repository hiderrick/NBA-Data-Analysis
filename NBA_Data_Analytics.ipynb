{
 "cells": [
  {
   "cell_type": "code",
   "execution_count": 14,
   "id": "abacf16a-2f55-4ec1-a332-e4b066736867",
   "metadata": {},
   "outputs": [],
   "source": [
    "import pandas as pd\n",
    "import plotly.express as px\n",
    "import plotly.graph_objects as go\n",
    "pd.set_option('display.max_columns', None)\n",
    "\n",
    "data = pd.read_excel('nba.xlsx') # gets data from excel file"
   ]
  },
  {
   "cell_type": "markdown",
   "id": "eb8e9ca0-55ad-4bf3-a470-4be1a7b1dab8",
   "metadata": {},
   "source": [
    "# Preperation"
   ]
  },
  {
   "cell_type": "code",
   "execution_count": 15,
   "id": "d5d445e2-ca33-452b-a884-cbde5ddf99df",
   "metadata": {},
   "outputs": [],
   "source": [
    "# gets rid of Rank and Eff columns\n",
    "data.drop(columns=['RANK','EFF'], inplace=True)"
   ]
  },
  {
   "cell_type": "code",
   "execution_count": 16,
   "id": "b1083657-8c0c-4b30-999c-fb3b2972657f",
   "metadata": {},
   "outputs": [],
   "source": [
    "data['season_start_year'] = data['Year'].str[:4].astype(int)"
   ]
  },
  {
   "cell_type": "code",
   "execution_count": 17,
   "id": "6078fe65-fc07-4a7c-bce7-17b2d99eba2a",
   "metadata": {},
   "outputs": [
    {
     "name": "stderr",
     "output_type": "stream",
     "text": [
      "/var/folders/rk/2404_76n00s3p8wwtcpskmtr0000gn/T/ipykernel_76526/1249339338.py:1: FutureWarning:\n",
      "\n",
      "A value is trying to be set on a copy of a DataFrame or Series through chained assignment using an inplace method.\n",
      "The behavior will change in pandas 3.0. This inplace method will never work because the intermediate object on which we are setting values always behaves as a copy.\n",
      "\n",
      "For example, when doing 'df[col].method(value, inplace=True)', try using 'df.method({col: value}, inplace=True)' or df[col] = df[col].method(value) instead, to perform the operation inplace on the original object.\n",
      "\n",
      "\n",
      "\n"
     ]
    }
   ],
   "source": [
    "data['Season_type'].replace('Regular%20Season','RS', inplace=True)"
   ]
  },
  {
   "cell_type": "code",
   "execution_count": 18,
   "id": "204c5d78-8def-4f8d-83d4-134de8ff23ef",
   "metadata": {},
   "outputs": [],
   "source": [
    "rs_df = data[data['Season_type']=='RS']\n",
    "playoffs_df = data[data['Season_type']=='Playoffs']"
   ]
  },
  {
   "cell_type": "code",
   "execution_count": 19,
   "id": "054738ae-213e-4232-b572-546b4b04e6b0",
   "metadata": {},
   "outputs": [],
   "source": [
    "total_cols = ['MIN','FGM','FGA','FG3M','FG3A','FTM','FTA',\n",
    "              'OREB','DREB','REB','AST','STL','BLK','TOV','PF','PTS']"
   ]
  },
  {
   "cell_type": "markdown",
   "id": "599b6c56-3b65-487a-9b10-31508bf430b4",
   "metadata": {},
   "source": [
    "# Minutes Distribution | Regular Season vs. Playoffs"
   ]
  },
  {
   "cell_type": "code",
   "execution_count": 20,
   "id": "1d2aac34-f0ad-4219-8c28-17b77c70977a",
   "metadata": {},
   "outputs": [
    {
     "data": {
      "application/vnd.plotly.v1+json": {
       "config": {
        "plotlyServerURL": "https://plot.ly"
       },
       "data": [
        {
         "alignmentgroup": "True",
         "bingroup": "x",
         "histnorm": "percent",
         "hovertemplate": "x=%{x}<br>percent=%{y}<extra></extra>",
         "legendgroup": "",
         "marker": {
          "color": "#636efa",
          "pattern": {
           "shape": ""
          }
         },
         "name": "",
         "offsetgroup": "",
         "orientation": "v",
         "showlegend": false,
         "type": "histogram",
         "x": [
          34.2,
          35.8,
          35.8,
          31.1,
          33,
          34.3,
          35.1,
          33.2,
          34.9,
          35.8,
          33.4,
          34.6,
          33.9,
          33.7,
          35.1,
          34.1,
          34.5,
          35.3,
          37.6,
          34.3,
          33.5,
          33.7,
          33.9,
          36.4,
          33.7,
          33.6,
          35.8,
          34.5,
          34.5,
          33.4,
          36,
          36.5,
          32.5,
          32.1,
          32.6,
          31.3,
          33.5,
          32,
          33.3,
          26.7,
          32.3,
          29.3,
          34.9,
          33.1,
          29.8,
          28.3,
          30.8,
          28.4,
          34.3,
          31.4,
          29.4,
          36.2,
          28.8,
          31.9,
          30.7,
          32.1,
          31.1,
          30.1,
          30.3,
          31.2,
          30.2,
          31.8,
          29.5,
          30.7,
          30.8,
          32.4,
          29.2,
          31,
          29.7,
          31.5,
          31.2,
          24.2,
          25.8,
          24.5,
          28.5,
          22.9,
          32.6,
          26.4,
          24.5,
          25.2,
          24,
          31.4,
          30.1,
          23.2,
          30.5,
          28.7,
          29.6,
          28.5,
          29.3,
          31,
          25,
          28.7,
          27.3,
          27.2,
          27.3,
          29.7,
          30.3,
          24.3,
          27.9,
          19.4,
          30.8,
          23.6,
          25.7,
          20.8,
          19.4,
          21.6,
          21.6,
          29.2,
          25.5,
          19.2,
          24.4,
          25.4,
          27,
          25.7,
          30,
          24.8,
          23,
          30.3,
          27.5,
          25.6,
          26.8,
          24,
          27.7,
          23.6,
          27.4,
          27.5,
          19.3,
          32,
          28.4,
          24.6,
          32.4,
          24,
          28,
          23,
          27.9,
          22.3,
          19.3,
          20.1,
          19.1,
          22.3,
          20.1,
          20.8,
          22.3,
          23.4,
          17.6,
          21.9,
          26,
          26.7,
          26.1,
          32,
          20.1,
          18,
          19.6,
          23,
          24.1,
          19.3,
          27.4,
          18.9,
          15.3,
          21.6,
          21.4,
          17.3,
          19.2,
          22.5,
          19.8,
          17.1,
          23.8,
          27.3,
          27.7,
          16.2,
          16.1,
          21.9,
          20.5,
          17.3,
          17.8,
          22.8,
          19.9,
          31.5,
          18.9,
          14.6,
          31.5,
          17.3,
          16,
          17.4,
          22.7,
          22.8,
          24,
          17.3,
          19.7,
          14.7,
          18.4,
          15.3,
          16.7,
          18.9,
          21,
          18.1,
          16.7,
          23.3,
          17.5,
          18.5,
          21.9,
          19.2,
          16.7,
          14,
          19.1,
          20.9,
          12.8,
          16.2,
          17.3,
          17,
          15.3,
          17.8,
          20.3,
          17.1,
          15.5,
          24.2,
          19.1,
          18.4,
          20.4,
          12.1,
          15.4,
          19.5,
          18.1,
          17,
          17.1,
          21.3,
          16.5,
          21.3,
          16.7,
          12,
          19,
          11,
          16.3,
          20,
          26.1,
          9.7,
          9.6,
          33.8,
          32.9,
          35.4,
          34.9,
          36.1,
          33.5,
          35.9,
          34.5,
          33.8,
          34.5,
          33.4,
          34.7,
          33.6,
          35.3,
          37.9,
          34.6,
          37.2,
          35.7,
          34.3,
          34.8,
          32.6,
          37.9,
          35.5,
          32.3,
          35.3,
          32.4,
          34.5,
          33.7,
          34.5,
          30,
          34.3,
          35,
          32.9,
          29.8,
          32,
          30.9,
          30.8,
          30.3,
          33.1,
          35.3,
          32.6,
          31.9,
          34.8,
          31.9,
          29.5,
          33.4,
          31.9,
          30.7,
          31.2,
          33.6,
          31.7,
          27.3,
          31.9,
          33,
          27.1,
          30.9,
          32.1,
          31.3,
          35,
          35.4,
          30.7,
          29.3,
          29.9,
          31.7,
          33.3,
          33.8,
          26.3,
          30.8,
          32.9,
          32.1,
          28.2,
          34.8,
          29.5,
          28.1,
          29.6,
          28.6,
          22.5,
          28.7,
          29,
          33.9,
          26,
          29.3,
          30.2,
          23.1,
          27.5,
          29.9,
          26.2,
          27.3,
          23,
          32.3,
          25,
          29.6,
          27.4,
          28.4,
          26.4,
          25.3,
          28.6,
          27.7,
          29,
          23.1,
          28.4,
          27.3,
          27.6,
          33.1,
          21.9,
          25.9,
          22.7,
          27.9,
          22,
          28.6,
          22.2,
          25.7,
          22.6,
          23.3,
          20.5,
          22.8,
          19.5,
          24.4,
          24.7,
          27.2,
          24.6,
          20.1,
          29.1,
          27.8,
          19,
          26.3,
          23,
          29.6,
          25.2,
          26,
          20.7,
          29.9,
          28.1,
          21.1,
          20.1,
          20,
          16.9,
          25.8,
          22.8,
          25.4,
          15.8,
          22.9,
          23.3,
          23.6,
          17.1,
          24.6,
          22.7,
          15.2,
          21.3,
          17.1,
          27.4,
          21,
          29.6,
          21.9,
          23.4,
          21.2,
          25,
          28,
          17.6,
          27.3,
          15.7,
          25.7,
          24.2,
          24.8,
          20.8,
          25.6,
          17.9,
          15.8,
          23.4,
          17.9,
          22.2,
          21.7,
          24.6,
          19.7,
          18,
          19.1,
          24.4,
          17.5,
          26.3,
          21.9,
          20.2,
          21.1,
          27.9,
          21.5,
          19.6,
          20,
          31.2,
          23.2,
          17.1,
          23.4,
          17.6,
          24.6,
          26.3,
          25.4,
          25,
          20.5,
          24.6,
          16.2,
          22.7,
          16.2,
          17.3,
          15.9,
          14.1,
          16.2,
          16.1,
          16.1,
          22.1,
          21.1,
          16.6,
          21.8,
          20.2,
          12.7,
          25.5,
          16.2,
          19.2,
          13.9,
          18.6,
          18.2,
          17.9,
          15.5,
          18.9,
          16,
          13.7,
          11.8,
          13.6,
          14.5,
          12.8,
          10.9,
          34.6,
          36.2,
          36.3,
          35.5,
          32.1,
          36.9,
          35.8,
          37.4,
          35.9,
          34.8,
          31.9,
          34.4,
          35.5,
          33.4,
          35.9,
          36,
          36.2,
          33.7,
          37.4,
          35,
          32.6,
          33.4,
          34.2,
          32.7,
          33,
          35.5,
          32.1,
          31.7,
          35,
          35.3,
          35,
          36.8,
          35.3,
          32.6,
          35.7,
          36.4,
          30,
          34.6,
          33.6,
          35.7,
          34.9,
          32.8,
          33.8,
          33.9,
          36.7,
          32.6,
          34.3,
          34.6,
          28.4,
          32.6,
          30.4,
          29.4,
          32.5,
          33.5,
          29,
          32.1,
          34.5,
          26.1,
          31,
          35.6,
          28.5,
          25.9,
          31.1,
          30.2,
          31.1,
          34.4,
          30.4,
          29.1,
          32.6,
          31.7,
          34.8,
          29.4,
          32.5,
          28.9,
          26,
          28.9,
          32.9,
          31,
          30.3,
          30.3,
          32.6,
          24.9,
          26,
          30.3,
          29.6,
          32,
          27.6,
          30.7,
          22.3,
          30.7,
          30,
          25.9,
          28.8,
          29.2,
          31,
          28,
          25.8,
          29.9,
          26.5,
          28.6,
          28.5,
          28.3,
          29.6,
          29.8,
          30.2,
          30.6,
          26.6,
          30.3,
          22.9,
          28.5,
          28.4,
          32.1,
          18.4,
          29.9,
          23.3,
          28.1,
          28.3,
          26,
          19.3,
          31.3,
          28.5,
          20.2,
          27.4,
          28.3,
          24.2,
          27.4,
          20.5,
          23.5,
          24.4,
          28.3,
          27.9,
          24.9,
          23.5,
          20.8,
          23.1,
          22.2,
          29.6,
          18.3,
          30.5,
          32.3,
          23.4,
          21.7,
          29.3,
          19.1,
          27.7,
          18.8,
          23.9,
          25.9,
          26.3,
          28.4,
          20,
          21.5,
          22.3,
          19.9,
          23,
          26.6,
          24.9,
          25.7,
          23.3,
          21.5,
          21.8,
          20.6,
          21.5,
          19.5,
          31.7,
          23.1,
          19.2,
          20.1,
          20.3,
          26.2,
          31.5,
          20.6,
          30.4,
          21.1,
          20,
          18.7,
          19.4,
          20.4,
          25.9,
          22.4,
          24.1,
          20.5,
          17.7,
          23.7,
          20.6,
          16.9,
          24.7,
          15.7,
          19.1,
          18.3,
          26.9,
          18.8,
          16.5,
          30.3,
          24.5,
          13.8,
          23.9,
          19.3,
          19.8,
          18.5,
          21.2,
          13.1,
          19.3,
          19.2,
          18,
          20.3,
          14.2,
          15.1,
          17.8,
          21.8,
          16.1,
          15,
          27.1,
          15,
          21.9,
          16.7,
          15,
          12.7,
          12.3,
          14.9,
          18.1,
          23.5,
          16,
          15.1,
          18.1,
          20.8,
          14,
          19.9,
          14.8,
          10.4,
          13,
          15.5,
          14.3,
          15.3,
          10.9,
          16.9,
          13.4,
          17.7,
          14,
          11.7,
          25.6,
          11.9,
          10.6,
          13.8,
          12.9,
          37.5,
          35.2,
          34,
          35.4,
          37.2,
          36,
          35.7,
          35.9,
          32.7,
          34.6,
          37.5,
          35.1,
          35.3,
          35,
          35.5,
          35.3,
          37.8,
          34.3,
          33.5,
          31.5,
          33.5,
          33.8,
          35,
          32.2,
          35.7,
          31.4,
          32.6,
          32.7,
          33.2,
          29.7,
          31.5,
          32.5,
          37.4,
          32.9,
          34,
          31.7,
          32.2,
          32.7,
          34.9,
          33.4,
          32.5,
          31.7,
          34.8,
          33.1,
          35.7,
          34,
          36.5,
          31.3,
          26.6,
          34.3,
          32.7,
          29.7,
          36.8,
          30.1,
          32.2,
          33.8,
          27,
          29.2,
          30.4,
          31.7,
          34.3,
          29.4,
          31.7,
          26.3,
          32.1,
          29.5,
          29.1,
          30.2,
          26,
          28.8,
          33.6,
          32.6,
          28,
          30.1,
          26.1,
          26.8,
          31.1,
          28.8,
          28.5,
          34.1,
          26.2,
          31.5,
          29.1,
          24.5,
          31.9,
          28.1,
          32.7,
          26.8,
          33.5,
          24.2,
          27.6,
          25.8,
          27,
          27,
          28,
          30.4,
          30.9,
          27,
          30.5,
          32.8,
          25.2,
          23.5,
          29,
          32,
          27.7,
          29.1,
          25.7,
          29.3,
          28.2,
          29.8,
          26.4,
          29.6,
          22.4,
          25.8,
          28.9,
          29.6,
          22.1,
          22.5,
          27.8,
          30.5,
          24.5,
          27.3,
          28.4,
          17.7,
          27.8,
          26.5,
          29.2,
          24.9,
          28.3,
          18.4,
          28,
          21.1,
          18.2,
          24.4,
          22.2,
          31.6,
          28.7,
          27.8,
          27.5,
          17.2,
          22.6,
          17.4,
          26.3,
          22.3,
          22.4,
          33.4,
          27.3,
          22.3,
          26.6,
          25,
          21.3,
          26.4,
          17.9,
          22,
          27,
          23.6,
          25.1,
          25,
          26.8,
          23.5,
          28.5,
          21.1,
          27.2,
          17.1,
          19.5,
          19,
          18.5,
          28.2,
          23.3,
          17.5,
          17.2,
          23.4,
          17.5,
          16.6,
          17.3,
          25.3,
          24.7,
          21.9,
          24.8,
          16.7,
          20.2,
          19.4,
          13.5,
          20,
          17.3,
          19,
          19.6,
          15.7,
          13.6,
          20.6,
          19.8,
          15.1,
          17.6,
          15.8,
          18.6,
          20.9,
          16.3,
          18.1,
          16.8,
          22.6,
          12.9,
          16.9,
          20,
          20.7,
          21.7,
          21.1,
          22.3,
          19.9,
          22.1,
          12.7,
          14.1,
          22.9,
          18.9,
          25.5,
          15.6,
          15.3,
          14.9,
          15.6,
          15.4,
          13.9,
          15,
          14.9,
          16,
          16.9,
          16.1,
          14.4,
          17.2,
          12.5,
          13.8,
          14.1,
          14,
          15.9,
          14.9,
          13,
          12.2,
          12.5,
          13.3,
          9.9,
          12.4,
          11.5
         ],
         "xaxis": "x",
         "yaxis": "y"
        }
       ],
       "layout": {
        "autosize": true,
        "barmode": "relative",
        "legend": {
         "tracegroupgap": 0
        },
        "margin": {
         "t": 60
        },
        "template": {
         "data": {
          "bar": [
           {
            "error_x": {
             "color": "#2a3f5f"
            },
            "error_y": {
             "color": "#2a3f5f"
            },
            "marker": {
             "line": {
              "color": "#E5ECF6",
              "width": 0.5
             },
             "pattern": {
              "fillmode": "overlay",
              "size": 10,
              "solidity": 0.2
             }
            },
            "type": "bar"
           }
          ],
          "barpolar": [
           {
            "marker": {
             "line": {
              "color": "#E5ECF6",
              "width": 0.5
             },
             "pattern": {
              "fillmode": "overlay",
              "size": 10,
              "solidity": 0.2
             }
            },
            "type": "barpolar"
           }
          ],
          "carpet": [
           {
            "aaxis": {
             "endlinecolor": "#2a3f5f",
             "gridcolor": "white",
             "linecolor": "white",
             "minorgridcolor": "white",
             "startlinecolor": "#2a3f5f"
            },
            "baxis": {
             "endlinecolor": "#2a3f5f",
             "gridcolor": "white",
             "linecolor": "white",
             "minorgridcolor": "white",
             "startlinecolor": "#2a3f5f"
            },
            "type": "carpet"
           }
          ],
          "choropleth": [
           {
            "colorbar": {
             "outlinewidth": 0,
             "ticks": ""
            },
            "type": "choropleth"
           }
          ],
          "contour": [
           {
            "colorbar": {
             "outlinewidth": 0,
             "ticks": ""
            },
            "colorscale": [
             [
              0,
              "#0d0887"
             ],
             [
              0.1111111111111111,
              "#46039f"
             ],
             [
              0.2222222222222222,
              "#7201a8"
             ],
             [
              0.3333333333333333,
              "#9c179e"
             ],
             [
              0.4444444444444444,
              "#bd3786"
             ],
             [
              0.5555555555555556,
              "#d8576b"
             ],
             [
              0.6666666666666666,
              "#ed7953"
             ],
             [
              0.7777777777777778,
              "#fb9f3a"
             ],
             [
              0.8888888888888888,
              "#fdca26"
             ],
             [
              1,
              "#f0f921"
             ]
            ],
            "type": "contour"
           }
          ],
          "contourcarpet": [
           {
            "colorbar": {
             "outlinewidth": 0,
             "ticks": ""
            },
            "type": "contourcarpet"
           }
          ],
          "heatmap": [
           {
            "colorbar": {
             "outlinewidth": 0,
             "ticks": ""
            },
            "colorscale": [
             [
              0,
              "#0d0887"
             ],
             [
              0.1111111111111111,
              "#46039f"
             ],
             [
              0.2222222222222222,
              "#7201a8"
             ],
             [
              0.3333333333333333,
              "#9c179e"
             ],
             [
              0.4444444444444444,
              "#bd3786"
             ],
             [
              0.5555555555555556,
              "#d8576b"
             ],
             [
              0.6666666666666666,
              "#ed7953"
             ],
             [
              0.7777777777777778,
              "#fb9f3a"
             ],
             [
              0.8888888888888888,
              "#fdca26"
             ],
             [
              1,
              "#f0f921"
             ]
            ],
            "type": "heatmap"
           }
          ],
          "heatmapgl": [
           {
            "colorbar": {
             "outlinewidth": 0,
             "ticks": ""
            },
            "colorscale": [
             [
              0,
              "#0d0887"
             ],
             [
              0.1111111111111111,
              "#46039f"
             ],
             [
              0.2222222222222222,
              "#7201a8"
             ],
             [
              0.3333333333333333,
              "#9c179e"
             ],
             [
              0.4444444444444444,
              "#bd3786"
             ],
             [
              0.5555555555555556,
              "#d8576b"
             ],
             [
              0.6666666666666666,
              "#ed7953"
             ],
             [
              0.7777777777777778,
              "#fb9f3a"
             ],
             [
              0.8888888888888888,
              "#fdca26"
             ],
             [
              1,
              "#f0f921"
             ]
            ],
            "type": "heatmapgl"
           }
          ],
          "histogram": [
           {
            "marker": {
             "pattern": {
              "fillmode": "overlay",
              "size": 10,
              "solidity": 0.2
             }
            },
            "type": "histogram"
           }
          ],
          "histogram2d": [
           {
            "colorbar": {
             "outlinewidth": 0,
             "ticks": ""
            },
            "colorscale": [
             [
              0,
              "#0d0887"
             ],
             [
              0.1111111111111111,
              "#46039f"
             ],
             [
              0.2222222222222222,
              "#7201a8"
             ],
             [
              0.3333333333333333,
              "#9c179e"
             ],
             [
              0.4444444444444444,
              "#bd3786"
             ],
             [
              0.5555555555555556,
              "#d8576b"
             ],
             [
              0.6666666666666666,
              "#ed7953"
             ],
             [
              0.7777777777777778,
              "#fb9f3a"
             ],
             [
              0.8888888888888888,
              "#fdca26"
             ],
             [
              1,
              "#f0f921"
             ]
            ],
            "type": "histogram2d"
           }
          ],
          "histogram2dcontour": [
           {
            "colorbar": {
             "outlinewidth": 0,
             "ticks": ""
            },
            "colorscale": [
             [
              0,
              "#0d0887"
             ],
             [
              0.1111111111111111,
              "#46039f"
             ],
             [
              0.2222222222222222,
              "#7201a8"
             ],
             [
              0.3333333333333333,
              "#9c179e"
             ],
             [
              0.4444444444444444,
              "#bd3786"
             ],
             [
              0.5555555555555556,
              "#d8576b"
             ],
             [
              0.6666666666666666,
              "#ed7953"
             ],
             [
              0.7777777777777778,
              "#fb9f3a"
             ],
             [
              0.8888888888888888,
              "#fdca26"
             ],
             [
              1,
              "#f0f921"
             ]
            ],
            "type": "histogram2dcontour"
           }
          ],
          "mesh3d": [
           {
            "colorbar": {
             "outlinewidth": 0,
             "ticks": ""
            },
            "type": "mesh3d"
           }
          ],
          "parcoords": [
           {
            "line": {
             "colorbar": {
              "outlinewidth": 0,
              "ticks": ""
             }
            },
            "type": "parcoords"
           }
          ],
          "pie": [
           {
            "automargin": true,
            "type": "pie"
           }
          ],
          "scatter": [
           {
            "fillpattern": {
             "fillmode": "overlay",
             "size": 10,
             "solidity": 0.2
            },
            "type": "scatter"
           }
          ],
          "scatter3d": [
           {
            "line": {
             "colorbar": {
              "outlinewidth": 0,
              "ticks": ""
             }
            },
            "marker": {
             "colorbar": {
              "outlinewidth": 0,
              "ticks": ""
             }
            },
            "type": "scatter3d"
           }
          ],
          "scattercarpet": [
           {
            "marker": {
             "colorbar": {
              "outlinewidth": 0,
              "ticks": ""
             }
            },
            "type": "scattercarpet"
           }
          ],
          "scattergeo": [
           {
            "marker": {
             "colorbar": {
              "outlinewidth": 0,
              "ticks": ""
             }
            },
            "type": "scattergeo"
           }
          ],
          "scattergl": [
           {
            "marker": {
             "colorbar": {
              "outlinewidth": 0,
              "ticks": ""
             }
            },
            "type": "scattergl"
           }
          ],
          "scattermapbox": [
           {
            "marker": {
             "colorbar": {
              "outlinewidth": 0,
              "ticks": ""
             }
            },
            "type": "scattermapbox"
           }
          ],
          "scatterpolar": [
           {
            "marker": {
             "colorbar": {
              "outlinewidth": 0,
              "ticks": ""
             }
            },
            "type": "scatterpolar"
           }
          ],
          "scatterpolargl": [
           {
            "marker": {
             "colorbar": {
              "outlinewidth": 0,
              "ticks": ""
             }
            },
            "type": "scatterpolargl"
           }
          ],
          "scatterternary": [
           {
            "marker": {
             "colorbar": {
              "outlinewidth": 0,
              "ticks": ""
             }
            },
            "type": "scatterternary"
           }
          ],
          "surface": [
           {
            "colorbar": {
             "outlinewidth": 0,
             "ticks": ""
            },
            "colorscale": [
             [
              0,
              "#0d0887"
             ],
             [
              0.1111111111111111,
              "#46039f"
             ],
             [
              0.2222222222222222,
              "#7201a8"
             ],
             [
              0.3333333333333333,
              "#9c179e"
             ],
             [
              0.4444444444444444,
              "#bd3786"
             ],
             [
              0.5555555555555556,
              "#d8576b"
             ],
             [
              0.6666666666666666,
              "#ed7953"
             ],
             [
              0.7777777777777778,
              "#fb9f3a"
             ],
             [
              0.8888888888888888,
              "#fdca26"
             ],
             [
              1,
              "#f0f921"
             ]
            ],
            "type": "surface"
           }
          ],
          "table": [
           {
            "cells": {
             "fill": {
              "color": "#EBF0F8"
             },
             "line": {
              "color": "white"
             }
            },
            "header": {
             "fill": {
              "color": "#C8D4E3"
             },
             "line": {
              "color": "white"
             }
            },
            "type": "table"
           }
          ]
         },
         "layout": {
          "annotationdefaults": {
           "arrowcolor": "#2a3f5f",
           "arrowhead": 0,
           "arrowwidth": 1
          },
          "autotypenumbers": "strict",
          "coloraxis": {
           "colorbar": {
            "outlinewidth": 0,
            "ticks": ""
           }
          },
          "colorscale": {
           "diverging": [
            [
             0,
             "#8e0152"
            ],
            [
             0.1,
             "#c51b7d"
            ],
            [
             0.2,
             "#de77ae"
            ],
            [
             0.3,
             "#f1b6da"
            ],
            [
             0.4,
             "#fde0ef"
            ],
            [
             0.5,
             "#f7f7f7"
            ],
            [
             0.6,
             "#e6f5d0"
            ],
            [
             0.7,
             "#b8e186"
            ],
            [
             0.8,
             "#7fbc41"
            ],
            [
             0.9,
             "#4d9221"
            ],
            [
             1,
             "#276419"
            ]
           ],
           "sequential": [
            [
             0,
             "#0d0887"
            ],
            [
             0.1111111111111111,
             "#46039f"
            ],
            [
             0.2222222222222222,
             "#7201a8"
            ],
            [
             0.3333333333333333,
             "#9c179e"
            ],
            [
             0.4444444444444444,
             "#bd3786"
            ],
            [
             0.5555555555555556,
             "#d8576b"
            ],
            [
             0.6666666666666666,
             "#ed7953"
            ],
            [
             0.7777777777777778,
             "#fb9f3a"
            ],
            [
             0.8888888888888888,
             "#fdca26"
            ],
            [
             1,
             "#f0f921"
            ]
           ],
           "sequentialminus": [
            [
             0,
             "#0d0887"
            ],
            [
             0.1111111111111111,
             "#46039f"
            ],
            [
             0.2222222222222222,
             "#7201a8"
            ],
            [
             0.3333333333333333,
             "#9c179e"
            ],
            [
             0.4444444444444444,
             "#bd3786"
            ],
            [
             0.5555555555555556,
             "#d8576b"
            ],
            [
             0.6666666666666666,
             "#ed7953"
            ],
            [
             0.7777777777777778,
             "#fb9f3a"
            ],
            [
             0.8888888888888888,
             "#fdca26"
            ],
            [
             1,
             "#f0f921"
            ]
           ]
          },
          "colorway": [
           "#636efa",
           "#EF553B",
           "#00cc96",
           "#ab63fa",
           "#FFA15A",
           "#19d3f3",
           "#FF6692",
           "#B6E880",
           "#FF97FF",
           "#FECB52"
          ],
          "font": {
           "color": "#2a3f5f"
          },
          "geo": {
           "bgcolor": "white",
           "lakecolor": "white",
           "landcolor": "#E5ECF6",
           "showlakes": true,
           "showland": true,
           "subunitcolor": "white"
          },
          "hoverlabel": {
           "align": "left"
          },
          "hovermode": "closest",
          "mapbox": {
           "style": "light"
          },
          "paper_bgcolor": "white",
          "plot_bgcolor": "#E5ECF6",
          "polar": {
           "angularaxis": {
            "gridcolor": "white",
            "linecolor": "white",
            "ticks": ""
           },
           "bgcolor": "#E5ECF6",
           "radialaxis": {
            "gridcolor": "white",
            "linecolor": "white",
            "ticks": ""
           }
          },
          "scene": {
           "xaxis": {
            "backgroundcolor": "#E5ECF6",
            "gridcolor": "white",
            "gridwidth": 2,
            "linecolor": "white",
            "showbackground": true,
            "ticks": "",
            "zerolinecolor": "white"
           },
           "yaxis": {
            "backgroundcolor": "#E5ECF6",
            "gridcolor": "white",
            "gridwidth": 2,
            "linecolor": "white",
            "showbackground": true,
            "ticks": "",
            "zerolinecolor": "white"
           },
           "zaxis": {
            "backgroundcolor": "#E5ECF6",
            "gridcolor": "white",
            "gridwidth": 2,
            "linecolor": "white",
            "showbackground": true,
            "ticks": "",
            "zerolinecolor": "white"
           }
          },
          "shapedefaults": {
           "line": {
            "color": "#2a3f5f"
           }
          },
          "ternary": {
           "aaxis": {
            "gridcolor": "white",
            "linecolor": "white",
            "ticks": ""
           },
           "baxis": {
            "gridcolor": "white",
            "linecolor": "white",
            "ticks": ""
           },
           "bgcolor": "#E5ECF6",
           "caxis": {
            "gridcolor": "white",
            "linecolor": "white",
            "ticks": ""
           }
          },
          "title": {
           "x": 0.05
          },
          "xaxis": {
           "automargin": true,
           "gridcolor": "white",
           "linecolor": "white",
           "ticks": "",
           "title": {
            "standoff": 15
           },
           "zerolinecolor": "white",
           "zerolinewidth": 2
          },
          "yaxis": {
           "automargin": true,
           "gridcolor": "white",
           "linecolor": "white",
           "ticks": "",
           "title": {
            "standoff": 15
           },
           "zerolinecolor": "white",
           "zerolinewidth": 2
          }
         }
        },
        "xaxis": {
         "anchor": "y",
         "autorange": true,
         "domain": [
          0,
          1
         ],
         "range": [
          9,
          38
         ],
         "title": {
          "text": "x"
         },
         "type": "linear"
        },
        "yaxis": {
         "anchor": "x",
         "autorange": true,
         "domain": [
          0,
          1
         ],
         "range": [
          0,
          6.094182825484764
         ],
         "title": {
          "text": "percent"
         }
        }
       }
      },
      "image/png": "[encoded data removed]",
      "text/html": [
       "<div>                            <div id=\"27a5e4a0-b155-4c6e-95a1-d74ac04da300\" class=\"plotly-graph-div\" style=\"height:525px; width:100%;\"></div>            <script type=\"text/javascript\">                require([\"plotly\"], function(Plotly) {                    window.PLOTLYENV=window.PLOTLYENV || {};                                    if (document.getElementById(\"27a5e4a0-b155-4c6e-95a1-d74ac04da300\")) {                    Plotly.newPlot(                        \"27a5e4a0-b155-4c6e-95a1-d74ac04da300\",                        [{\"alignmentgroup\":\"True\",\"bingroup\":\"x\",\"histnorm\":\"percent\",\"hovertemplate\":\"x=%{x}\\u003cbr\\u003epercent=%{y}\\u003cextra\\u003e\\u003c\\u002fextra\\u003e\",\"legendgroup\":\"\",\"marker\":{\"color\":\"#636efa\",\"pattern\":{\"shape\":\"\"}},\"name\":\"\",\"offsetgroup\":\"\",\"orientation\":\"v\",\"showlegend\":false,\"x\":[34.2,35.8,35.8,31.1,33.0,34.3,35.1,33.2,34.9,35.8,33.4,34.6,33.9,33.7,35.1,34.1,34.5,35.3,37.6,34.3,33.5,33.7,33.9,36.4,33.7,33.6,35.8,34.5,34.5,33.4,36.0,36.5,32.5,32.1,32.6,31.3,33.5,32.0,33.3,26.7,32.3,29.3,34.9,33.1,29.8,28.3,30.8,28.4,34.3,31.4,29.4,36.2,28.8,31.9,30.7,32.1,31.1,30.1,30.3,31.2,30.2,31.8,29.5,30.7,30.8,32.4,29.2,31.0,29.7,31.5,31.2,24.2,25.8,24.5,28.5,22.9,32.6,26.4,24.5,25.2,24.0,31.4,30.1,23.2,30.5,28.7,29.6,28.5,29.3,31.0,25.0,28.7,27.3,27.2,27.3,29.7,30.3,24.3,27.9,19.4,30.8,23.6,25.7,20.8,19.4,21.6,21.6,29.2,25.5,19.2,24.4,25.4,27.0,25.7,30.0,24.8,23.0,30.3,27.5,25.6,26.8,24.0,27.7,23.6,27.4,27.5,19.3,32.0,28.4,24.6,32.4,24.0,28.0,23.0,27.9,22.3,19.3,20.1,19.1,22.3,20.1,20.8,22.3,23.4,17.6,21.9,26.0,26.7,26.1,32.0,20.1,18.0,19.6,23.0,24.1,19.3,27.4,18.9,15.3,21.6,21.4,17.3,19.2,22.5,19.8,17.1,23.8,27.3,27.7,16.2,16.1,21.9,20.5,17.3,17.8,22.8,19.9,31.5,18.9,14.6,31.5,17.3,16.0,17.4,22.7,22.8,24.0,17.3,19.7,14.7,18.4,15.3,16.7,18.9,21.0,18.1,16.7,23.3,17.5,18.5,21.9,19.2,16.7,14.0,19.1,20.9,12.8,16.2,17.3,17.0,15.3,17.8,20.3,17.1,15.5,24.2,19.1,18.4,20.4,12.1,15.4,19.5,18.1,17.0,17.1,21.3,16.5,21.3,16.7,12.0,19.0,11.0,16.3,20.0,26.1,9.7,9.6,33.8,32.9,35.4,34.9,36.1,33.5,35.9,34.5,33.8,34.5,33.4,34.7,33.6,35.3,37.9,34.6,37.2,35.7,34.3,34.8,32.6,37.9,35.5,32.3,35.3,32.4,34.5,33.7,34.5,30.0,34.3,35.0,32.9,29.8,32.0,30.9,30.8,30.3,33.1,35.3,32.6,31.9,34.8,31.9,29.5,33.4,31.9,30.7,31.2,33.6,31.7,27.3,31.9,33.0,27.1,30.9,32.1,31.3,35.0,35.4,30.7,29.3,29.9,31.7,33.3,33.8,26.3,30.8,32.9,32.1,28.2,34.8,29.5,28.1,29.6,28.6,22.5,28.7,29.0,33.9,26.0,29.3,30.2,23.1,27.5,29.9,26.2,27.3,23.0,32.3,25.0,29.6,27.4,28.4,26.4,25.3,28.6,27.7,29.0,23.1,28.4,27.3,27.6,33.1,21.9,25.9,22.7,27.9,22.0,28.6,22.2,25.7,22.6,23.3,20.5,22.8,19.5,24.4,24.7,27.2,24.6,20.1,29.1,27.8,19.0,26.3,23.0,29.6,25.2,26.0,20.7,29.9,28.1,21.1,20.1,20.0,16.9,25.8,22.8,25.4,15.8,22.9,23.3,23.6,17.1,24.6,22.7,15.2,21.3,17.1,27.4,21.0,29.6,21.9,23.4,21.2,25.0,28.0,17.6,27.3,15.7,25.7,24.2,24.8,20.8,25.6,17.9,15.8,23.4,17.9,22.2,21.7,24.6,19.7,18.0,19.1,24.4,17.5,26.3,21.9,20.2,21.1,27.9,21.5,19.6,20.0,31.2,23.2,17.1,23.4,17.6,24.6,26.3,25.4,25.0,20.5,24.6,16.2,22.7,16.2,17.3,15.9,14.1,16.2,16.1,16.1,22.1,21.1,16.6,21.8,20.2,12.7,25.5,16.2,19.2,13.9,18.6,18.2,17.9,15.5,18.9,16.0,13.7,11.8,13.6,14.5,12.8,10.9,34.6,36.2,36.3,35.5,32.1,36.9,35.8,37.4,35.9,34.8,31.9,34.4,35.5,33.4,35.9,36.0,36.2,33.7,37.4,35.0,32.6,33.4,34.2,32.7,33.0,35.5,32.1,31.7,35.0,35.3,35.0,36.8,35.3,32.6,35.7,36.4,30.0,34.6,33.6,35.7,34.9,32.8,33.8,33.9,36.7,32.6,34.3,34.6,28.4,32.6,30.4,29.4,32.5,33.5,29.0,32.1,34.5,26.1,31.0,35.6,28.5,25.9,31.1,30.2,31.1,34.4,30.4,29.1,32.6,31.7,34.8,29.4,32.5,28.9,26.0,28.9,32.9,31.0,30.3,30.3,32.6,24.9,26.0,30.3,29.6,32.0,27.6,30.7,22.3,30.7,30.0,25.9,28.8,29.2,31.0,28.0,25.8,29.9,26.5,28.6,28.5,28.3,29.6,29.8,30.2,30.6,26.6,30.3,22.9,28.5,28.4,32.1,18.4,29.9,23.3,28.1,28.3,26.0,19.3,31.3,28.5,20.2,27.4,28.3,24.2,27.4,20.5,23.5,24.4,28.3,27.9,24.9,23.5,20.8,23.1,22.2,29.6,18.3,30.5,32.3,23.4,21.7,29.3,19.1,27.7,18.8,23.9,25.9,26.3,28.4,20.0,21.5,22.3,19.9,23.0,26.6,24.9,25.7,23.3,21.5,21.8,20.6,21.5,19.5,31.7,23.1,19.2,20.1,20.3,26.2,31.5,20.6,30.4,21.1,20.0,18.7,19.4,20.4,25.9,22.4,24.1,20.5,17.7,23.7,20.6,16.9,24.7,15.7,19.1,18.3,26.9,18.8,16.5,30.3,24.5,13.8,23.9,19.3,19.8,18.5,21.2,13.1,19.3,19.2,18.0,20.3,14.2,15.1,17.8,21.8,16.1,15.0,27.1,15.0,21.9,16.7,15.0,12.7,12.3,14.9,18.1,23.5,16.0,15.1,18.1,20.8,14.0,19.9,14.8,10.4,13.0,15.5,14.3,15.3,10.9,16.9,13.4,17.7,14.0,11.7,25.6,11.9,10.6,13.8,12.9,37.5,35.2,34.0,35.4,37.2,36.0,35.7,35.9,32.7,34.6,37.5,35.1,35.3,35.0,35.5,35.3,37.8,34.3,33.5,31.5,33.5,33.8,35.0,32.2,35.7,31.4,32.6,32.7,33.2,29.7,31.5,32.5,37.4,32.9,34.0,31.7,32.2,32.7,34.9,33.4,32.5,31.7,34.8,33.1,35.7,34.0,36.5,31.3,26.6,34.3,32.7,29.7,36.8,30.1,32.2,33.8,27.0,29.2,30.4,31.7,34.3,29.4,31.7,26.3,32.1,29.5,29.1,30.2,26.0,28.8,33.6,32.6,28.0,30.1,26.1,26.8,31.1,28.8,28.5,34.1,26.2,31.5,29.1,24.5,31.9,28.1,32.7,26.8,33.5,24.2,27.6,25.8,27.0,27.0,28.0,30.4,30.9,27.0,30.5,32.8,25.2,23.5,29.0,32.0,27.7,29.1,25.7,29.3,28.2,29.8,26.4,29.6,22.4,25.8,28.9,29.6,22.1,22.5,27.8,30.5,24.5,27.3,28.4,17.7,27.8,26.5,29.2,24.9,28.3,18.4,28.0,21.1,18.2,24.4,22.2,31.6,28.7,27.8,27.5,17.2,22.6,17.4,26.3,22.3,22.4,33.4,27.3,22.3,26.6,25.0,21.3,26.4,17.9,22.0,27.0,23.6,25.1,25.0,26.8,23.5,28.5,21.1,27.2,17.1,19.5,19.0,18.5,28.2,23.3,17.5,17.2,23.4,17.5,16.6,17.3,25.3,24.7,21.9,24.8,16.7,20.2,19.4,13.5,20.0,17.3,19.0,19.6,15.7,13.6,20.6,19.8,15.1,17.6,15.8,18.6,20.9,16.3,18.1,16.8,22.6,12.9,16.9,20.0,20.7,21.7,21.1,22.3,19.9,22.1,12.7,14.1,22.9,18.9,25.5,15.6,15.3,14.9,15.6,15.4,13.9,15.0,14.9,16.0,16.9,16.1,14.4,17.2,12.5,13.8,14.1,14.0,15.9,14.9,13.0,12.2,12.5,13.3,9.9,12.4,11.5],\"xaxis\":\"x\",\"yaxis\":\"y\",\"type\":\"histogram\"}],                        {\"template\":{\"data\":{\"histogram2dcontour\":[{\"type\":\"histogram2dcontour\",\"colorbar\":{\"outlinewidth\":0,\"ticks\":\"\"},\"colorscale\":[[0.0,\"#0d0887\"],[0.1111111111111111,\"#46039f\"],[0.2222222222222222,\"#7201a8\"],[0.3333333333333333,\"#9c179e\"],[0.4444444444444444,\"#bd3786\"],[0.5555555555555556,\"#d8576b\"],[0.6666666666666666,\"#ed7953\"],[0.7777777777777778,\"#fb9f3a\"],[0.8888888888888888,\"#fdca26\"],[1.0,\"#f0f921\"]]}],\"choropleth\":[{\"type\":\"choropleth\",\"colorbar\":{\"outlinewidth\":0,\"ticks\":\"\"}}],\"histogram2d\":[{\"type\":\"histogram2d\",\"colorbar\":{\"outlinewidth\":0,\"ticks\":\"\"},\"colorscale\":[[0.0,\"#0d0887\"],[0.1111111111111111,\"#46039f\"],[0.2222222222222222,\"#7201a8\"],[0.3333333333333333,\"#9c179e\"],[0.4444444444444444,\"#bd3786\"],[0.5555555555555556,\"#d8576b\"],[0.6666666666666666,\"#ed7953\"],[0.7777777777777778,\"#fb9f3a\"],[0.8888888888888888,\"#fdca26\"],[1.0,\"#f0f921\"]]}],\"heatmap\":[{\"type\":\"heatmap\",\"colorbar\":{\"outlinewidth\":0,\"ticks\":\"\"},\"colorscale\":[[0.0,\"#0d0887\"],[0.1111111111111111,\"#46039f\"],[0.2222222222222222,\"#7201a8\"],[0.3333333333333333,\"#9c179e\"],[0.4444444444444444,\"#bd3786\"],[0.5555555555555556,\"#d8576b\"],[0.6666666666666666,\"#ed7953\"],[0.7777777777777778,\"#fb9f3a\"],[0.8888888888888888,\"#fdca26\"],[1.0,\"#f0f921\"]]}],\"heatmapgl\":[{\"type\":\"heatmapgl\",\"colorbar\":{\"outlinewidth\":0,\"ticks\":\"\"},\"colorscale\":[[0.0,\"#0d0887\"],[0.1111111111111111,\"#46039f\"],[0.2222222222222222,\"#7201a8\"],[0.3333333333333333,\"#9c179e\"],[0.4444444444444444,\"#bd3786\"],[0.5555555555555556,\"#d8576b\"],[0.6666666666666666,\"#ed7953\"],[0.7777777777777778,\"#fb9f3a\"],[0.8888888888888888,\"#fdca26\"],[1.0,\"#f0f921\"]]}],\"contourcarpet\":[{\"type\":\"contourcarpet\",\"colorbar\":{\"outlinewidth\":0,\"ticks\":\"\"}}],\"contour\":[{\"type\":\"contour\",\"colorbar\":{\"outlinewidth\":0,\"ticks\":\"\"},\"colorscale\":[[0.0,\"#0d0887\"],[0.1111111111111111,\"#46039f\"],[0.2222222222222222,\"#7201a8\"],[0.3333333333333333,\"#9c179e\"],[0.4444444444444444,\"#bd3786\"],[0.5555555555555556,\"#d8576b\"],[0.6666666666666666,\"#ed7953\"],[0.7777777777777778,\"#fb9f3a\"],[0.8888888888888888,\"#fdca26\"],[1.0,\"#f0f921\"]]}],\"surface\":[{\"type\":\"surface\",\"colorbar\":{\"outlinewidth\":0,\"ticks\":\"\"},\"colorscale\":[[0.0,\"#0d0887\"],[0.1111111111111111,\"#46039f\"],[0.2222222222222222,\"#7201a8\"],[0.3333333333333333,\"#9c179e\"],[0.4444444444444444,\"#bd3786\"],[0.5555555555555556,\"#d8576b\"],[0.6666666666666666,\"#ed7953\"],[0.7777777777777778,\"#fb9f3a\"],[0.8888888888888888,\"#fdca26\"],[1.0,\"#f0f921\"]]}],\"mesh3d\":[{\"type\":\"mesh3d\",\"colorbar\":{\"outlinewidth\":0,\"ticks\":\"\"}}],\"scatter\":[{\"fillpattern\":{\"fillmode\":\"overlay\",\"size\":10,\"solidity\":0.2},\"type\":\"scatter\"}],\"parcoords\":[{\"type\":\"parcoords\",\"line\":{\"colorbar\":{\"outlinewidth\":0,\"ticks\":\"\"}}}],\"scatterpolargl\":[{\"type\":\"scatterpolargl\",\"marker\":{\"colorbar\":{\"outlinewidth\":0,\"ticks\":\"\"}}}],\"bar\":[{\"error_x\":{\"color\":\"#2a3f5f\"},\"error_y\":{\"color\":\"#2a3f5f\"},\"marker\":{\"line\":{\"color\":\"#E5ECF6\",\"width\":0.5},\"pattern\":{\"fillmode\":\"overlay\",\"size\":10,\"solidity\":0.2}},\"type\":\"bar\"}],\"scattergeo\":[{\"type\":\"scattergeo\",\"marker\":{\"colorbar\":{\"outlinewidth\":0,\"ticks\":\"\"}}}],\"scatterpolar\":[{\"type\":\"scatterpolar\",\"marker\":{\"colorbar\":{\"outlinewidth\":0,\"ticks\":\"\"}}}],\"histogram\":[{\"marker\":{\"pattern\":{\"fillmode\":\"overlay\",\"size\":10,\"solidity\":0.2}},\"type\":\"histogram\"}],\"scattergl\":[{\"type\":\"scattergl\",\"marker\":{\"colorbar\":{\"outlinewidth\":0,\"ticks\":\"\"}}}],\"scatter3d\":[{\"type\":\"scatter3d\",\"line\":{\"colorbar\":{\"outlinewidth\":0,\"ticks\":\"\"}},\"marker\":{\"colorbar\":{\"outlinewidth\":0,\"ticks\":\"\"}}}],\"scattermapbox\":[{\"type\":\"scattermapbox\",\"marker\":{\"colorbar\":{\"outlinewidth\":0,\"ticks\":\"\"}}}],\"scatterternary\":[{\"type\":\"scatterternary\",\"marker\":{\"colorbar\":{\"outlinewidth\":0,\"ticks\":\"\"}}}],\"scattercarpet\":[{\"type\":\"scattercarpet\",\"marker\":{\"colorbar\":{\"outlinewidth\":0,\"ticks\":\"\"}}}],\"carpet\":[{\"aaxis\":{\"endlinecolor\":\"#2a3f5f\",\"gridcolor\":\"white\",\"linecolor\":\"white\",\"minorgridcolor\":\"white\",\"startlinecolor\":\"#2a3f5f\"},\"baxis\":{\"endlinecolor\":\"#2a3f5f\",\"gridcolor\":\"white\",\"linecolor\":\"white\",\"minorgridcolor\":\"white\",\"startlinecolor\":\"#2a3f5f\"},\"type\":\"carpet\"}],\"table\":[{\"cells\":{\"fill\":{\"color\":\"#EBF0F8\"},\"line\":{\"color\":\"white\"}},\"header\":{\"fill\":{\"color\":\"#C8D4E3\"},\"line\":{\"color\":\"white\"}},\"type\":\"table\"}],\"barpolar\":[{\"marker\":{\"line\":{\"color\":\"#E5ECF6\",\"width\":0.5},\"pattern\":{\"fillmode\":\"overlay\",\"size\":10,\"solidity\":0.2}},\"type\":\"barpolar\"}],\"pie\":[{\"automargin\":true,\"type\":\"pie\"}]},\"layout\":{\"autotypenumbers\":\"strict\",\"colorway\":[\"#636efa\",\"#EF553B\",\"#00cc96\",\"#ab63fa\",\"#FFA15A\",\"#19d3f3\",\"#FF6692\",\"#B6E880\",\"#FF97FF\",\"#FECB52\"],\"font\":{\"color\":\"#2a3f5f\"},\"hovermode\":\"closest\",\"hoverlabel\":{\"align\":\"left\"},\"paper_bgcolor\":\"white\",\"plot_bgcolor\":\"#E5ECF6\",\"polar\":{\"bgcolor\":\"#E5ECF6\",\"angularaxis\":{\"gridcolor\":\"white\",\"linecolor\":\"white\",\"ticks\":\"\"},\"radialaxis\":{\"gridcolor\":\"white\",\"linecolor\":\"white\",\"ticks\":\"\"}},\"ternary\":{\"bgcolor\":\"#E5ECF6\",\"aaxis\":{\"gridcolor\":\"white\",\"linecolor\":\"white\",\"ticks\":\"\"},\"baxis\":{\"gridcolor\":\"white\",\"linecolor\":\"white\",\"ticks\":\"\"},\"caxis\":{\"gridcolor\":\"white\",\"linecolor\":\"white\",\"ticks\":\"\"}},\"coloraxis\":{\"colorbar\":{\"outlinewidth\":0,\"ticks\":\"\"}},\"colorscale\":{\"sequential\":[[0.0,\"#0d0887\"],[0.1111111111111111,\"#46039f\"],[0.2222222222222222,\"#7201a8\"],[0.3333333333333333,\"#9c179e\"],[0.4444444444444444,\"#bd3786\"],[0.5555555555555556,\"#d8576b\"],[0.6666666666666666,\"#ed7953\"],[0.7777777777777778,\"#fb9f3a\"],[0.8888888888888888,\"#fdca26\"],[1.0,\"#f0f921\"]],\"sequentialminus\":[[0.0,\"#0d0887\"],[0.1111111111111111,\"#46039f\"],[0.2222222222222222,\"#7201a8\"],[0.3333333333333333,\"#9c179e\"],[0.4444444444444444,\"#bd3786\"],[0.5555555555555556,\"#d8576b\"],[0.6666666666666666,\"#ed7953\"],[0.7777777777777778,\"#fb9f3a\"],[0.8888888888888888,\"#fdca26\"],[1.0,\"#f0f921\"]],\"diverging\":[[0,\"#8e0152\"],[0.1,\"#c51b7d\"],[0.2,\"#de77ae\"],[0.3,\"#f1b6da\"],[0.4,\"#fde0ef\"],[0.5,\"#f7f7f7\"],[0.6,\"#e6f5d0\"],[0.7,\"#b8e186\"],[0.8,\"#7fbc41\"],[0.9,\"#4d9221\"],[1,\"#276419\"]]},\"xaxis\":{\"gridcolor\":\"white\",\"linecolor\":\"white\",\"ticks\":\"\",\"title\":{\"standoff\":15},\"zerolinecolor\":\"white\",\"automargin\":true,\"zerolinewidth\":2},\"yaxis\":{\"gridcolor\":\"white\",\"linecolor\":\"white\",\"ticks\":\"\",\"title\":{\"standoff\":15},\"zerolinecolor\":\"white\",\"automargin\":true,\"zerolinewidth\":2},\"scene\":{\"xaxis\":{\"backgroundcolor\":\"#E5ECF6\",\"gridcolor\":\"white\",\"linecolor\":\"white\",\"showbackground\":true,\"ticks\":\"\",\"zerolinecolor\":\"white\",\"gridwidth\":2},\"yaxis\":{\"backgroundcolor\":\"#E5ECF6\",\"gridcolor\":\"white\",\"linecolor\":\"white\",\"showbackground\":true,\"ticks\":\"\",\"zerolinecolor\":\"white\",\"gridwidth\":2},\"zaxis\":{\"backgroundcolor\":\"#E5ECF6\",\"gridcolor\":\"white\",\"linecolor\":\"white\",\"showbackground\":true,\"ticks\":\"\",\"zerolinecolor\":\"white\",\"gridwidth\":2}},\"shapedefaults\":{\"line\":{\"color\":\"#2a3f5f\"}},\"annotationdefaults\":{\"arrowcolor\":\"#2a3f5f\",\"arrowhead\":0,\"arrowwidth\":1},\"geo\":{\"bgcolor\":\"white\",\"landcolor\":\"#E5ECF6\",\"subunitcolor\":\"white\",\"showland\":true,\"showlakes\":true,\"lakecolor\":\"white\"},\"title\":{\"x\":0.05},\"mapbox\":{\"style\":\"light\"}}},\"xaxis\":{\"anchor\":\"y\",\"domain\":[0.0,1.0],\"title\":{\"text\":\"x\"}},\"yaxis\":{\"anchor\":\"x\",\"domain\":[0.0,1.0],\"title\":{\"text\":\"percent\"}},\"legend\":{\"tracegroupgap\":0},\"margin\":{\"t\":60},\"barmode\":\"relative\"},                        {\"responsive\": true}                    ).then(function(){\n",
       "                            \n",
       "var gd = document.getElementById('27a5e4a0-b155-4c6e-95a1-d74ac04da300');\n",
       "var x = new MutationObserver(function (mutations, observer) {{\n",
       "        var display = window.getComputedStyle(gd).display;\n",
       "        if (!display || display === 'none') {{\n",
       "            console.log([gd, 'removed!']);\n",
       "            Plotly.purge(gd);\n",
       "            observer.disconnect();\n",
       "        }}\n",
       "}});\n",
       "\n",
       "// Listen for the removal of the full notebook cells\n",
       "var notebookContainer = gd.closest('#notebook-container');\n",
       "if (notebookContainer) {{\n",
       "    x.observe(notebookContainer, {childList: true});\n",
       "}}\n",
       "\n",
       "// Listen for the clearing of the current output cell\n",
       "var outputEl = gd.closest('.output');\n",
       "if (outputEl) {{\n",
       "    x.observe(outputEl, {childList: true});\n",
       "}}\n",
       "\n",
       "                        })                };                });            </script>        </div>"
      ]
     },
     "metadata": {},
     "output_type": "display_data"
    }
   ],
   "source": [
    "# shows the minute distribution for the regular season\n",
    "rs_fig = px.histogram(x=rs_df['MIN'], histnorm='percent')\n",
    "rs_fig.show()"
   ]
  },
  {
   "cell_type": "code",
   "execution_count": 21,
   "id": "332a5805-5273-40a6-adaf-ad0bb8b2cac4",
   "metadata": {},
   "outputs": [
    {
     "data": {
      "application/vnd.plotly.v1+json": {
       "config": {
        "plotlyServerURL": "https://plot.ly"
       },
       "data": [
        {
         "alignmentgroup": "True",
         "bingroup": "x",
         "histnorm": "percent",
         "hovertemplate": "x=%{x}<br>percent=%{y}<extra></extra>",
         "legendgroup": "",
         "marker": {
          "color": "#636efa",
          "pattern": {
           "shape": ""
          }
         },
         "name": "",
         "offsetgroup": "",
         "orientation": "v",
         "showlegend": false,
         "type": "histogram",
         "x": [
          40.1,
          41.3,
          40.4,
          34.6,
          37,
          40.6,
          38.1,
          39,
          34.5,
          37.7,
          32.5,
          40.4,
          40.8,
          35,
          40.1,
          37.3,
          36.1,
          36.5,
          40,
          35.8,
          35,
          34.2,
          37.2,
          31.8,
          35.5,
          36,
          36.6,
          32.7,
          27.1,
          28.8,
          33.2,
          39.7,
          36,
          37.4,
          29.3,
          36.4,
          34,
          33.4,
          33.2,
          34.6,
          34.2,
          38.5,
          32.4,
          32.7,
          33.2,
          25.6,
          32,
          28.6,
          27.4,
          28.8,
          33.3,
          29,
          24.6,
          23.8,
          31.8,
          33.5,
          23.4,
          36.7,
          36.2,
          29.9,
          32.1,
          31,
          33.1,
          26.4,
          38.7,
          25,
          23.3,
          27.8,
          31.6,
          38,
          19,
          27,
          26.5,
          23.3,
          30.5,
          21,
          26.5,
          27.3,
          18.3,
          32.4,
          14.8,
          28.4,
          21.1,
          29.2,
          16.3,
          23.1,
          15.4,
          19.9,
          14.6,
          16.3,
          23.7,
          22.2,
          13.7,
          17.8,
          12.1,
          23.2,
          13,
          22.4,
          21.5,
          13.1,
          17.7,
          14.3,
          16.6,
          29.2,
          20.2,
          15.4,
          19.8,
          14.6,
          18.3,
          19,
          26.7,
          18.3,
          17.6,
          27.6,
          19,
          13.4,
          24,
          12.4,
          17.1,
          12.4,
          18.4,
          10.1,
          29.6,
          17.2,
          8.4,
          12.1,
          17.8,
          11.4,
          11.4,
          13.4,
          13.2,
          15,
          11.7,
          9.4,
          7.4,
          9.2,
          10.8,
          10.5,
          4,
          11.2,
          7.2,
          4.7,
          10.4,
          4.4,
          8.3,
          2.5,
          5.1,
          37.3,
          36.8,
          34.2,
          37,
          34.7,
          37.6,
          39.3,
          44,
          41,
          38.3,
          37.8,
          38.5,
          36.6,
          38.3,
          43.3,
          39,
          37,
          34.9,
          42.5,
          35,
          40.6,
          40.4,
          36.2,
          38.3,
          38.6,
          36,
          35.7,
          39.9,
          35.7,
          30.5,
          34.5,
          28.3,
          36.2,
          27.5,
          38.8,
          34.9,
          36.2,
          27.7,
          37.4,
          33.2,
          34.1,
          30.5,
          29.2,
          33,
          26.8,
          27.8,
          34.8,
          31.2,
          32,
          34.4,
          38.5,
          25.4,
          24.7,
          35.4,
          32.7,
          32.8,
          30.6,
          38.2,
          21.7,
          32.3,
          29.1,
          24.6,
          37.7,
          11.4,
          24.5,
          24.8,
          27.7,
          39.3,
          19.8,
          24.5,
          22.4,
          27.8,
          26.5,
          24.4,
          29.5,
          21.7,
          17.4,
          30.8,
          21.7,
          29,
          21.8,
          25.4,
          27.3,
          26.6,
          25.4,
          19.8,
          19.6,
          25.4,
          27.4,
          32,
          23.5,
          19.5,
          28.3,
          23.2,
          16.8,
          11.1,
          28.3,
          18,
          16.6,
          31.3,
          28.8,
          18.4,
          13,
          13.8,
          20.4,
          12.2,
          17,
          21.5,
          19.5,
          21.6,
          8.6,
          20,
          13.2,
          16.5,
          10.8,
          12.9,
          12.3,
          15.4,
          18.7,
          16,
          21.6,
          13.2,
          10.7,
          17.2,
          15.2,
          10,
          13.8,
          11.8,
          22.6,
          9.9,
          15,
          11.7,
          14.5,
          13.8,
          6.8,
          10.5,
          15.2,
          9.3,
          9.3,
          11.5,
          7.8,
          10.8,
          7.6,
          14.4,
          5.5,
          7.6,
          3.3,
          6,
          41.7,
          39.8,
          37.9,
          39.5,
          38.3,
          42.4,
          40.3,
          38.6,
          40,
          39.7,
          40,
          37.4,
          38.7,
          34.6,
          37.3,
          38.4,
          38.5,
          39.3,
          41.4,
          38,
          37.6,
          38,
          33.4,
          37.8,
          38.5,
          38.8,
          34.3,
          36.4,
          29.3,
          36,
          38,
          36,
          36.7,
          37,
          38.2,
          36.2,
          34,
          37.3,
          33,
          39.8,
          34.7,
          35.6,
          34,
          35.4,
          34,
          31.9,
          29.7,
          32.7,
          26.2,
          29.6,
          35.7,
          30.5,
          30.2,
          24.3,
          26.6,
          36.6,
          22,
          24.9,
          29.8,
          27.3,
          28.1,
          33.6,
          26.6,
          27.8,
          29.3,
          32.1,
          21.8,
          29.8,
          37.6,
          27.7,
          21.4,
          30.6,
          38.2,
          28.1,
          26,
          26,
          26.1,
          18.2,
          21.9,
          30.5,
          16.4,
          26,
          29.6,
          25.2,
          19.3,
          18.2,
          24.9,
          20,
          20.9,
          22.2,
          26.1,
          21.4,
          20,
          15.9,
          18,
          15.9,
          17.8,
          30.9,
          16.9,
          16.8,
          25,
          27.1,
          16.6,
          15,
          25.3,
          13.8,
          18.6,
          21.8,
          13.4,
          18.1,
          26.9,
          17.7,
          29.5,
          26.7,
          18.4,
          14.3,
          16.5,
          20,
          18.4,
          14.3,
          9.3,
          17.2,
          17.5,
          12.7,
          6.1,
          9.8,
          8.9,
          13,
          12.4,
          20,
          7.7,
          11.5,
          12.8,
          8.3,
          11.1,
          6.9,
          10.3,
          10.3,
          11,
          12.3,
          9.8,
          10,
          2.5,
          1.2,
          41.3,
          39.8,
          39.9,
          44.5,
          38.2,
          41.5,
          40.2,
          41.6,
          40.8,
          40.6,
          41.5,
          37.4,
          42,
          40.5,
          36.7,
          38.3,
          40.2,
          38.6,
          35.4,
          40.3,
          38.5,
          37,
          32.6,
          37,
          37.7,
          34.8,
          35.1,
          35.8,
          37,
          33.3,
          32.4,
          34.8,
          37,
          31.2,
          38.5,
          32,
          35.2,
          36.9,
          36,
          34.5,
          32.6,
          33.1,
          42.2,
          22.3,
          37.1,
          36.3,
          37,
          36.5,
          37.3,
          35.3,
          29.8,
          30.8,
          37.9,
          33.6,
          34.1,
          20.5,
          35.2,
          31.6,
          42,
          22.6,
          26.7,
          20.2,
          35,
          32.9,
          25.3,
          30.4,
          31.2,
          36.2,
          25.6,
          31.2,
          21.8,
          21,
          36.3,
          21.8,
          18.1,
          21.8,
          29.8,
          35,
          35,
          26.8,
          29.5,
          30.6,
          26,
          26.4,
          20.9,
          22.2,
          23.6,
          29.2,
          15.1,
          17.3,
          28.3,
          19,
          21,
          15,
          21,
          15.7,
          15.3,
          12.3,
          12.2,
          21.9,
          19.7,
          14.7,
          17,
          26,
          17.8,
          25.2,
          20.7,
          14.6,
          12.7,
          15.4,
          6.9,
          19.8,
          26.5,
          10.3,
          11.8,
          7.3,
          9.8,
          12.5,
          11,
          14.6,
          12.5,
          11.2,
          18.7,
          12.1,
          12,
          12,
          6.4,
          9,
          15.5,
          3.5,
          9.7,
          6.4,
          7.2,
          8.7,
          13.8,
          5.7,
          4.3,
          4.4,
          6,
          6.6,
          4
         ],
         "xaxis": "x",
         "yaxis": "y"
        }
       ],
       "layout": {
        "autosize": true,
        "barmode": "relative",
        "legend": {
         "tracegroupgap": 0
        },
        "margin": {
         "t": 60
        },
        "template": {
         "data": {
          "bar": [
           {
            "error_x": {
             "color": "#2a3f5f"
            },
            "error_y": {
             "color": "#2a3f5f"
            },
            "marker": {
             "line": {
              "color": "#E5ECF6",
              "width": 0.5
             },
             "pattern": {
              "fillmode": "overlay",
              "size": 10,
              "solidity": 0.2
             }
            },
            "type": "bar"
           }
          ],
          "barpolar": [
           {
            "marker": {
             "line": {
              "color": "#E5ECF6",
              "width": 0.5
             },
             "pattern": {
              "fillmode": "overlay",
              "size": 10,
              "solidity": 0.2
             }
            },
            "type": "barpolar"
           }
          ],
          "carpet": [
           {
            "aaxis": {
             "endlinecolor": "#2a3f5f",
             "gridcolor": "white",
             "linecolor": "white",
             "minorgridcolor": "white",
             "startlinecolor": "#2a3f5f"
            },
            "baxis": {
             "endlinecolor": "#2a3f5f",
             "gridcolor": "white",
             "linecolor": "white",
             "minorgridcolor": "white",
             "startlinecolor": "#2a3f5f"
            },
            "type": "carpet"
           }
          ],
          "choropleth": [
           {
            "colorbar": {
             "outlinewidth": 0,
             "ticks": ""
            },
            "type": "choropleth"
           }
          ],
          "contour": [
           {
            "colorbar": {
             "outlinewidth": 0,
             "ticks": ""
            },
            "colorscale": [
             [
              0,
              "#0d0887"
             ],
             [
              0.1111111111111111,
              "#46039f"
             ],
             [
              0.2222222222222222,
              "#7201a8"
             ],
             [
              0.3333333333333333,
              "#9c179e"
             ],
             [
              0.4444444444444444,
              "#bd3786"
             ],
             [
              0.5555555555555556,
              "#d8576b"
             ],
             [
              0.6666666666666666,
              "#ed7953"
             ],
             [
              0.7777777777777778,
              "#fb9f3a"
             ],
             [
              0.8888888888888888,
              "#fdca26"
             ],
             [
              1,
              "#f0f921"
             ]
            ],
            "type": "contour"
           }
          ],
          "contourcarpet": [
           {
            "colorbar": {
             "outlinewidth": 0,
             "ticks": ""
            },
            "type": "contourcarpet"
           }
          ],
          "heatmap": [
           {
            "colorbar": {
             "outlinewidth": 0,
             "ticks": ""
            },
            "colorscale": [
             [
              0,
              "#0d0887"
             ],
             [
              0.1111111111111111,
              "#46039f"
             ],
             [
              0.2222222222222222,
              "#7201a8"
             ],
             [
              0.3333333333333333,
              "#9c179e"
             ],
             [
              0.4444444444444444,
              "#bd3786"
             ],
             [
              0.5555555555555556,
              "#d8576b"
             ],
             [
              0.6666666666666666,
              "#ed7953"
             ],
             [
              0.7777777777777778,
              "#fb9f3a"
             ],
             [
              0.8888888888888888,
              "#fdca26"
             ],
             [
              1,
              "#f0f921"
             ]
            ],
            "type": "heatmap"
           }
          ],
          "heatmapgl": [
           {
            "colorbar": {
             "outlinewidth": 0,
             "ticks": ""
            },
            "colorscale": [
             [
              0,
              "#0d0887"
             ],
             [
              0.1111111111111111,
              "#46039f"
             ],
             [
              0.2222222222222222,
              "#7201a8"
             ],
             [
              0.3333333333333333,
              "#9c179e"
             ],
             [
              0.4444444444444444,
              "#bd3786"
             ],
             [
              0.5555555555555556,
              "#d8576b"
             ],
             [
              0.6666666666666666,
              "#ed7953"
             ],
             [
              0.7777777777777778,
              "#fb9f3a"
             ],
             [
              0.8888888888888888,
              "#fdca26"
             ],
             [
              1,
              "#f0f921"
             ]
            ],
            "type": "heatmapgl"
           }
          ],
          "histogram": [
           {
            "marker": {
             "pattern": {
              "fillmode": "overlay",
              "size": 10,
              "solidity": 0.2
             }
            },
            "type": "histogram"
           }
          ],
          "histogram2d": [
           {
            "colorbar": {
             "outlinewidth": 0,
             "ticks": ""
            },
            "colorscale": [
             [
              0,
              "#0d0887"
             ],
             [
              0.1111111111111111,
              "#46039f"
             ],
             [
              0.2222222222222222,
              "#7201a8"
             ],
             [
              0.3333333333333333,
              "#9c179e"
             ],
             [
              0.4444444444444444,
              "#bd3786"
             ],
             [
              0.5555555555555556,
              "#d8576b"
             ],
             [
              0.6666666666666666,
              "#ed7953"
             ],
             [
              0.7777777777777778,
              "#fb9f3a"
             ],
             [
              0.8888888888888888,
              "#fdca26"
             ],
             [
              1,
              "#f0f921"
             ]
            ],
            "type": "histogram2d"
           }
          ],
          "histogram2dcontour": [
           {
            "colorbar": {
             "outlinewidth": 0,
             "ticks": ""
            },
            "colorscale": [
             [
              0,
              "#0d0887"
             ],
             [
              0.1111111111111111,
              "#46039f"
             ],
             [
              0.2222222222222222,
              "#7201a8"
             ],
             [
              0.3333333333333333,
              "#9c179e"
             ],
             [
              0.4444444444444444,
              "#bd3786"
             ],
             [
              0.5555555555555556,
              "#d8576b"
             ],
             [
              0.6666666666666666,
              "#ed7953"
             ],
             [
              0.7777777777777778,
              "#fb9f3a"
             ],
             [
              0.8888888888888888,
              "#fdca26"
             ],
             [
              1,
              "#f0f921"
             ]
            ],
            "type": "histogram2dcontour"
           }
          ],
          "mesh3d": [
           {
            "colorbar": {
             "outlinewidth": 0,
             "ticks": ""
            },
            "type": "mesh3d"
           }
          ],
          "parcoords": [
           {
            "line": {
             "colorbar": {
              "outlinewidth": 0,
              "ticks": ""
             }
            },
            "type": "parcoords"
           }
          ],
          "pie": [
           {
            "automargin": true,
            "type": "pie"
           }
          ],
          "scatter": [
           {
            "fillpattern": {
             "fillmode": "overlay",
             "size": 10,
             "solidity": 0.2
            },
            "type": "scatter"
           }
          ],
          "scatter3d": [
           {
            "line": {
             "colorbar": {
              "outlinewidth": 0,
              "ticks": ""
             }
            },
            "marker": {
             "colorbar": {
              "outlinewidth": 0,
              "ticks": ""
             }
            },
            "type": "scatter3d"
           }
          ],
          "scattercarpet": [
           {
            "marker": {
             "colorbar": {
              "outlinewidth": 0,
              "ticks": ""
             }
            },
            "type": "scattercarpet"
           }
          ],
          "scattergeo": [
           {
            "marker": {
             "colorbar": {
              "outlinewidth": 0,
              "ticks": ""
             }
            },
            "type": "scattergeo"
           }
          ],
          "scattergl": [
           {
            "marker": {
             "colorbar": {
              "outlinewidth": 0,
              "ticks": ""
             }
            },
            "type": "scattergl"
           }
          ],
          "scattermapbox": [
           {
            "marker": {
             "colorbar": {
              "outlinewidth": 0,
              "ticks": ""
             }
            },
            "type": "scattermapbox"
           }
          ],
          "scatterpolar": [
           {
            "marker": {
             "colorbar": {
              "outlinewidth": 0,
              "ticks": ""
             }
            },
            "type": "scatterpolar"
           }
          ],
          "scatterpolargl": [
           {
            "marker": {
             "colorbar": {
              "outlinewidth": 0,
              "ticks": ""
             }
            },
            "type": "scatterpolargl"
           }
          ],
          "scatterternary": [
           {
            "marker": {
             "colorbar": {
              "outlinewidth": 0,
              "ticks": ""
             }
            },
            "type": "scatterternary"
           }
          ],
          "surface": [
           {
            "colorbar": {
             "outlinewidth": 0,
             "ticks": ""
            },
            "colorscale": [
             [
              0,
              "#0d0887"
             ],
             [
              0.1111111111111111,
              "#46039f"
             ],
             [
              0.2222222222222222,
              "#7201a8"
             ],
             [
              0.3333333333333333,
              "#9c179e"
             ],
             [
              0.4444444444444444,
              "#bd3786"
             ],
             [
              0.5555555555555556,
              "#d8576b"
             ],
             [
              0.6666666666666666,
              "#ed7953"
             ],
             [
              0.7777777777777778,
              "#fb9f3a"
             ],
             [
              0.8888888888888888,
              "#fdca26"
             ],
             [
              1,
              "#f0f921"
             ]
            ],
            "type": "surface"
           }
          ],
          "table": [
           {
            "cells": {
             "fill": {
              "color": "#EBF0F8"
             },
             "line": {
              "color": "white"
             }
            },
            "header": {
             "fill": {
              "color": "#C8D4E3"
             },
             "line": {
              "color": "white"
             }
            },
            "type": "table"
           }
          ]
         },
         "layout": {
          "annotationdefaults": {
           "arrowcolor": "#2a3f5f",
           "arrowhead": 0,
           "arrowwidth": 1
          },
          "autotypenumbers": "strict",
          "coloraxis": {
           "colorbar": {
            "outlinewidth": 0,
            "ticks": ""
           }
          },
          "colorscale": {
           "diverging": [
            [
             0,
             "#8e0152"
            ],
            [
             0.1,
             "#c51b7d"
            ],
            [
             0.2,
             "#de77ae"
            ],
            [
             0.3,
             "#f1b6da"
            ],
            [
             0.4,
             "#fde0ef"
            ],
            [
             0.5,
             "#f7f7f7"
            ],
            [
             0.6,
             "#e6f5d0"
            ],
            [
             0.7,
             "#b8e186"
            ],
            [
             0.8,
             "#7fbc41"
            ],
            [
             0.9,
             "#4d9221"
            ],
            [
             1,
             "#276419"
            ]
           ],
           "sequential": [
            [
             0,
             "#0d0887"
            ],
            [
             0.1111111111111111,
             "#46039f"
            ],
            [
             0.2222222222222222,
             "#7201a8"
            ],
            [
             0.3333333333333333,
             "#9c179e"
            ],
            [
             0.4444444444444444,
             "#bd3786"
            ],
            [
             0.5555555555555556,
             "#d8576b"
            ],
            [
             0.6666666666666666,
             "#ed7953"
            ],
            [
             0.7777777777777778,
             "#fb9f3a"
            ],
            [
             0.8888888888888888,
             "#fdca26"
            ],
            [
             1,
             "#f0f921"
            ]
           ],
           "sequentialminus": [
            [
             0,
             "#0d0887"
            ],
            [
             0.1111111111111111,
             "#46039f"
            ],
            [
             0.2222222222222222,
             "#7201a8"
            ],
            [
             0.3333333333333333,
             "#9c179e"
            ],
            [
             0.4444444444444444,
             "#bd3786"
            ],
            [
             0.5555555555555556,
             "#d8576b"
            ],
            [
             0.6666666666666666,
             "#ed7953"
            ],
            [
             0.7777777777777778,
             "#fb9f3a"
            ],
            [
             0.8888888888888888,
             "#fdca26"
            ],
            [
             1,
             "#f0f921"
            ]
           ]
          },
          "colorway": [
           "#636efa",
           "#EF553B",
           "#00cc96",
           "#ab63fa",
           "#FFA15A",
           "#19d3f3",
           "#FF6692",
           "#B6E880",
           "#FF97FF",
           "#FECB52"
          ],
          "font": {
           "color": "#2a3f5f"
          },
          "geo": {
           "bgcolor": "white",
           "lakecolor": "white",
           "landcolor": "#E5ECF6",
           "showlakes": true,
           "showland": true,
           "subunitcolor": "white"
          },
          "hoverlabel": {
           "align": "left"
          },
          "hovermode": "closest",
          "mapbox": {
           "style": "light"
          },
          "paper_bgcolor": "white",
          "plot_bgcolor": "#E5ECF6",
          "polar": {
           "angularaxis": {
            "gridcolor": "white",
            "linecolor": "white",
            "ticks": ""
           },
           "bgcolor": "#E5ECF6",
           "radialaxis": {
            "gridcolor": "white",
            "linecolor": "white",
            "ticks": ""
           }
          },
          "scene": {
           "xaxis": {
            "backgroundcolor": "#E5ECF6",
            "gridcolor": "white",
            "gridwidth": 2,
            "linecolor": "white",
            "showbackground": true,
            "ticks": "",
            "zerolinecolor": "white"
           },
           "yaxis": {
            "backgroundcolor": "#E5ECF6",
            "gridcolor": "white",
            "gridwidth": 2,
            "linecolor": "white",
            "showbackground": true,
            "ticks": "",
            "zerolinecolor": "white"
           },
           "zaxis": {
            "backgroundcolor": "#E5ECF6",
            "gridcolor": "white",
            "gridwidth": 2,
            "linecolor": "white",
            "showbackground": true,
            "ticks": "",
            "zerolinecolor": "white"
           }
          },
          "shapedefaults": {
           "line": {
            "color": "#2a3f5f"
           }
          },
          "ternary": {
           "aaxis": {
            "gridcolor": "white",
            "linecolor": "white",
            "ticks": ""
           },
           "baxis": {
            "gridcolor": "white",
            "linecolor": "white",
            "ticks": ""
           },
           "bgcolor": "#E5ECF6",
           "caxis": {
            "gridcolor": "white",
            "linecolor": "white",
            "ticks": ""
           }
          },
          "title": {
           "x": 0.05
          },
          "xaxis": {
           "automargin": true,
           "gridcolor": "white",
           "linecolor": "white",
           "ticks": "",
           "title": {
            "standoff": 15
           },
           "zerolinecolor": "white",
           "zerolinewidth": 2
          },
          "yaxis": {
           "automargin": true,
           "gridcolor": "white",
           "linecolor": "white",
           "ticks": "",
           "title": {
            "standoff": 15
           },
           "zerolinecolor": "white",
           "zerolinewidth": 2
          }
         }
        },
        "xaxis": {
         "anchor": "y",
         "autorange": true,
         "domain": [
          0,
          1
         ],
         "range": [
          0,
          46
         ],
         "title": {
          "text": "x"
         },
         "type": "linear"
        },
        "yaxis": {
         "anchor": "x",
         "autorange": true,
         "domain": [
          0,
          1
         ],
         "range": [
          0,
          10.344827586206897
         ],
         "title": {
          "text": "percent"
         }
        }
       }
      },
      "image/png": "[encoded data removed]",
      "text/html": [
       "<div>                            <div id=\"0aaf929b-9a8b-4b43-a849-8a7569f34736\" class=\"plotly-graph-div\" style=\"height:525px; width:100%;\"></div>            <script type=\"text/javascript\">                require([\"plotly\"], function(Plotly) {                    window.PLOTLYENV=window.PLOTLYENV || {};                                    if (document.getElementById(\"0aaf929b-9a8b-4b43-a849-8a7569f34736\")) {                    Plotly.newPlot(                        \"0aaf929b-9a8b-4b43-a849-8a7569f34736\",                        [{\"alignmentgroup\":\"True\",\"bingroup\":\"x\",\"histnorm\":\"percent\",\"hovertemplate\":\"x=%{x}\\u003cbr\\u003epercent=%{y}\\u003cextra\\u003e\\u003c\\u002fextra\\u003e\",\"legendgroup\":\"\",\"marker\":{\"color\":\"#636efa\",\"pattern\":{\"shape\":\"\"}},\"name\":\"\",\"offsetgroup\":\"\",\"orientation\":\"v\",\"showlegend\":false,\"x\":[40.1,41.3,40.4,34.6,37.0,40.6,38.1,39.0,34.5,37.7,32.5,40.4,40.8,35.0,40.1,37.3,36.1,36.5,40.0,35.8,35.0,34.2,37.2,31.8,35.5,36.0,36.6,32.7,27.1,28.8,33.2,39.7,36.0,37.4,29.3,36.4,34.0,33.4,33.2,34.6,34.2,38.5,32.4,32.7,33.2,25.6,32.0,28.6,27.4,28.8,33.3,29.0,24.6,23.8,31.8,33.5,23.4,36.7,36.2,29.9,32.1,31.0,33.1,26.4,38.7,25.0,23.3,27.8,31.6,38.0,19.0,27.0,26.5,23.3,30.5,21.0,26.5,27.3,18.3,32.4,14.8,28.4,21.1,29.2,16.3,23.1,15.4,19.9,14.6,16.3,23.7,22.2,13.7,17.8,12.1,23.2,13.0,22.4,21.5,13.1,17.7,14.3,16.6,29.2,20.2,15.4,19.8,14.6,18.3,19.0,26.7,18.3,17.6,27.6,19.0,13.4,24.0,12.4,17.1,12.4,18.4,10.1,29.6,17.2,8.4,12.1,17.8,11.4,11.4,13.4,13.2,15.0,11.7,9.4,7.4,9.2,10.8,10.5,4.0,11.2,7.2,4.7,10.4,4.4,8.3,2.5,5.1,37.3,36.8,34.2,37.0,34.7,37.6,39.3,44.0,41.0,38.3,37.8,38.5,36.6,38.3,43.3,39.0,37.0,34.9,42.5,35.0,40.6,40.4,36.2,38.3,38.6,36.0,35.7,39.9,35.7,30.5,34.5,28.3,36.2,27.5,38.8,34.9,36.2,27.7,37.4,33.2,34.1,30.5,29.2,33.0,26.8,27.8,34.8,31.2,32.0,34.4,38.5,25.4,24.7,35.4,32.7,32.8,30.6,38.2,21.7,32.3,29.1,24.6,37.7,11.4,24.5,24.8,27.7,39.3,19.8,24.5,22.4,27.8,26.5,24.4,29.5,21.7,17.4,30.8,21.7,29.0,21.8,25.4,27.3,26.6,25.4,19.8,19.6,25.4,27.4,32.0,23.5,19.5,28.3,23.2,16.8,11.1,28.3,18.0,16.6,31.3,28.8,18.4,13.0,13.8,20.4,12.2,17.0,21.5,19.5,21.6,8.6,20.0,13.2,16.5,10.8,12.9,12.3,15.4,18.7,16.0,21.6,13.2,10.7,17.2,15.2,10.0,13.8,11.8,22.6,9.9,15.0,11.7,14.5,13.8,6.8,10.5,15.2,9.3,9.3,11.5,7.8,10.8,7.6,14.4,5.5,7.6,3.3,6.0,41.7,39.8,37.9,39.5,38.3,42.4,40.3,38.6,40.0,39.7,40.0,37.4,38.7,34.6,37.3,38.4,38.5,39.3,41.4,38.0,37.6,38.0,33.4,37.8,38.5,38.8,34.3,36.4,29.3,36.0,38.0,36.0,36.7,37.0,38.2,36.2,34.0,37.3,33.0,39.8,34.7,35.6,34.0,35.4,34.0,31.9,29.7,32.7,26.2,29.6,35.7,30.5,30.2,24.3,26.6,36.6,22.0,24.9,29.8,27.3,28.1,33.6,26.6,27.8,29.3,32.1,21.8,29.8,37.6,27.7,21.4,30.6,38.2,28.1,26.0,26.0,26.1,18.2,21.9,30.5,16.4,26.0,29.6,25.2,19.3,18.2,24.9,20.0,20.9,22.2,26.1,21.4,20.0,15.9,18.0,15.9,17.8,30.9,16.9,16.8,25.0,27.1,16.6,15.0,25.3,13.8,18.6,21.8,13.4,18.1,26.9,17.7,29.5,26.7,18.4,14.3,16.5,20.0,18.4,14.3,9.3,17.2,17.5,12.7,6.1,9.8,8.9,13.0,12.4,20.0,7.7,11.5,12.8,8.3,11.1,6.9,10.3,10.3,11.0,12.3,9.8,10.0,2.5,1.2,41.3,39.8,39.9,44.5,38.2,41.5,40.2,41.6,40.8,40.6,41.5,37.4,42.0,40.5,36.7,38.3,40.2,38.6,35.4,40.3,38.5,37.0,32.6,37.0,37.7,34.8,35.1,35.8,37.0,33.3,32.4,34.8,37.0,31.2,38.5,32.0,35.2,36.9,36.0,34.5,32.6,33.1,42.2,22.3,37.1,36.3,37.0,36.5,37.3,35.3,29.8,30.8,37.9,33.6,34.1,20.5,35.2,31.6,42.0,22.6,26.7,20.2,35.0,32.9,25.3,30.4,31.2,36.2,25.6,31.2,21.8,21.0,36.3,21.8,18.1,21.8,29.8,35.0,35.0,26.8,29.5,30.6,26.0,26.4,20.9,22.2,23.6,29.2,15.1,17.3,28.3,19.0,21.0,15.0,21.0,15.7,15.3,12.3,12.2,21.9,19.7,14.7,17.0,26.0,17.8,25.2,20.7,14.6,12.7,15.4,6.9,19.8,26.5,10.3,11.8,7.3,9.8,12.5,11.0,14.6,12.5,11.2,18.7,12.1,12.0,12.0,6.4,9.0,15.5,3.5,9.7,6.4,7.2,8.7,13.8,5.7,4.3,4.4,6.0,6.6,4.0],\"xaxis\":\"x\",\"yaxis\":\"y\",\"type\":\"histogram\"}],                        {\"template\":{\"data\":{\"histogram2dcontour\":[{\"type\":\"histogram2dcontour\",\"colorbar\":{\"outlinewidth\":0,\"ticks\":\"\"},\"colorscale\":[[0.0,\"#0d0887\"],[0.1111111111111111,\"#46039f\"],[0.2222222222222222,\"#7201a8\"],[0.3333333333333333,\"#9c179e\"],[0.4444444444444444,\"#bd3786\"],[0.5555555555555556,\"#d8576b\"],[0.6666666666666666,\"#ed7953\"],[0.7777777777777778,\"#fb9f3a\"],[0.8888888888888888,\"#fdca26\"],[1.0,\"#f0f921\"]]}],\"choropleth\":[{\"type\":\"choropleth\",\"colorbar\":{\"outlinewidth\":0,\"ticks\":\"\"}}],\"histogram2d\":[{\"type\":\"histogram2d\",\"colorbar\":{\"outlinewidth\":0,\"ticks\":\"\"},\"colorscale\":[[0.0,\"#0d0887\"],[0.1111111111111111,\"#46039f\"],[0.2222222222222222,\"#7201a8\"],[0.3333333333333333,\"#9c179e\"],[0.4444444444444444,\"#bd3786\"],[0.5555555555555556,\"#d8576b\"],[0.6666666666666666,\"#ed7953\"],[0.7777777777777778,\"#fb9f3a\"],[0.8888888888888888,\"#fdca26\"],[1.0,\"#f0f921\"]]}],\"heatmap\":[{\"type\":\"heatmap\",\"colorbar\":{\"outlinewidth\":0,\"ticks\":\"\"},\"colorscale\":[[0.0,\"#0d0887\"],[0.1111111111111111,\"#46039f\"],[0.2222222222222222,\"#7201a8\"],[0.3333333333333333,\"#9c179e\"],[0.4444444444444444,\"#bd3786\"],[0.5555555555555556,\"#d8576b\"],[0.6666666666666666,\"#ed7953\"],[0.7777777777777778,\"#fb9f3a\"],[0.8888888888888888,\"#fdca26\"],[1.0,\"#f0f921\"]]}],\"heatmapgl\":[{\"type\":\"heatmapgl\",\"colorbar\":{\"outlinewidth\":0,\"ticks\":\"\"},\"colorscale\":[[0.0,\"#0d0887\"],[0.1111111111111111,\"#46039f\"],[0.2222222222222222,\"#7201a8\"],[0.3333333333333333,\"#9c179e\"],[0.4444444444444444,\"#bd3786\"],[0.5555555555555556,\"#d8576b\"],[0.6666666666666666,\"#ed7953\"],[0.7777777777777778,\"#fb9f3a\"],[0.8888888888888888,\"#fdca26\"],[1.0,\"#f0f921\"]]}],\"contourcarpet\":[{\"type\":\"contourcarpet\",\"colorbar\":{\"outlinewidth\":0,\"ticks\":\"\"}}],\"contour\":[{\"type\":\"contour\",\"colorbar\":{\"outlinewidth\":0,\"ticks\":\"\"},\"colorscale\":[[0.0,\"#0d0887\"],[0.1111111111111111,\"#46039f\"],[0.2222222222222222,\"#7201a8\"],[0.3333333333333333,\"#9c179e\"],[0.4444444444444444,\"#bd3786\"],[0.5555555555555556,\"#d8576b\"],[0.6666666666666666,\"#ed7953\"],[0.7777777777777778,\"#fb9f3a\"],[0.8888888888888888,\"#fdca26\"],[1.0,\"#f0f921\"]]}],\"surface\":[{\"type\":\"surface\",\"colorbar\":{\"outlinewidth\":0,\"ticks\":\"\"},\"colorscale\":[[0.0,\"#0d0887\"],[0.1111111111111111,\"#46039f\"],[0.2222222222222222,\"#7201a8\"],[0.3333333333333333,\"#9c179e\"],[0.4444444444444444,\"#bd3786\"],[0.5555555555555556,\"#d8576b\"],[0.6666666666666666,\"#ed7953\"],[0.7777777777777778,\"#fb9f3a\"],[0.8888888888888888,\"#fdca26\"],[1.0,\"#f0f921\"]]}],\"mesh3d\":[{\"type\":\"mesh3d\",\"colorbar\":{\"outlinewidth\":0,\"ticks\":\"\"}}],\"scatter\":[{\"fillpattern\":{\"fillmode\":\"overlay\",\"size\":10,\"solidity\":0.2},\"type\":\"scatter\"}],\"parcoords\":[{\"type\":\"parcoords\",\"line\":{\"colorbar\":{\"outlinewidth\":0,\"ticks\":\"\"}}}],\"scatterpolargl\":[{\"type\":\"scatterpolargl\",\"marker\":{\"colorbar\":{\"outlinewidth\":0,\"ticks\":\"\"}}}],\"bar\":[{\"error_x\":{\"color\":\"#2a3f5f\"},\"error_y\":{\"color\":\"#2a3f5f\"},\"marker\":{\"line\":{\"color\":\"#E5ECF6\",\"width\":0.5},\"pattern\":{\"fillmode\":\"overlay\",\"size\":10,\"solidity\":0.2}},\"type\":\"bar\"}],\"scattergeo\":[{\"type\":\"scattergeo\",\"marker\":{\"colorbar\":{\"outlinewidth\":0,\"ticks\":\"\"}}}],\"scatterpolar\":[{\"type\":\"scatterpolar\",\"marker\":{\"colorbar\":{\"outlinewidth\":0,\"ticks\":\"\"}}}],\"histogram\":[{\"marker\":{\"pattern\":{\"fillmode\":\"overlay\",\"size\":10,\"solidity\":0.2}},\"type\":\"histogram\"}],\"scattergl\":[{\"type\":\"scattergl\",\"marker\":{\"colorbar\":{\"outlinewidth\":0,\"ticks\":\"\"}}}],\"scatter3d\":[{\"type\":\"scatter3d\",\"line\":{\"colorbar\":{\"outlinewidth\":0,\"ticks\":\"\"}},\"marker\":{\"colorbar\":{\"outlinewidth\":0,\"ticks\":\"\"}}}],\"scattermapbox\":[{\"type\":\"scattermapbox\",\"marker\":{\"colorbar\":{\"outlinewidth\":0,\"ticks\":\"\"}}}],\"scatterternary\":[{\"type\":\"scatterternary\",\"marker\":{\"colorbar\":{\"outlinewidth\":0,\"ticks\":\"\"}}}],\"scattercarpet\":[{\"type\":\"scattercarpet\",\"marker\":{\"colorbar\":{\"outlinewidth\":0,\"ticks\":\"\"}}}],\"carpet\":[{\"aaxis\":{\"endlinecolor\":\"#2a3f5f\",\"gridcolor\":\"white\",\"linecolor\":\"white\",\"minorgridcolor\":\"white\",\"startlinecolor\":\"#2a3f5f\"},\"baxis\":{\"endlinecolor\":\"#2a3f5f\",\"gridcolor\":\"white\",\"linecolor\":\"white\",\"minorgridcolor\":\"white\",\"startlinecolor\":\"#2a3f5f\"},\"type\":\"carpet\"}],\"table\":[{\"cells\":{\"fill\":{\"color\":\"#EBF0F8\"},\"line\":{\"color\":\"white\"}},\"header\":{\"fill\":{\"color\":\"#C8D4E3\"},\"line\":{\"color\":\"white\"}},\"type\":\"table\"}],\"barpolar\":[{\"marker\":{\"line\":{\"color\":\"#E5ECF6\",\"width\":0.5},\"pattern\":{\"fillmode\":\"overlay\",\"size\":10,\"solidity\":0.2}},\"type\":\"barpolar\"}],\"pie\":[{\"automargin\":true,\"type\":\"pie\"}]},\"layout\":{\"autotypenumbers\":\"strict\",\"colorway\":[\"#636efa\",\"#EF553B\",\"#00cc96\",\"#ab63fa\",\"#FFA15A\",\"#19d3f3\",\"#FF6692\",\"#B6E880\",\"#FF97FF\",\"#FECB52\"],\"font\":{\"color\":\"#2a3f5f\"},\"hovermode\":\"closest\",\"hoverlabel\":{\"align\":\"left\"},\"paper_bgcolor\":\"white\",\"plot_bgcolor\":\"#E5ECF6\",\"polar\":{\"bgcolor\":\"#E5ECF6\",\"angularaxis\":{\"gridcolor\":\"white\",\"linecolor\":\"white\",\"ticks\":\"\"},\"radialaxis\":{\"gridcolor\":\"white\",\"linecolor\":\"white\",\"ticks\":\"\"}},\"ternary\":{\"bgcolor\":\"#E5ECF6\",\"aaxis\":{\"gridcolor\":\"white\",\"linecolor\":\"white\",\"ticks\":\"\"},\"baxis\":{\"gridcolor\":\"white\",\"linecolor\":\"white\",\"ticks\":\"\"},\"caxis\":{\"gridcolor\":\"white\",\"linecolor\":\"white\",\"ticks\":\"\"}},\"coloraxis\":{\"colorbar\":{\"outlinewidth\":0,\"ticks\":\"\"}},\"colorscale\":{\"sequential\":[[0.0,\"#0d0887\"],[0.1111111111111111,\"#46039f\"],[0.2222222222222222,\"#7201a8\"],[0.3333333333333333,\"#9c179e\"],[0.4444444444444444,\"#bd3786\"],[0.5555555555555556,\"#d8576b\"],[0.6666666666666666,\"#ed7953\"],[0.7777777777777778,\"#fb9f3a\"],[0.8888888888888888,\"#fdca26\"],[1.0,\"#f0f921\"]],\"sequentialminus\":[[0.0,\"#0d0887\"],[0.1111111111111111,\"#46039f\"],[0.2222222222222222,\"#7201a8\"],[0.3333333333333333,\"#9c179e\"],[0.4444444444444444,\"#bd3786\"],[0.5555555555555556,\"#d8576b\"],[0.6666666666666666,\"#ed7953\"],[0.7777777777777778,\"#fb9f3a\"],[0.8888888888888888,\"#fdca26\"],[1.0,\"#f0f921\"]],\"diverging\":[[0,\"#8e0152\"],[0.1,\"#c51b7d\"],[0.2,\"#de77ae\"],[0.3,\"#f1b6da\"],[0.4,\"#fde0ef\"],[0.5,\"#f7f7f7\"],[0.6,\"#e6f5d0\"],[0.7,\"#b8e186\"],[0.8,\"#7fbc41\"],[0.9,\"#4d9221\"],[1,\"#276419\"]]},\"xaxis\":{\"gridcolor\":\"white\",\"linecolor\":\"white\",\"ticks\":\"\",\"title\":{\"standoff\":15},\"zerolinecolor\":\"white\",\"automargin\":true,\"zerolinewidth\":2},\"yaxis\":{\"gridcolor\":\"white\",\"linecolor\":\"white\",\"ticks\":\"\",\"title\":{\"standoff\":15},\"zerolinecolor\":\"white\",\"automargin\":true,\"zerolinewidth\":2},\"scene\":{\"xaxis\":{\"backgroundcolor\":\"#E5ECF6\",\"gridcolor\":\"white\",\"linecolor\":\"white\",\"showbackground\":true,\"ticks\":\"\",\"zerolinecolor\":\"white\",\"gridwidth\":2},\"yaxis\":{\"backgroundcolor\":\"#E5ECF6\",\"gridcolor\":\"white\",\"linecolor\":\"white\",\"showbackground\":true,\"ticks\":\"\",\"zerolinecolor\":\"white\",\"gridwidth\":2},\"zaxis\":{\"backgroundcolor\":\"#E5ECF6\",\"gridcolor\":\"white\",\"linecolor\":\"white\",\"showbackground\":true,\"ticks\":\"\",\"zerolinecolor\":\"white\",\"gridwidth\":2}},\"shapedefaults\":{\"line\":{\"color\":\"#2a3f5f\"}},\"annotationdefaults\":{\"arrowcolor\":\"#2a3f5f\",\"arrowhead\":0,\"arrowwidth\":1},\"geo\":{\"bgcolor\":\"white\",\"landcolor\":\"#E5ECF6\",\"subunitcolor\":\"white\",\"showland\":true,\"showlakes\":true,\"lakecolor\":\"white\"},\"title\":{\"x\":0.05},\"mapbox\":{\"style\":\"light\"}}},\"xaxis\":{\"anchor\":\"y\",\"domain\":[0.0,1.0],\"title\":{\"text\":\"x\"}},\"yaxis\":{\"anchor\":\"x\",\"domain\":[0.0,1.0],\"title\":{\"text\":\"percent\"}},\"legend\":{\"tracegroupgap\":0},\"margin\":{\"t\":60},\"barmode\":\"relative\"},                        {\"responsive\": true}                    ).then(function(){\n",
       "                            \n",
       "var gd = document.getElementById('0aaf929b-9a8b-4b43-a849-8a7569f34736');\n",
       "var x = new MutationObserver(function (mutations, observer) {{\n",
       "        var display = window.getComputedStyle(gd).display;\n",
       "        if (!display || display === 'none') {{\n",
       "            console.log([gd, 'removed!']);\n",
       "            Plotly.purge(gd);\n",
       "            observer.disconnect();\n",
       "        }}\n",
       "}});\n",
       "\n",
       "// Listen for the removal of the full notebook cells\n",
       "var notebookContainer = gd.closest('#notebook-container');\n",
       "if (notebookContainer) {{\n",
       "    x.observe(notebookContainer, {childList: true});\n",
       "}}\n",
       "\n",
       "// Listen for the clearing of the current output cell\n",
       "var outputEl = gd.closest('.output');\n",
       "if (outputEl) {{\n",
       "    x.observe(outputEl, {childList: true});\n",
       "}}\n",
       "\n",
       "                        })                };                });            </script>        </div>"
      ]
     },
     "metadata": {},
     "output_type": "display_data"
    }
   ],
   "source": [
    "# shows the minute distribution for the playoffs\n",
    "fig = px.histogram(x=playoffs_df['MIN'], histnorm='percent')\n",
    "fig.show()"
   ]
  },
  {
   "cell_type": "markdown",
   "id": "7fdbe2b9-3ca9-4efa-a1cd-2f9f4033fd3c",
   "metadata": {},
   "source": [
    "# How has the game changed in the past 4 years?"
   ]
  },
  {
   "cell_type": "code",
   "execution_count": 22,
   "id": "861c07f3-875c-4d4d-b7d2-5b9f0870d2d9",
   "metadata": {},
   "outputs": [
    {
     "data": {
      "text/html": [
       "<div>\n",
       "<style scoped>\n",
       "    .dataframe tbody tr th:only-of-type {\n",
       "        vertical-align: middle;\n",
       "    }\n",
       "\n",
       "    .dataframe tbody tr th {\n",
       "        vertical-align: top;\n",
       "    }\n",
       "\n",
       "    .dataframe thead th {\n",
       "        text-align: right;\n",
       "    }\n",
       "</style>\n",
       "<table border=\"1\" class=\"dataframe\">\n",
       "  <thead>\n",
       "    <tr style=\"text-align: right;\">\n",
       "      <th></th>\n",
       "      <th>season_start_year</th>\n",
       "      <th>POSS_est</th>\n",
       "      <th>MIN</th>\n",
       "      <th>FGM</th>\n",
       "      <th>FGA</th>\n",
       "      <th>FG3M</th>\n",
       "      <th>FG3A</th>\n",
       "      <th>FTM</th>\n",
       "      <th>FTA</th>\n",
       "      <th>OREB</th>\n",
       "      <th>DREB</th>\n",
       "      <th>REB</th>\n",
       "      <th>AST</th>\n",
       "      <th>STL</th>\n",
       "      <th>BLK</th>\n",
       "      <th>TOV</th>\n",
       "      <th>PTS</th>\n",
       "      <th>FG%</th>\n",
       "      <th>3PT%</th>\n",
       "      <th>FT%</th>\n",
       "      <th>AST%</th>\n",
       "      <th>FG3A%</th>\n",
       "      <th>PTS/FGA</th>\n",
       "      <th>FG3M/FGM</th>\n",
       "      <th>FTA/FGA</th>\n",
       "      <th>TRU%</th>\n",
       "      <th>AST_TOV</th>\n",
       "    </tr>\n",
       "  </thead>\n",
       "  <tbody>\n",
       "    <tr>\n",
       "      <th>0</th>\n",
       "      <td>2020</td>\n",
       "      <td>4057.904</td>\n",
       "      <td>9662.4</td>\n",
       "      <td>1654.0</td>\n",
       "      <td>3545.7</td>\n",
       "      <td>508.6</td>\n",
       "      <td>1378.7</td>\n",
       "      <td>710.1</td>\n",
       "      <td>904.1</td>\n",
       "      <td>394.6</td>\n",
       "      <td>1350.5</td>\n",
       "      <td>1745.3</td>\n",
       "      <td>964.4</td>\n",
       "      <td>288.5</td>\n",
       "      <td>182.8</td>\n",
       "      <td>509.0</td>\n",
       "      <td>4525.8</td>\n",
       "      <td>0.466481</td>\n",
       "      <td>0.368898</td>\n",
       "      <td>0.785422</td>\n",
       "      <td>0.583071</td>\n",
       "      <td>0.388837</td>\n",
       "      <td>1.276419</td>\n",
       "      <td>0.307497</td>\n",
       "      <td>0.254985</td>\n",
       "      <td>0.569262</td>\n",
       "      <td>1.894695</td>\n",
       "    </tr>\n",
       "    <tr>\n",
       "      <th>1</th>\n",
       "      <td>2021</td>\n",
       "      <td>4051.844</td>\n",
       "      <td>9645.7</td>\n",
       "      <td>1615.4</td>\n",
       "      <td>3507.5</td>\n",
       "      <td>506.8</td>\n",
       "      <td>1419.9</td>\n",
       "      <td>708.8</td>\n",
       "      <td>905.1</td>\n",
       "      <td>384.1</td>\n",
       "      <td>1339.6</td>\n",
       "      <td>1725.0</td>\n",
       "      <td>977.5</td>\n",
       "      <td>296.1</td>\n",
       "      <td>182.8</td>\n",
       "      <td>530.2</td>\n",
       "      <td>4444.1</td>\n",
       "      <td>0.460556</td>\n",
       "      <td>0.356927</td>\n",
       "      <td>0.783118</td>\n",
       "      <td>0.605113</td>\n",
       "      <td>0.404818</td>\n",
       "      <td>1.267028</td>\n",
       "      <td>0.313730</td>\n",
       "      <td>0.258047</td>\n",
       "      <td>0.564341</td>\n",
       "      <td>1.843644</td>\n",
       "    </tr>\n",
       "    <tr>\n",
       "      <th>2</th>\n",
       "      <td>2022</td>\n",
       "      <td>4256.512</td>\n",
       "      <td>10101.1</td>\n",
       "      <td>1746.8</td>\n",
       "      <td>3714.3</td>\n",
       "      <td>521.1</td>\n",
       "      <td>1452.2</td>\n",
       "      <td>768.9</td>\n",
       "      <td>974.8</td>\n",
       "      <td>431.6</td>\n",
       "      <td>1369.1</td>\n",
       "      <td>1800.1</td>\n",
       "      <td>1040.4</td>\n",
       "      <td>297.4</td>\n",
       "      <td>195.6</td>\n",
       "      <td>544.9</td>\n",
       "      <td>4782.7</td>\n",
       "      <td>0.470290</td>\n",
       "      <td>0.358835</td>\n",
       "      <td>0.788777</td>\n",
       "      <td>0.595603</td>\n",
       "      <td>0.390975</td>\n",
       "      <td>1.287645</td>\n",
       "      <td>0.298317</td>\n",
       "      <td>0.262445</td>\n",
       "      <td>0.572459</td>\n",
       "      <td>1.909341</td>\n",
       "    </tr>\n",
       "    <tr>\n",
       "      <th>3</th>\n",
       "      <td>2023</td>\n",
       "      <td>4091.520</td>\n",
       "      <td>9805.4</td>\n",
       "      <td>1701.7</td>\n",
       "      <td>3606.2</td>\n",
       "      <td>505.9</td>\n",
       "      <td>1397.9</td>\n",
       "      <td>693.4</td>\n",
       "      <td>878.0</td>\n",
       "      <td>410.1</td>\n",
       "      <td>1322.3</td>\n",
       "      <td>1728.9</td>\n",
       "      <td>1052.2</td>\n",
       "      <td>287.6</td>\n",
       "      <td>202.6</td>\n",
       "      <td>509.1</td>\n",
       "      <td>4601.2</td>\n",
       "      <td>0.471882</td>\n",
       "      <td>0.361900</td>\n",
       "      <td>0.789749</td>\n",
       "      <td>0.618323</td>\n",
       "      <td>0.387638</td>\n",
       "      <td>1.275914</td>\n",
       "      <td>0.297291</td>\n",
       "      <td>0.243470</td>\n",
       "      <td>0.571826</td>\n",
       "      <td>2.066785</td>\n",
       "    </tr>\n",
       "  </tbody>\n",
       "</table>\n",
       "</div>"
      ],
      "text/plain": [
       "   season_start_year  POSS_est      MIN     FGM     FGA   FG3M    FG3A    FTM  \\\n",
       "0               2020  4057.904   9662.4  1654.0  3545.7  508.6  1378.7  710.1   \n",
       "1               2021  4051.844   9645.7  1615.4  3507.5  506.8  1419.9  708.8   \n",
       "2               2022  4256.512  10101.1  1746.8  3714.3  521.1  1452.2  768.9   \n",
       "3               2023  4091.520   9805.4  1701.7  3606.2  505.9  1397.9  693.4   \n",
       "\n",
       "     FTA   OREB    DREB     REB     AST    STL    BLK    TOV     PTS  \\\n",
       "0  904.1  394.6  1350.5  1745.3   964.4  288.5  182.8  509.0  4525.8   \n",
       "1  905.1  384.1  1339.6  1725.0   977.5  296.1  182.8  530.2  4444.1   \n",
       "2  974.8  431.6  1369.1  1800.1  1040.4  297.4  195.6  544.9  4782.7   \n",
       "3  878.0  410.1  1322.3  1728.9  1052.2  287.6  202.6  509.1  4601.2   \n",
       "\n",
       "        FG%      3PT%       FT%      AST%     FG3A%   PTS/FGA  FG3M/FGM  \\\n",
       "0  0.466481  0.368898  0.785422  0.583071  0.388837  1.276419  0.307497   \n",
       "1  0.460556  0.356927  0.783118  0.605113  0.404818  1.267028  0.313730   \n",
       "2  0.470290  0.358835  0.788777  0.595603  0.390975  1.287645  0.298317   \n",
       "3  0.471882  0.361900  0.789749  0.618323  0.387638  1.275914  0.297291   \n",
       "\n",
       "    FTA/FGA      TRU%   AST_TOV  \n",
       "0  0.254985  0.569262  1.894695  \n",
       "1  0.258047  0.564341  1.843644  \n",
       "2  0.262445  0.572459  1.909341  \n",
       "3  0.243470  0.571826  2.066785  "
      ]
     },
     "execution_count": 22,
     "metadata": {},
     "output_type": "execute_result"
    }
   ],
   "source": [
    "existing_cols = [col for col in total_cols if col in data.columns]\n",
    "\n",
    "# group by 'season_start_year' and sum existing columns\n",
    "change_df = data.groupby('season_start_year')[existing_cols].sum().reset_index()\n",
    "\n",
    "# calculates POSS_est\n",
    "change_df['POSS_est'] = change_df['FGA'] - change_df['OREB'] + change_df['TOV'] + 0.44 * change_df['FTA']\n",
    "change_df = change_df[['season_start_year'] + ['POSS_est'] + existing_cols]\n",
    "\n",
    "# calculates ratios\n",
    "if 'FGA' in change_df and 'FGM' in change_df:\n",
    "    change_df['FG%'] = change_df['FGM'] / change_df['FGA']\n",
    "if 'FG3A' in change_df and 'FG3M' in change_df:\n",
    "    change_df['3PT%'] = change_df['FG3M'] / change_df['FG3A']\n",
    "if 'FTA' in change_df and 'FTM' in change_df:\n",
    "    change_df['FT%'] = change_df['FTM'] / change_df['FTA']\n",
    "if 'AST' in change_df and 'FGM' in change_df:\n",
    "    change_df['AST%'] = change_df['AST'] / change_df['FGM']\n",
    "if 'FGA' in change_df and 'FG3A' in change_df:\n",
    "    change_df['FG3A%'] = change_df['FG3A'] / change_df['FGA']\n",
    "if 'PTS' in change_df and 'FGA' in change_df:\n",
    "    change_df['PTS/FGA'] = change_df['PTS'] / change_df['FGA']\n",
    "if 'FGM' in change_df and 'FG3M' in change_df:\n",
    "    change_df['FG3M/FGM'] = change_df['FG3M'] / change_df['FGM']\n",
    "if 'FGA' in change_df and 'FTA' in change_df:\n",
    "    change_df['FTA/FGA'] = change_df['FTA'] / change_df['FGA']\n",
    "if 'PTS' in change_df and 'FGA' in change_df and 'FTA' in change_df:\n",
    "    change_df['TRU%'] = 0.5 * change_df['PTS'] / (change_df['FGA'] + 0.475 * change_df['FTA'])\n",
    "if 'AST' in change_df and 'TOV' in change_df:\n",
    "    change_df['AST_TOV'] = change_df['AST'] / change_df['TOV']\n",
    "\n",
    "change_df"
   ]
  },
  {
   "cell_type": "code",
   "execution_count": 23,
   "id": "947e6529-8159-4e62-81b8-92e258036e96",
   "metadata": {},
   "outputs": [
    {
     "data": {
      "application/vnd.plotly.v1+json": {
       "config": {
        "plotlyServerURL": "https://plot.ly"
       },
       "data": [
        {
         "name": "FGM",
         "type": "scatter",
         "x": [
          2020,
          2021,
          2022,
          2023
         ],
         "y": [
          40.75995883589164,
          39.8682673864048,
          41.03829614482468,
          41.59090020334742
         ]
        },
        {
         "name": "FGA",
         "type": "scatter",
         "x": [
          2020,
          2021,
          2022,
          2023
         ],
         "y": [
          87.37762155043589,
          86.5655242403212,
          87.26158883141876,
          88.13839355545127
         ]
        },
        {
         "name": "FG3M",
         "type": "scatter",
         "x": [
          2020,
          2021,
          2022,
          2023
         ],
         "y": [
          12.533564125716135,
          12.50788529864427,
          12.242418205328681,
          12.364597997810105
         ]
        },
        {
         "name": "FG3A",
         "type": "scatter",
         "x": [
          2020,
          2021,
          2022,
          2023
         ],
         "y": [
          33.97566822674957,
          35.04330374022297,
          34.11713628435676,
          34.16578679806038
         ]
        },
        {
         "name": "FTM",
         "type": "scatter",
         "x": [
          2020,
          2021,
          2022,
          2023
         ],
         "y": [
          17.49918184363159,
          17.493269731016294,
          18.064086275335296,
          16.9472469888941
         ]
        },
        {
         "name": "FTA",
         "type": "scatter",
         "x": [
          2020,
          2021,
          2022,
          2023
         ],
         "y": [
          22.279975080731333,
          22.337977473960002,
          22.90138028507848,
          21.45901767558267
         ]
        },
        {
         "name": "OREB",
         "type": "scatter",
         "x": [
          2020,
          2021,
          2022,
          2023
         ],
         "y": [
          9.724232017317314,
          9.47963445779255,
          10.13975762314308,
          10.023169873298922
         ]
        },
        {
         "name": "DREB",
         "type": "scatter",
         "x": [
          2020,
          2021,
          2022,
          2023
         ],
         "y": [
          33.2807281788825,
          33.061490027750324,
          32.16483355385817,
          32.31806272485531
         ]
        },
        {
         "name": "REB",
         "type": "scatter",
         "x": [
          2020,
          2021,
          2022,
          2023
         ],
         "y": [
          43.00988884902156,
          42.57320864278091,
          42.290495128405595,
          42.25568981698733
         ]
        },
        {
         "name": "AST",
         "type": "scatter",
         "x": [
          2020,
          2021,
          2022,
          2023
         ],
         "y": [
          23.765963906489652,
          24.124818230909185,
          24.44254826487039,
          25.716604098232445
         ]
        },
        {
         "name": "STL",
         "type": "scatter",
         "x": [
          2020,
          2021,
          2022,
          2023
         ],
         "y": [
          7.109581695377712,
          7.307783813986915,
          6.986941420580981,
          7.029172532457376
         ]
        },
        {
         "name": "BLK",
         "type": "scatter",
         "x": [
          2020,
          2021,
          2022,
          2023
         ],
         "y": [
          4.504788679081615,
          4.51152611008716,
          4.5953118421843975,
          4.9517049898326295
         ]
        },
        {
         "name": "TOV",
         "type": "scatter",
         "x": [
          2020,
          2021,
          2022,
          2023
         ],
         "y": [
          12.543421431359638,
          13.085400128928951,
          12.801561466289769,
          12.442808540591273
         ]
        },
        {
         "name": "PTS",
         "type": "scatter",
         "x": [
          2020,
          2021,
          2022,
          2023
         ],
         "y": [
          111.5304847034331,
          109.68092552427981,
          112.36195269741984,
          112.45698420147035
         ]
        },
        {
         "name": "FG%",
         "type": "scatter",
         "x": [
          2020,
          2021,
          2022,
          2023
         ],
         "y": [
          0.011495602796596338,
          0.011366576589138932,
          0.011048729543877629,
          0.011533165160930456
         ]
        },
        {
         "name": "3PT%",
         "type": "scatter",
         "x": [
          2020,
          2021,
          2022,
          2023
         ],
         "y": [
          0.3688982374700805,
          0.35692654412282554,
          0.35883487122985813,
          0.36189999284641244
         ]
        },
        {
         "name": "FT%",
         "type": "scatter",
         "x": [
          2020,
          2021,
          2022,
          2023
         ],
         "y": [
          0.7854219665966155,
          0.7831178875262401,
          0.7887771850636028,
          0.789749430523918
         ]
        },
        {
         "name": "AST%",
         "type": "scatter",
         "x": [
          2020,
          2021,
          2022,
          2023
         ],
         "y": [
          0.5830713422007255,
          0.6051132846353844,
          0.5956033890542707,
          0.6183228536169713
         ]
        },
        {
         "name": "FG3A%",
         "type": "scatter",
         "x": [
          2020,
          2021,
          2022,
          2023
         ],
         "y": [
          0.38883718306681336,
          0.40481824661439775,
          0.39097541932531027,
          0.38763795685208813
         ]
        },
        {
         "name": "PTS/FGA",
         "type": "scatter",
         "x": [
          2020,
          2021,
          2022,
          2023
         ],
         "y": [
          1.2764193248159743,
          1.2670277975766215,
          1.287645047519048,
          1.275913704176141
         ]
        },
        {
         "name": "FG3M/FGM",
         "type": "scatter",
         "x": [
          2020,
          2021,
          2022,
          2023
         ],
         "y": [
          0.307496977025393,
          0.31373034542528166,
          0.29831692237233803,
          0.2972909443497679
         ]
        },
        {
         "name": "FTA/FGA",
         "type": "scatter",
         "x": [
          2020,
          2021,
          2022,
          2023
         ],
         "y": [
          0.25498491130101253,
          0.25804704205274415,
          0.2624451444417521,
          0.24346958016748935
         ]
        },
        {
         "name": "TRU%",
         "type": "scatter",
         "x": [
          2020,
          2021,
          2022,
          2023
         ],
         "y": [
          0.5692618953133186,
          0.5643412663995292,
          0.5724589630218345,
          0.5718262598645374
         ]
        },
        {
         "name": "AST_TOV",
         "type": "scatter",
         "x": [
          2020,
          2021,
          2022,
          2023
         ],
         "y": [
          1.894695481335953,
          1.8436439079592606,
          1.9093411635162418,
          2.0667845217049696
         ]
        }
       ],
       "layout": {
        "autosize": true,
        "template": {
         "data": {
          "bar": [
           {
            "error_x": {
             "color": "#2a3f5f"
            },
            "error_y": {
             "color": "#2a3f5f"
            },
            "marker": {
             "line": {
              "color": "#E5ECF6",
              "width": 0.5
             },
             "pattern": {
              "fillmode": "overlay",
              "size": 10,
              "solidity": 0.2
             }
            },
            "type": "bar"
           }
          ],
          "barpolar": [
           {
            "marker": {
             "line": {
              "color": "#E5ECF6",
              "width": 0.5
             },
             "pattern": {
              "fillmode": "overlay",
              "size": 10,
              "solidity": 0.2
             }
            },
            "type": "barpolar"
           }
          ],
          "carpet": [
           {
            "aaxis": {
             "endlinecolor": "#2a3f5f",
             "gridcolor": "white",
             "linecolor": "white",
             "minorgridcolor": "white",
             "startlinecolor": "#2a3f5f"
            },
            "baxis": {
             "endlinecolor": "#2a3f5f",
             "gridcolor": "white",
             "linecolor": "white",
             "minorgridcolor": "white",
             "startlinecolor": "#2a3f5f"
            },
            "type": "carpet"
           }
          ],
          "choropleth": [
           {
            "colorbar": {
             "outlinewidth": 0,
             "ticks": ""
            },
            "type": "choropleth"
           }
          ],
          "contour": [
           {
            "colorbar": {
             "outlinewidth": 0,
             "ticks": ""
            },
            "colorscale": [
             [
              0,
              "#0d0887"
             ],
             [
              0.1111111111111111,
              "#46039f"
             ],
             [
              0.2222222222222222,
              "#7201a8"
             ],
             [
              0.3333333333333333,
              "#9c179e"
             ],
             [
              0.4444444444444444,
              "#bd3786"
             ],
             [
              0.5555555555555556,
              "#d8576b"
             ],
             [
              0.6666666666666666,
              "#ed7953"
             ],
             [
              0.7777777777777778,
              "#fb9f3a"
             ],
             [
              0.8888888888888888,
              "#fdca26"
             ],
             [
              1,
              "#f0f921"
             ]
            ],
            "type": "contour"
           }
          ],
          "contourcarpet": [
           {
            "colorbar": {
             "outlinewidth": 0,
             "ticks": ""
            },
            "type": "contourcarpet"
           }
          ],
          "heatmap": [
           {
            "colorbar": {
             "outlinewidth": 0,
             "ticks": ""
            },
            "colorscale": [
             [
              0,
              "#0d0887"
             ],
             [
              0.1111111111111111,
              "#46039f"
             ],
             [
              0.2222222222222222,
              "#7201a8"
             ],
             [
              0.3333333333333333,
              "#9c179e"
             ],
             [
              0.4444444444444444,
              "#bd3786"
             ],
             [
              0.5555555555555556,
              "#d8576b"
             ],
             [
              0.6666666666666666,
              "#ed7953"
             ],
             [
              0.7777777777777778,
              "#fb9f3a"
             ],
             [
              0.8888888888888888,
              "#fdca26"
             ],
             [
              1,
              "#f0f921"
             ]
            ],
            "type": "heatmap"
           }
          ],
          "heatmapgl": [
           {
            "colorbar": {
             "outlinewidth": 0,
             "ticks": ""
            },
            "colorscale": [
             [
              0,
              "#0d0887"
             ],
             [
              0.1111111111111111,
              "#46039f"
             ],
             [
              0.2222222222222222,
              "#7201a8"
             ],
             [
              0.3333333333333333,
              "#9c179e"
             ],
             [
              0.4444444444444444,
              "#bd3786"
             ],
             [
              0.5555555555555556,
              "#d8576b"
             ],
             [
              0.6666666666666666,
              "#ed7953"
             ],
             [
              0.7777777777777778,
              "#fb9f3a"
             ],
             [
              0.8888888888888888,
              "#fdca26"
             ],
             [
              1,
              "#f0f921"
             ]
            ],
            "type": "heatmapgl"
           }
          ],
          "histogram": [
           {
            "marker": {
             "pattern": {
              "fillmode": "overlay",
              "size": 10,
              "solidity": 0.2
             }
            },
            "type": "histogram"
           }
          ],
          "histogram2d": [
           {
            "colorbar": {
             "outlinewidth": 0,
             "ticks": ""
            },
            "colorscale": [
             [
              0,
              "#0d0887"
             ],
             [
              0.1111111111111111,
              "#46039f"
             ],
             [
              0.2222222222222222,
              "#7201a8"
             ],
             [
              0.3333333333333333,
              "#9c179e"
             ],
             [
              0.4444444444444444,
              "#bd3786"
             ],
             [
              0.5555555555555556,
              "#d8576b"
             ],
             [
              0.6666666666666666,
              "#ed7953"
             ],
             [
              0.7777777777777778,
              "#fb9f3a"
             ],
             [
              0.8888888888888888,
              "#fdca26"
             ],
             [
              1,
              "#f0f921"
             ]
            ],
            "type": "histogram2d"
           }
          ],
          "histogram2dcontour": [
           {
            "colorbar": {
             "outlinewidth": 0,
             "ticks": ""
            },
            "colorscale": [
             [
              0,
              "#0d0887"
             ],
             [
              0.1111111111111111,
              "#46039f"
             ],
             [
              0.2222222222222222,
              "#7201a8"
             ],
             [
              0.3333333333333333,
              "#9c179e"
             ],
             [
              0.4444444444444444,
              "#bd3786"
             ],
             [
              0.5555555555555556,
              "#d8576b"
             ],
             [
              0.6666666666666666,
              "#ed7953"
             ],
             [
              0.7777777777777778,
              "#fb9f3a"
             ],
             [
              0.8888888888888888,
              "#fdca26"
             ],
             [
              1,
              "#f0f921"
             ]
            ],
            "type": "histogram2dcontour"
           }
          ],
          "mesh3d": [
           {
            "colorbar": {
             "outlinewidth": 0,
             "ticks": ""
            },
            "type": "mesh3d"
           }
          ],
          "parcoords": [
           {
            "line": {
             "colorbar": {
              "outlinewidth": 0,
              "ticks": ""
             }
            },
            "type": "parcoords"
           }
          ],
          "pie": [
           {
            "automargin": true,
            "type": "pie"
           }
          ],
          "scatter": [
           {
            "fillpattern": {
             "fillmode": "overlay",
             "size": 10,
             "solidity": 0.2
            },
            "type": "scatter"
           }
          ],
          "scatter3d": [
           {
            "line": {
             "colorbar": {
              "outlinewidth": 0,
              "ticks": ""
             }
            },
            "marker": {
             "colorbar": {
              "outlinewidth": 0,
              "ticks": ""
             }
            },
            "type": "scatter3d"
           }
          ],
          "scattercarpet": [
           {
            "marker": {
             "colorbar": {
              "outlinewidth": 0,
              "ticks": ""
             }
            },
            "type": "scattercarpet"
           }
          ],
          "scattergeo": [
           {
            "marker": {
             "colorbar": {
              "outlinewidth": 0,
              "ticks": ""
             }
            },
            "type": "scattergeo"
           }
          ],
          "scattergl": [
           {
            "marker": {
             "colorbar": {
              "outlinewidth": 0,
              "ticks": ""
             }
            },
            "type": "scattergl"
           }
          ],
          "scattermapbox": [
           {
            "marker": {
             "colorbar": {
              "outlinewidth": 0,
              "ticks": ""
             }
            },
            "type": "scattermapbox"
           }
          ],
          "scatterpolar": [
           {
            "marker": {
             "colorbar": {
              "outlinewidth": 0,
              "ticks": ""
             }
            },
            "type": "scatterpolar"
           }
          ],
          "scatterpolargl": [
           {
            "marker": {
             "colorbar": {
              "outlinewidth": 0,
              "ticks": ""
             }
            },
            "type": "scatterpolargl"
           }
          ],
          "scatterternary": [
           {
            "marker": {
             "colorbar": {
              "outlinewidth": 0,
              "ticks": ""
             }
            },
            "type": "scatterternary"
           }
          ],
          "surface": [
           {
            "colorbar": {
             "outlinewidth": 0,
             "ticks": ""
            },
            "colorscale": [
             [
              0,
              "#0d0887"
             ],
             [
              0.1111111111111111,
              "#46039f"
             ],
             [
              0.2222222222222222,
              "#7201a8"
             ],
             [
              0.3333333333333333,
              "#9c179e"
             ],
             [
              0.4444444444444444,
              "#bd3786"
             ],
             [
              0.5555555555555556,
              "#d8576b"
             ],
             [
              0.6666666666666666,
              "#ed7953"
             ],
             [
              0.7777777777777778,
              "#fb9f3a"
             ],
             [
              0.8888888888888888,
              "#fdca26"
             ],
             [
              1,
              "#f0f921"
             ]
            ],
            "type": "surface"
           }
          ],
          "table": [
           {
            "cells": {
             "fill": {
              "color": "#EBF0F8"
             },
             "line": {
              "color": "white"
             }
            },
            "header": {
             "fill": {
              "color": "#C8D4E3"
             },
             "line": {
              "color": "white"
             }
            },
            "type": "table"
           }
          ]
         },
         "layout": {
          "annotationdefaults": {
           "arrowcolor": "#2a3f5f",
           "arrowhead": 0,
           "arrowwidth": 1
          },
          "autotypenumbers": "strict",
          "coloraxis": {
           "colorbar": {
            "outlinewidth": 0,
            "ticks": ""
           }
          },
          "colorscale": {
           "diverging": [
            [
             0,
             "#8e0152"
            ],
            [
             0.1,
             "#c51b7d"
            ],
            [
             0.2,
             "#de77ae"
            ],
            [
             0.3,
             "#f1b6da"
            ],
            [
             0.4,
             "#fde0ef"
            ],
            [
             0.5,
             "#f7f7f7"
            ],
            [
             0.6,
             "#e6f5d0"
            ],
            [
             0.7,
             "#b8e186"
            ],
            [
             0.8,
             "#7fbc41"
            ],
            [
             0.9,
             "#4d9221"
            ],
            [
             1,
             "#276419"
            ]
           ],
           "sequential": [
            [
             0,
             "#0d0887"
            ],
            [
             0.1111111111111111,
             "#46039f"
            ],
            [
             0.2222222222222222,
             "#7201a8"
            ],
            [
             0.3333333333333333,
             "#9c179e"
            ],
            [
             0.4444444444444444,
             "#bd3786"
            ],
            [
             0.5555555555555556,
             "#d8576b"
            ],
            [
             0.6666666666666666,
             "#ed7953"
            ],
            [
             0.7777777777777778,
             "#fb9f3a"
            ],
            [
             0.8888888888888888,
             "#fdca26"
            ],
            [
             1,
             "#f0f921"
            ]
           ],
           "sequentialminus": [
            [
             0,
             "#0d0887"
            ],
            [
             0.1111111111111111,
             "#46039f"
            ],
            [
             0.2222222222222222,
             "#7201a8"
            ],
            [
             0.3333333333333333,
             "#9c179e"
            ],
            [
             0.4444444444444444,
             "#bd3786"
            ],
            [
             0.5555555555555556,
             "#d8576b"
            ],
            [
             0.6666666666666666,
             "#ed7953"
            ],
            [
             0.7777777777777778,
             "#fb9f3a"
            ],
            [
             0.8888888888888888,
             "#fdca26"
            ],
            [
             1,
             "#f0f921"
            ]
           ]
          },
          "colorway": [
           "#636efa",
           "#EF553B",
           "#00cc96",
           "#ab63fa",
           "#FFA15A",
           "#19d3f3",
           "#FF6692",
           "#B6E880",
           "#FF97FF",
           "#FECB52"
          ],
          "font": {
           "color": "#2a3f5f"
          },
          "geo": {
           "bgcolor": "white",
           "lakecolor": "white",
           "landcolor": "#E5ECF6",
           "showlakes": true,
           "showland": true,
           "subunitcolor": "white"
          },
          "hoverlabel": {
           "align": "left"
          },
          "hovermode": "closest",
          "mapbox": {
           "style": "light"
          },
          "paper_bgcolor": "white",
          "plot_bgcolor": "#E5ECF6",
          "polar": {
           "angularaxis": {
            "gridcolor": "white",
            "linecolor": "white",
            "ticks": ""
           },
           "bgcolor": "#E5ECF6",
           "radialaxis": {
            "gridcolor": "white",
            "linecolor": "white",
            "ticks": ""
           }
          },
          "scene": {
           "xaxis": {
            "backgroundcolor": "#E5ECF6",
            "gridcolor": "white",
            "gridwidth": 2,
            "linecolor": "white",
            "showbackground": true,
            "ticks": "",
            "zerolinecolor": "white"
           },
           "yaxis": {
            "backgroundcolor": "#E5ECF6",
            "gridcolor": "white",
            "gridwidth": 2,
            "linecolor": "white",
            "showbackground": true,
            "ticks": "",
            "zerolinecolor": "white"
           },
           "zaxis": {
            "backgroundcolor": "#E5ECF6",
            "gridcolor": "white",
            "gridwidth": 2,
            "linecolor": "white",
            "showbackground": true,
            "ticks": "",
            "zerolinecolor": "white"
           }
          },
          "shapedefaults": {
           "line": {
            "color": "#2a3f5f"
           }
          },
          "ternary": {
           "aaxis": {
            "gridcolor": "white",
            "linecolor": "white",
            "ticks": ""
           },
           "baxis": {
            "gridcolor": "white",
            "linecolor": "white",
            "ticks": ""
           },
           "bgcolor": "#E5ECF6",
           "caxis": {
            "gridcolor": "white",
            "linecolor": "white",
            "ticks": ""
           }
          },
          "title": {
           "x": 0.05
          },
          "xaxis": {
           "automargin": true,
           "gridcolor": "white",
           "linecolor": "white",
           "ticks": "",
           "title": {
            "standoff": 15
           },
           "zerolinecolor": "white",
           "zerolinewidth": 2
          },
          "yaxis": {
           "automargin": true,
           "gridcolor": "white",
           "linecolor": "white",
           "ticks": "",
           "title": {
            "standoff": 15
           },
           "zerolinecolor": "white",
           "zerolinewidth": 2
          }
         }
        },
        "xaxis": {
         "autorange": true,
         "range": [
          2019.8177044261065,
          2023.1822955738935
         ],
         "type": "linear"
        },
        "yaxis": {
         "autorange": true,
         "range": [
          -9.2684702171685,
          121.73650314818272
         ],
         "type": "linear"
        }
       }
      },
      "image/png": "[encoded data removed]",
      "text/html": [
       "<div>                            <div id=\"a547f1e7-669c-4289-8274-abebc12904b6\" class=\"plotly-graph-div\" style=\"height:525px; width:100%;\"></div>            <script type=\"text/javascript\">                require([\"plotly\"], function(Plotly) {                    window.PLOTLYENV=window.PLOTLYENV || {};                                    if (document.getElementById(\"a547f1e7-669c-4289-8274-abebc12904b6\")) {                    Plotly.newPlot(                        \"a547f1e7-669c-4289-8274-abebc12904b6\",                        [{\"name\":\"FGM\",\"x\":[2020,2021,2022,2023],\"y\":[40.75995883589164,39.8682673864048,41.03829614482468,41.59090020334742],\"type\":\"scatter\"},{\"name\":\"FGA\",\"x\":[2020,2021,2022,2023],\"y\":[87.37762155043589,86.5655242403212,87.26158883141876,88.13839355545127],\"type\":\"scatter\"},{\"name\":\"FG3M\",\"x\":[2020,2021,2022,2023],\"y\":[12.533564125716135,12.50788529864427,12.242418205328681,12.364597997810105],\"type\":\"scatter\"},{\"name\":\"FG3A\",\"x\":[2020,2021,2022,2023],\"y\":[33.97566822674957,35.04330374022297,34.11713628435676,34.16578679806038],\"type\":\"scatter\"},{\"name\":\"FTM\",\"x\":[2020,2021,2022,2023],\"y\":[17.49918184363159,17.493269731016294,18.064086275335296,16.9472469888941],\"type\":\"scatter\"},{\"name\":\"FTA\",\"x\":[2020,2021,2022,2023],\"y\":[22.279975080731333,22.337977473960002,22.90138028507848,21.45901767558267],\"type\":\"scatter\"},{\"name\":\"OREB\",\"x\":[2020,2021,2022,2023],\"y\":[9.724232017317314,9.47963445779255,10.13975762314308,10.023169873298922],\"type\":\"scatter\"},{\"name\":\"DREB\",\"x\":[2020,2021,2022,2023],\"y\":[33.2807281788825,33.061490027750324,32.16483355385817,32.31806272485531],\"type\":\"scatter\"},{\"name\":\"REB\",\"x\":[2020,2021,2022,2023],\"y\":[43.00988884902156,42.57320864278091,42.290495128405595,42.25568981698733],\"type\":\"scatter\"},{\"name\":\"AST\",\"x\":[2020,2021,2022,2023],\"y\":[23.765963906489652,24.124818230909185,24.44254826487039,25.716604098232445],\"type\":\"scatter\"},{\"name\":\"STL\",\"x\":[2020,2021,2022,2023],\"y\":[7.109581695377712,7.307783813986915,6.986941420580981,7.029172532457376],\"type\":\"scatter\"},{\"name\":\"BLK\",\"x\":[2020,2021,2022,2023],\"y\":[4.504788679081615,4.51152611008716,4.5953118421843975,4.9517049898326295],\"type\":\"scatter\"},{\"name\":\"TOV\",\"x\":[2020,2021,2022,2023],\"y\":[12.543421431359638,13.085400128928951,12.801561466289769,12.442808540591273],\"type\":\"scatter\"},{\"name\":\"PTS\",\"x\":[2020,2021,2022,2023],\"y\":[111.5304847034331,109.68092552427981,112.36195269741984,112.45698420147035],\"type\":\"scatter\"},{\"name\":\"FG%\",\"x\":[2020,2021,2022,2023],\"y\":[0.011495602796596338,0.011366576589138932,0.011048729543877629,0.011533165160930456],\"type\":\"scatter\"},{\"name\":\"3PT%\",\"x\":[2020,2021,2022,2023],\"y\":[0.3688982374700805,0.35692654412282554,0.35883487122985813,0.36189999284641244],\"type\":\"scatter\"},{\"name\":\"FT%\",\"x\":[2020,2021,2022,2023],\"y\":[0.7854219665966155,0.7831178875262401,0.7887771850636028,0.789749430523918],\"type\":\"scatter\"},{\"name\":\"AST%\",\"x\":[2020,2021,2022,2023],\"y\":[0.5830713422007255,0.6051132846353844,0.5956033890542707,0.6183228536169713],\"type\":\"scatter\"},{\"name\":\"FG3A%\",\"x\":[2020,2021,2022,2023],\"y\":[0.38883718306681336,0.40481824661439775,0.39097541932531027,0.38763795685208813],\"type\":\"scatter\"},{\"name\":\"PTS\\u002fFGA\",\"x\":[2020,2021,2022,2023],\"y\":[1.2764193248159743,1.2670277975766215,1.287645047519048,1.275913704176141],\"type\":\"scatter\"},{\"name\":\"FG3M\\u002fFGM\",\"x\":[2020,2021,2022,2023],\"y\":[0.307496977025393,0.31373034542528166,0.29831692237233803,0.2972909443497679],\"type\":\"scatter\"},{\"name\":\"FTA\\u002fFGA\",\"x\":[2020,2021,2022,2023],\"y\":[0.25498491130101253,0.25804704205274415,0.2624451444417521,0.24346958016748935],\"type\":\"scatter\"},{\"name\":\"TRU%\",\"x\":[2020,2021,2022,2023],\"y\":[0.5692618953133186,0.5643412663995292,0.5724589630218345,0.5718262598645374],\"type\":\"scatter\"},{\"name\":\"AST_TOV\",\"x\":[2020,2021,2022,2023],\"y\":[1.894695481335953,1.8436439079592606,1.9093411635162418,2.0667845217049696],\"type\":\"scatter\"}],                        {\"template\":{\"data\":{\"histogram2dcontour\":[{\"type\":\"histogram2dcontour\",\"colorbar\":{\"outlinewidth\":0,\"ticks\":\"\"},\"colorscale\":[[0.0,\"#0d0887\"],[0.1111111111111111,\"#46039f\"],[0.2222222222222222,\"#7201a8\"],[0.3333333333333333,\"#9c179e\"],[0.4444444444444444,\"#bd3786\"],[0.5555555555555556,\"#d8576b\"],[0.6666666666666666,\"#ed7953\"],[0.7777777777777778,\"#fb9f3a\"],[0.8888888888888888,\"#fdca26\"],[1.0,\"#f0f921\"]]}],\"choropleth\":[{\"type\":\"choropleth\",\"colorbar\":{\"outlinewidth\":0,\"ticks\":\"\"}}],\"histogram2d\":[{\"type\":\"histogram2d\",\"colorbar\":{\"outlinewidth\":0,\"ticks\":\"\"},\"colorscale\":[[0.0,\"#0d0887\"],[0.1111111111111111,\"#46039f\"],[0.2222222222222222,\"#7201a8\"],[0.3333333333333333,\"#9c179e\"],[0.4444444444444444,\"#bd3786\"],[0.5555555555555556,\"#d8576b\"],[0.6666666666666666,\"#ed7953\"],[0.7777777777777778,\"#fb9f3a\"],[0.8888888888888888,\"#fdca26\"],[1.0,\"#f0f921\"]]}],\"heatmap\":[{\"type\":\"heatmap\",\"colorbar\":{\"outlinewidth\":0,\"ticks\":\"\"},\"colorscale\":[[0.0,\"#0d0887\"],[0.1111111111111111,\"#46039f\"],[0.2222222222222222,\"#7201a8\"],[0.3333333333333333,\"#9c179e\"],[0.4444444444444444,\"#bd3786\"],[0.5555555555555556,\"#d8576b\"],[0.6666666666666666,\"#ed7953\"],[0.7777777777777778,\"#fb9f3a\"],[0.8888888888888888,\"#fdca26\"],[1.0,\"#f0f921\"]]}],\"heatmapgl\":[{\"type\":\"heatmapgl\",\"colorbar\":{\"outlinewidth\":0,\"ticks\":\"\"},\"colorscale\":[[0.0,\"#0d0887\"],[0.1111111111111111,\"#46039f\"],[0.2222222222222222,\"#7201a8\"],[0.3333333333333333,\"#9c179e\"],[0.4444444444444444,\"#bd3786\"],[0.5555555555555556,\"#d8576b\"],[0.6666666666666666,\"#ed7953\"],[0.7777777777777778,\"#fb9f3a\"],[0.8888888888888888,\"#fdca26\"],[1.0,\"#f0f921\"]]}],\"contourcarpet\":[{\"type\":\"contourcarpet\",\"colorbar\":{\"outlinewidth\":0,\"ticks\":\"\"}}],\"contour\":[{\"type\":\"contour\",\"colorbar\":{\"outlinewidth\":0,\"ticks\":\"\"},\"colorscale\":[[0.0,\"#0d0887\"],[0.1111111111111111,\"#46039f\"],[0.2222222222222222,\"#7201a8\"],[0.3333333333333333,\"#9c179e\"],[0.4444444444444444,\"#bd3786\"],[0.5555555555555556,\"#d8576b\"],[0.6666666666666666,\"#ed7953\"],[0.7777777777777778,\"#fb9f3a\"],[0.8888888888888888,\"#fdca26\"],[1.0,\"#f0f921\"]]}],\"surface\":[{\"type\":\"surface\",\"colorbar\":{\"outlinewidth\":0,\"ticks\":\"\"},\"colorscale\":[[0.0,\"#0d0887\"],[0.1111111111111111,\"#46039f\"],[0.2222222222222222,\"#7201a8\"],[0.3333333333333333,\"#9c179e\"],[0.4444444444444444,\"#bd3786\"],[0.5555555555555556,\"#d8576b\"],[0.6666666666666666,\"#ed7953\"],[0.7777777777777778,\"#fb9f3a\"],[0.8888888888888888,\"#fdca26\"],[1.0,\"#f0f921\"]]}],\"mesh3d\":[{\"type\":\"mesh3d\",\"colorbar\":{\"outlinewidth\":0,\"ticks\":\"\"}}],\"scatter\":[{\"fillpattern\":{\"fillmode\":\"overlay\",\"size\":10,\"solidity\":0.2},\"type\":\"scatter\"}],\"parcoords\":[{\"type\":\"parcoords\",\"line\":{\"colorbar\":{\"outlinewidth\":0,\"ticks\":\"\"}}}],\"scatterpolargl\":[{\"type\":\"scatterpolargl\",\"marker\":{\"colorbar\":{\"outlinewidth\":0,\"ticks\":\"\"}}}],\"bar\":[{\"error_x\":{\"color\":\"#2a3f5f\"},\"error_y\":{\"color\":\"#2a3f5f\"},\"marker\":{\"line\":{\"color\":\"#E5ECF6\",\"width\":0.5},\"pattern\":{\"fillmode\":\"overlay\",\"size\":10,\"solidity\":0.2}},\"type\":\"bar\"}],\"scattergeo\":[{\"type\":\"scattergeo\",\"marker\":{\"colorbar\":{\"outlinewidth\":0,\"ticks\":\"\"}}}],\"scatterpolar\":[{\"type\":\"scatterpolar\",\"marker\":{\"colorbar\":{\"outlinewidth\":0,\"ticks\":\"\"}}}],\"histogram\":[{\"marker\":{\"pattern\":{\"fillmode\":\"overlay\",\"size\":10,\"solidity\":0.2}},\"type\":\"histogram\"}],\"scattergl\":[{\"type\":\"scattergl\",\"marker\":{\"colorbar\":{\"outlinewidth\":0,\"ticks\":\"\"}}}],\"scatter3d\":[{\"type\":\"scatter3d\",\"line\":{\"colorbar\":{\"outlinewidth\":0,\"ticks\":\"\"}},\"marker\":{\"colorbar\":{\"outlinewidth\":0,\"ticks\":\"\"}}}],\"scattermapbox\":[{\"type\":\"scattermapbox\",\"marker\":{\"colorbar\":{\"outlinewidth\":0,\"ticks\":\"\"}}}],\"scatterternary\":[{\"type\":\"scatterternary\",\"marker\":{\"colorbar\":{\"outlinewidth\":0,\"ticks\":\"\"}}}],\"scattercarpet\":[{\"type\":\"scattercarpet\",\"marker\":{\"colorbar\":{\"outlinewidth\":0,\"ticks\":\"\"}}}],\"carpet\":[{\"aaxis\":{\"endlinecolor\":\"#2a3f5f\",\"gridcolor\":\"white\",\"linecolor\":\"white\",\"minorgridcolor\":\"white\",\"startlinecolor\":\"#2a3f5f\"},\"baxis\":{\"endlinecolor\":\"#2a3f5f\",\"gridcolor\":\"white\",\"linecolor\":\"white\",\"minorgridcolor\":\"white\",\"startlinecolor\":\"#2a3f5f\"},\"type\":\"carpet\"}],\"table\":[{\"cells\":{\"fill\":{\"color\":\"#EBF0F8\"},\"line\":{\"color\":\"white\"}},\"header\":{\"fill\":{\"color\":\"#C8D4E3\"},\"line\":{\"color\":\"white\"}},\"type\":\"table\"}],\"barpolar\":[{\"marker\":{\"line\":{\"color\":\"#E5ECF6\",\"width\":0.5},\"pattern\":{\"fillmode\":\"overlay\",\"size\":10,\"solidity\":0.2}},\"type\":\"barpolar\"}],\"pie\":[{\"automargin\":true,\"type\":\"pie\"}]},\"layout\":{\"autotypenumbers\":\"strict\",\"colorway\":[\"#636efa\",\"#EF553B\",\"#00cc96\",\"#ab63fa\",\"#FFA15A\",\"#19d3f3\",\"#FF6692\",\"#B6E880\",\"#FF97FF\",\"#FECB52\"],\"font\":{\"color\":\"#2a3f5f\"},\"hovermode\":\"closest\",\"hoverlabel\":{\"align\":\"left\"},\"paper_bgcolor\":\"white\",\"plot_bgcolor\":\"#E5ECF6\",\"polar\":{\"bgcolor\":\"#E5ECF6\",\"angularaxis\":{\"gridcolor\":\"white\",\"linecolor\":\"white\",\"ticks\":\"\"},\"radialaxis\":{\"gridcolor\":\"white\",\"linecolor\":\"white\",\"ticks\":\"\"}},\"ternary\":{\"bgcolor\":\"#E5ECF6\",\"aaxis\":{\"gridcolor\":\"white\",\"linecolor\":\"white\",\"ticks\":\"\"},\"baxis\":{\"gridcolor\":\"white\",\"linecolor\":\"white\",\"ticks\":\"\"},\"caxis\":{\"gridcolor\":\"white\",\"linecolor\":\"white\",\"ticks\":\"\"}},\"coloraxis\":{\"colorbar\":{\"outlinewidth\":0,\"ticks\":\"\"}},\"colorscale\":{\"sequential\":[[0.0,\"#0d0887\"],[0.1111111111111111,\"#46039f\"],[0.2222222222222222,\"#7201a8\"],[0.3333333333333333,\"#9c179e\"],[0.4444444444444444,\"#bd3786\"],[0.5555555555555556,\"#d8576b\"],[0.6666666666666666,\"#ed7953\"],[0.7777777777777778,\"#fb9f3a\"],[0.8888888888888888,\"#fdca26\"],[1.0,\"#f0f921\"]],\"sequentialminus\":[[0.0,\"#0d0887\"],[0.1111111111111111,\"#46039f\"],[0.2222222222222222,\"#7201a8\"],[0.3333333333333333,\"#9c179e\"],[0.4444444444444444,\"#bd3786\"],[0.5555555555555556,\"#d8576b\"],[0.6666666666666666,\"#ed7953\"],[0.7777777777777778,\"#fb9f3a\"],[0.8888888888888888,\"#fdca26\"],[1.0,\"#f0f921\"]],\"diverging\":[[0,\"#8e0152\"],[0.1,\"#c51b7d\"],[0.2,\"#de77ae\"],[0.3,\"#f1b6da\"],[0.4,\"#fde0ef\"],[0.5,\"#f7f7f7\"],[0.6,\"#e6f5d0\"],[0.7,\"#b8e186\"],[0.8,\"#7fbc41\"],[0.9,\"#4d9221\"],[1,\"#276419\"]]},\"xaxis\":{\"gridcolor\":\"white\",\"linecolor\":\"white\",\"ticks\":\"\",\"title\":{\"standoff\":15},\"zerolinecolor\":\"white\",\"automargin\":true,\"zerolinewidth\":2},\"yaxis\":{\"gridcolor\":\"white\",\"linecolor\":\"white\",\"ticks\":\"\",\"title\":{\"standoff\":15},\"zerolinecolor\":\"white\",\"automargin\":true,\"zerolinewidth\":2},\"scene\":{\"xaxis\":{\"backgroundcolor\":\"#E5ECF6\",\"gridcolor\":\"white\",\"linecolor\":\"white\",\"showbackground\":true,\"ticks\":\"\",\"zerolinecolor\":\"white\",\"gridwidth\":2},\"yaxis\":{\"backgroundcolor\":\"#E5ECF6\",\"gridcolor\":\"white\",\"linecolor\":\"white\",\"showbackground\":true,\"ticks\":\"\",\"zerolinecolor\":\"white\",\"gridwidth\":2},\"zaxis\":{\"backgroundcolor\":\"#E5ECF6\",\"gridcolor\":\"white\",\"linecolor\":\"white\",\"showbackground\":true,\"ticks\":\"\",\"zerolinecolor\":\"white\",\"gridwidth\":2}},\"shapedefaults\":{\"line\":{\"color\":\"#2a3f5f\"}},\"annotationdefaults\":{\"arrowcolor\":\"#2a3f5f\",\"arrowhead\":0,\"arrowwidth\":1},\"geo\":{\"bgcolor\":\"white\",\"landcolor\":\"#E5ECF6\",\"subunitcolor\":\"white\",\"showland\":true,\"showlakes\":true,\"lakecolor\":\"white\"},\"title\":{\"x\":0.05},\"mapbox\":{\"style\":\"light\"}}}},                        {\"responsive\": true}                    ).then(function(){\n",
       "                            \n",
       "var gd = document.getElementById('a547f1e7-669c-4289-8274-abebc12904b6');\n",
       "var x = new MutationObserver(function (mutations, observer) {{\n",
       "        var display = window.getComputedStyle(gd).display;\n",
       "        if (!display || display === 'none') {{\n",
       "            console.log([gd, 'removed!']);\n",
       "            Plotly.purge(gd);\n",
       "            observer.disconnect();\n",
       "        }}\n",
       "}});\n",
       "\n",
       "// Listen for the removal of the full notebook cells\n",
       "var notebookContainer = gd.closest('#notebook-container');\n",
       "if (notebookContainer) {{\n",
       "    x.observe(notebookContainer, {childList: true});\n",
       "}}\n",
       "\n",
       "// Listen for the clearing of the current output cell\n",
       "var outputEl = gd.closest('.output');\n",
       "if (outputEl) {{\n",
       "    x.observe(outputEl, {childList: true});\n",
       "}}\n",
       "\n",
       "                        })                };                });            </script>        </div>"
      ]
     },
     "metadata": {},
     "output_type": "display_data"
    }
   ],
   "source": [
    "# changes per 100 \n",
    "change_per100_df = change_df.copy()\n",
    "\n",
    "for col in change_per100_df.columns[3:18]:\n",
    "    change_per100_df[col] = (change_per100_df[col]/change_per100_df['POSS_est'])*100\n",
    "\n",
    "change_per100_df.drop(columns=['MIN','POSS_est'], inplace=True)\n",
    "change_per100_df\n",
    "\n",
    "fig = go.Figure()\n",
    "for col in change_per100_df.columns[1:]:\n",
    "    fig.add_trace(go.Scatter(x=change_per100_df['season_start_year'],\n",
    "                             y=change_per100_df[col], name=col))\n",
    "fig.show()"
   ]
  },
  {
   "cell_type": "markdown",
   "id": "6679909a-3679-4002-9b6c-db4ee0ff34da",
   "metadata": {},
   "source": [
    "# Comparing Regular Season to Playoffs"
   ]
  },
  {
   "cell_type": "code",
   "execution_count": 24,
   "id": "cd91d1a9-c33e-47d0-80fb-397d4a1976f6",
   "metadata": {},
   "outputs": [
    {
     "data": {
      "text/html": [
       "<div>\n",
       "<style scoped>\n",
       "    .dataframe tbody tr th:only-of-type {\n",
       "        vertical-align: middle;\n",
       "    }\n",
       "\n",
       "    .dataframe tbody tr th {\n",
       "        vertical-align: top;\n",
       "    }\n",
       "\n",
       "    .dataframe thead th {\n",
       "        text-align: right;\n",
       "    }\n",
       "</style>\n",
       "<table border=\"1\" class=\"dataframe\">\n",
       "  <thead>\n",
       "    <tr style=\"text-align: right;\">\n",
       "      <th></th>\n",
       "      <th>season_start_year</th>\n",
       "      <th>FGA</th>\n",
       "      <th>OREB</th>\n",
       "      <th>TOV</th>\n",
       "      <th>FTA</th>\n",
       "      <th>FGM</th>\n",
       "      <th>FG3M</th>\n",
       "      <th>FG3A</th>\n",
       "      <th>FTM</th>\n",
       "      <th>AST</th>\n",
       "      <th>PTS</th>\n",
       "      <th>POSS_per_48</th>\n",
       "      <th>FG%</th>\n",
       "      <th>3PT%</th>\n",
       "      <th>FT%</th>\n",
       "      <th>AST%</th>\n",
       "      <th>FG3A%</th>\n",
       "      <th>PTS/FGA</th>\n",
       "      <th>FG3M/FGM</th>\n",
       "      <th>FTA/FGA</th>\n",
       "      <th>TRU%</th>\n",
       "      <th>AST_TOV</th>\n",
       "    </tr>\n",
       "  </thead>\n",
       "  <tbody>\n",
       "    <tr>\n",
       "      <th>0</th>\n",
       "      <td>2020</td>\n",
       "      <td>86.923848</td>\n",
       "      <td>9.495652</td>\n",
       "      <td>12.990334</td>\n",
       "      <td>21.776067</td>\n",
       "      <td>40.987014</td>\n",
       "      <td>12.468681</td>\n",
       "      <td>33.574052</td>\n",
       "      <td>17.065502</td>\n",
       "      <td>24.858918</td>\n",
       "      <td>111.543512</td>\n",
       "      <td>102.019227</td>\n",
       "      <td>0.471528</td>\n",
       "      <td>0.371379</td>\n",
       "      <td>0.783682</td>\n",
       "      <td>0.606507</td>\n",
       "      <td>0.386247</td>\n",
       "      <td>1.283233</td>\n",
       "      <td>0.304211</td>\n",
       "      <td>0.250519</td>\n",
       "      <td>0.573385</td>\n",
       "      <td>1.913647</td>\n",
       "    </tr>\n",
       "    <tr>\n",
       "      <th>1</th>\n",
       "      <td>2021</td>\n",
       "      <td>87.307931</td>\n",
       "      <td>9.483256</td>\n",
       "      <td>12.784716</td>\n",
       "      <td>21.342292</td>\n",
       "      <td>40.459773</td>\n",
       "      <td>12.860201</td>\n",
       "      <td>35.716159</td>\n",
       "      <td>16.642379</td>\n",
       "      <td>25.048986</td>\n",
       "      <td>110.406235</td>\n",
       "      <td>102.202125</td>\n",
       "      <td>0.463415</td>\n",
       "      <td>0.360067</td>\n",
       "      <td>0.779784</td>\n",
       "      <td>0.619108</td>\n",
       "      <td>0.409083</td>\n",
       "      <td>1.264561</td>\n",
       "      <td>0.317852</td>\n",
       "      <td>0.244448</td>\n",
       "      <td>0.566502</td>\n",
       "      <td>1.959291</td>\n",
       "    </tr>\n",
       "    <tr>\n",
       "      <th>2</th>\n",
       "      <td>2022</td>\n",
       "      <td>86.593655</td>\n",
       "      <td>9.825007</td>\n",
       "      <td>12.904268</td>\n",
       "      <td>23.470646</td>\n",
       "      <td>41.428718</td>\n",
       "      <td>12.184917</td>\n",
       "      <td>33.453470</td>\n",
       "      <td>18.457213</td>\n",
       "      <td>24.861635</td>\n",
       "      <td>113.543609</td>\n",
       "      <td>103.020591</td>\n",
       "      <td>0.478427</td>\n",
       "      <td>0.364235</td>\n",
       "      <td>0.786396</td>\n",
       "      <td>0.600106</td>\n",
       "      <td>0.386327</td>\n",
       "      <td>1.311223</td>\n",
       "      <td>0.294118</td>\n",
       "      <td>0.271043</td>\n",
       "      <td>0.580832</td>\n",
       "      <td>1.926621</td>\n",
       "    </tr>\n",
       "    <tr>\n",
       "      <th>3</th>\n",
       "      <td>2023</td>\n",
       "      <td>87.895712</td>\n",
       "      <td>9.926885</td>\n",
       "      <td>12.497577</td>\n",
       "      <td>21.667262</td>\n",
       "      <td>42.134364</td>\n",
       "      <td>12.645231</td>\n",
       "      <td>34.179983</td>\n",
       "      <td>17.055918</td>\n",
       "      <td>26.551199</td>\n",
       "      <td>113.969876</td>\n",
       "      <td>103.203126</td>\n",
       "      <td>0.479368</td>\n",
       "      <td>0.369960</td>\n",
       "      <td>0.787175</td>\n",
       "      <td>0.630155</td>\n",
       "      <td>0.388870</td>\n",
       "      <td>1.296649</td>\n",
       "      <td>0.300117</td>\n",
       "      <td>0.246511</td>\n",
       "      <td>0.580368</td>\n",
       "      <td>2.124508</td>\n",
       "    </tr>\n",
       "  </tbody>\n",
       "</table>\n",
       "</div>"
      ],
      "text/plain": [
       "   season_start_year        FGA      OREB        TOV        FTA        FGM  \\\n",
       "0               2020  86.923848  9.495652  12.990334  21.776067  40.987014   \n",
       "1               2021  87.307931  9.483256  12.784716  21.342292  40.459773   \n",
       "2               2022  86.593655  9.825007  12.904268  23.470646  41.428718   \n",
       "3               2023  87.895712  9.926885  12.497577  21.667262  42.134364   \n",
       "\n",
       "        FG3M       FG3A        FTM        AST         PTS  POSS_per_48  \\\n",
       "0  12.468681  33.574052  17.065502  24.858918  111.543512   102.019227   \n",
       "1  12.860201  35.716159  16.642379  25.048986  110.406235   102.202125   \n",
       "2  12.184917  33.453470  18.457213  24.861635  113.543609   103.020591   \n",
       "3  12.645231  34.179983  17.055918  26.551199  113.969876   103.203126   \n",
       "\n",
       "        FG%      3PT%       FT%      AST%     FG3A%   PTS/FGA  FG3M/FGM  \\\n",
       "0  0.471528  0.371379  0.783682  0.606507  0.386247  1.283233  0.304211   \n",
       "1  0.463415  0.360067  0.779784  0.619108  0.409083  1.264561  0.317852   \n",
       "2  0.478427  0.364235  0.786396  0.600106  0.386327  1.311223  0.294118   \n",
       "3  0.479368  0.369960  0.787175  0.630155  0.388870  1.296649  0.300117   \n",
       "\n",
       "    FTA/FGA      TRU%   AST_TOV  \n",
       "0  0.250519  0.573385  1.913647  \n",
       "1  0.244448  0.566502  1.959291  \n",
       "2  0.271043  0.580832  1.926621  \n",
       "3  0.246511  0.580368  2.124508  "
      ]
     },
     "execution_count": 24,
     "metadata": {},
     "output_type": "execute_result"
    }
   ],
   "source": [
    "# List of columns expected\n",
    "total_cols = ['FGA', 'OREB', 'TOV', 'FTA', 'MIN', 'FGM', 'FG3M', 'FG3A', 'FTM', 'AST', 'PTS']\n",
    "\n",
    "# Ensure columns in total_cols exist in the dataframe\n",
    "existing_total_cols = [col for col in total_cols if col in rs_df.columns]\n",
    "\n",
    "rs_change_df = rs_df.groupby('season_start_year')[existing_total_cols].sum().reset_index()\n",
    "playoffs_change_df = playoffs_df.groupby('season_start_year')[existing_total_cols].sum().reset_index()\n",
    "\n",
    "for df in [rs_change_df, playoffs_change_df]:\n",
    "    df['POSS_est'] = df['FGA'] - df['OREB'] + df['TOV'] + 0.44 * df['FTA']\n",
    "    df['POSS_per_48'] = (df['POSS_est'] / df['MIN']) * 48 * 5\n",
    "    \n",
    "    df['FG%'] = df['FGM'] / df['FGA']\n",
    "    df['3PT%'] = df['FG3M'] / df['FG3A']\n",
    "    df['FT%'] = df['FTM'] / df['FTA']\n",
    "    df['AST%'] = df['AST'] / df['FGM']\n",
    "    df['FG3A%'] = df['FG3A'] / df['FGA']\n",
    "    df['PTS/FGA'] = df['PTS'] / df['FGA']\n",
    "    df['FG3M/FGM'] = df['FG3M'] / df['FGM']\n",
    "    df['FTA/FGA'] = df['FTA'] / df['FGA']\n",
    "    df['TRU%'] = 0.5 * df['PTS'] / (df['FGA'] + 0.475 * df['FTA'])\n",
    "    df['AST_TOV'] = df['AST'] / df['TOV']\n",
    "    \n",
    "    for col in existing_total_cols:\n",
    "        df[col] = 100 * df[col] / df['POSS_est']\n",
    "    \n",
    "    df.drop(columns=['MIN', 'POSS_est'], inplace=True)\n",
    "    \n",
    "rs_change_df\n"
   ]
  },
  {
   "cell_type": "code",
   "execution_count": 25,
   "id": "a736a257-305e-4737-8031-d383500427c5",
   "metadata": {},
   "outputs": [
    {
     "name": "stdout",
     "output_type": "stream",
     "text": [
      "4 4\n"
     ]
    },
    {
     "data": {
      "text/html": [
       "<div>\n",
       "<style scoped>\n",
       "    .dataframe tbody tr th:only-of-type {\n",
       "        vertical-align: middle;\n",
       "    }\n",
       "\n",
       "    .dataframe tbody tr th {\n",
       "        vertical-align: top;\n",
       "    }\n",
       "\n",
       "    .dataframe thead th {\n",
       "        text-align: right;\n",
       "    }\n",
       "</style>\n",
       "<table border=\"1\" class=\"dataframe\">\n",
       "  <thead>\n",
       "    <tr style=\"text-align: right;\">\n",
       "      <th></th>\n",
       "      <th>season_start_year</th>\n",
       "      <th>FGA</th>\n",
       "      <th>OREB</th>\n",
       "      <th>TOV</th>\n",
       "      <th>FTA</th>\n",
       "      <th>FGM</th>\n",
       "      <th>FG3M</th>\n",
       "      <th>FG3A</th>\n",
       "      <th>FTM</th>\n",
       "      <th>AST</th>\n",
       "      <th>PTS</th>\n",
       "      <th>POSS_per_48</th>\n",
       "      <th>FG%</th>\n",
       "      <th>3PT%</th>\n",
       "      <th>FT%</th>\n",
       "      <th>AST%</th>\n",
       "      <th>FG3A%</th>\n",
       "      <th>PTS/FGA</th>\n",
       "      <th>FG3M/FGM</th>\n",
       "      <th>FTA/FGA</th>\n",
       "      <th>TRU%</th>\n",
       "      <th>AST_TOV</th>\n",
       "    </tr>\n",
       "  </thead>\n",
       "  <tbody>\n",
       "    <tr>\n",
       "      <th>0</th>\n",
       "      <td>2020</td>\n",
       "      <td>1.404</td>\n",
       "      <td>6.476</td>\n",
       "      <td>-9.256</td>\n",
       "      <td>6.226</td>\n",
       "      <td>-1.490</td>\n",
       "      <td>1.400</td>\n",
       "      <td>3.218</td>\n",
       "      <td>6.837</td>\n",
       "      <td>-11.828</td>\n",
       "      <td>-0.031</td>\n",
       "      <td>-3.171</td>\n",
       "      <td>-2.855</td>\n",
       "      <td>-1.762</td>\n",
       "      <td>0.575</td>\n",
       "      <td>-10.495</td>\n",
       "      <td>1.789</td>\n",
       "      <td>-1.416</td>\n",
       "      <td>2.934</td>\n",
       "      <td>4.754</td>\n",
       "      <td>-1.912</td>\n",
       "      <td>-2.835</td>\n",
       "    </tr>\n",
       "    <tr>\n",
       "      <th>1</th>\n",
       "      <td>2021</td>\n",
       "      <td>-2.245</td>\n",
       "      <td>-0.101</td>\n",
       "      <td>6.209</td>\n",
       "      <td>12.317</td>\n",
       "      <td>-3.860</td>\n",
       "      <td>-7.233</td>\n",
       "      <td>-4.974</td>\n",
       "      <td>13.498</td>\n",
       "      <td>-9.740</td>\n",
       "      <td>-1.734</td>\n",
       "      <td>-3.502</td>\n",
       "      <td>-1.652</td>\n",
       "      <td>-2.377</td>\n",
       "      <td>1.052</td>\n",
       "      <td>-6.117</td>\n",
       "      <td>-2.791</td>\n",
       "      <td>0.522</td>\n",
       "      <td>-3.508</td>\n",
       "      <td>14.896</td>\n",
       "      <td>-1.012</td>\n",
       "      <td>-15.017</td>\n",
       "    </tr>\n",
       "    <tr>\n",
       "      <th>2</th>\n",
       "      <td>2022</td>\n",
       "      <td>2.143</td>\n",
       "      <td>8.902</td>\n",
       "      <td>-2.212</td>\n",
       "      <td>-6.740</td>\n",
       "      <td>-2.619</td>\n",
       "      <td>1.311</td>\n",
       "      <td>5.513</td>\n",
       "      <td>-5.918</td>\n",
       "      <td>-4.684</td>\n",
       "      <td>-2.892</td>\n",
       "      <td>-4.928</td>\n",
       "      <td>-4.662</td>\n",
       "      <td>-3.982</td>\n",
       "      <td>0.880</td>\n",
       "      <td>-2.121</td>\n",
       "      <td>3.299</td>\n",
       "      <td>-4.929</td>\n",
       "      <td>4.036</td>\n",
       "      <td>-8.697</td>\n",
       "      <td>-3.977</td>\n",
       "      <td>-2.528</td>\n",
       "    </tr>\n",
       "    <tr>\n",
       "      <th>3</th>\n",
       "      <td>2023</td>\n",
       "      <td>0.779</td>\n",
       "      <td>2.737</td>\n",
       "      <td>-1.236</td>\n",
       "      <td>-2.712</td>\n",
       "      <td>-3.639</td>\n",
       "      <td>-6.261</td>\n",
       "      <td>-0.117</td>\n",
       "      <td>-1.798</td>\n",
       "      <td>-8.868</td>\n",
       "      <td>-3.745</td>\n",
       "      <td>-7.931</td>\n",
       "      <td>-4.384</td>\n",
       "      <td>-6.151</td>\n",
       "      <td>0.939</td>\n",
       "      <td>-5.427</td>\n",
       "      <td>-0.889</td>\n",
       "      <td>-4.489</td>\n",
       "      <td>-2.721</td>\n",
       "      <td>-3.464</td>\n",
       "      <td>-4.141</td>\n",
       "      <td>-7.728</td>\n",
       "    </tr>\n",
       "  </tbody>\n",
       "</table>\n",
       "</div>"
      ],
      "text/plain": [
       "   season_start_year    FGA   OREB    TOV     FTA    FGM   FG3M   FG3A  \\\n",
       "0               2020  1.404  6.476 -9.256   6.226 -1.490  1.400  3.218   \n",
       "1               2021 -2.245 -0.101  6.209  12.317 -3.860 -7.233 -4.974   \n",
       "2               2022  2.143  8.902 -2.212  -6.740 -2.619  1.311  5.513   \n",
       "3               2023  0.779  2.737 -1.236  -2.712 -3.639 -6.261 -0.117   \n",
       "\n",
       "      FTM     AST    PTS  POSS_per_48    FG%   3PT%    FT%    AST%  FG3A%  \\\n",
       "0   6.837 -11.828 -0.031       -3.171 -2.855 -1.762  0.575 -10.495  1.789   \n",
       "1  13.498  -9.740 -1.734       -3.502 -1.652 -2.377  1.052  -6.117 -2.791   \n",
       "2  -5.918  -4.684 -2.892       -4.928 -4.662 -3.982  0.880  -2.121  3.299   \n",
       "3  -1.798  -8.868 -3.745       -7.931 -4.384 -6.151  0.939  -5.427 -0.889   \n",
       "\n",
       "   PTS/FGA  FG3M/FGM  FTA/FGA   TRU%  AST_TOV  \n",
       "0   -1.416     2.934    4.754 -1.912   -2.835  \n",
       "1    0.522    -3.508   14.896 -1.012  -15.017  \n",
       "2   -4.929     4.036   -8.697 -3.977   -2.528  \n",
       "3   -4.489    -2.721   -3.464 -4.141   -7.728  "
      ]
     },
     "execution_count": 25,
     "metadata": {},
     "output_type": "execute_result"
    }
   ],
   "source": [
    "# Check lengths of DataFrames\n",
    "print(len(rs_change_df), len(playoffs_change_df))\n",
    "\n",
    "# Ensure both DataFrames cover the same range of seasons\n",
    "common_seasons = rs_change_df['season_start_year'].isin(playoffs_change_df['season_start_year'])\n",
    "rs_change_df = rs_change_df[common_seasons]\n",
    "\n",
    "common_seasons = playoffs_change_df['season_start_year'].isin(rs_change_df['season_start_year'])\n",
    "playoffs_change_df = playoffs_change_df[common_seasons]\n",
    "\n",
    "# Perform comparison calculation\n",
    "comp_change_df = round(100 * (playoffs_change_df.set_index('season_start_year') - rs_change_df.set_index('season_start_year')) / rs_change_df.set_index('season_start_year'), 3)\n",
    "\n",
    "# Reset index and assign season_start_year\n",
    "comp_change_df = comp_change_df.reset_index()\n",
    "comp_change_df['season_start_year'] = rs_change_df['season_start_year'].values\n",
    "\n",
    "comp_change_df\n"
   ]
  },
  {
   "cell_type": "code",
   "execution_count": 26,
   "id": "80495996-edb4-4464-95ee-c16194767eaa",
   "metadata": {},
   "outputs": [
    {
     "data": {
      "application/vnd.plotly.v1+json": {
       "config": {
        "plotlyServerURL": "https://plot.ly"
       },
       "data": [
        {
         "name": "FGA",
         "type": "scatter",
         "x": [
          2020,
          2021,
          2022,
          2023
         ],
         "y": [
          1.404,
          -2.245,
          2.143,
          0.779
         ]
        },
        {
         "name": "OREB",
         "type": "scatter",
         "x": [
          2020,
          2021,
          2022,
          2023
         ],
         "y": [
          6.476,
          -0.101,
          8.902,
          2.737
         ]
        },
        {
         "name": "TOV",
         "type": "scatter",
         "x": [
          2020,
          2021,
          2022,
          2023
         ],
         "y": [
          -9.256,
          6.209,
          -2.212,
          -1.236
         ]
        },
        {
         "name": "FTA",
         "type": "scatter",
         "x": [
          2020,
          2021,
          2022,
          2023
         ],
         "y": [
          6.226,
          12.317,
          -6.74,
          -2.712
         ]
        },
        {
         "name": "FGM",
         "type": "scatter",
         "x": [
          2020,
          2021,
          2022,
          2023
         ],
         "y": [
          -1.49,
          -3.86,
          -2.619,
          -3.639
         ]
        },
        {
         "name": "FG3M",
         "type": "scatter",
         "x": [
          2020,
          2021,
          2022,
          2023
         ],
         "y": [
          1.4,
          -7.233,
          1.311,
          -6.261
         ]
        },
        {
         "name": "FG3A",
         "type": "scatter",
         "x": [
          2020,
          2021,
          2022,
          2023
         ],
         "y": [
          3.218,
          -4.974,
          5.513,
          -0.117
         ]
        },
        {
         "name": "FTM",
         "type": "scatter",
         "x": [
          2020,
          2021,
          2022,
          2023
         ],
         "y": [
          6.837,
          13.498,
          -5.918,
          -1.798
         ]
        },
        {
         "name": "AST",
         "type": "scatter",
         "x": [
          2020,
          2021,
          2022,
          2023
         ],
         "y": [
          -11.828,
          -9.74,
          -4.684,
          -8.868
         ]
        },
        {
         "name": "PTS",
         "type": "scatter",
         "x": [
          2020,
          2021,
          2022,
          2023
         ],
         "y": [
          -0.031,
          -1.734,
          -2.892,
          -3.745
         ]
        },
        {
         "name": "POSS_per_48",
         "type": "scatter",
         "x": [
          2020,
          2021,
          2022,
          2023
         ],
         "y": [
          -3.171,
          -3.502,
          -4.928,
          -7.931
         ]
        },
        {
         "name": "FG%",
         "type": "scatter",
         "x": [
          2020,
          2021,
          2022,
          2023
         ],
         "y": [
          -2.855,
          -1.652,
          -4.662,
          -4.384
         ]
        },
        {
         "name": "3PT%",
         "type": "scatter",
         "x": [
          2020,
          2021,
          2022,
          2023
         ],
         "y": [
          -1.762,
          -2.377,
          -3.982,
          -6.151
         ]
        },
        {
         "name": "FT%",
         "type": "scatter",
         "x": [
          2020,
          2021,
          2022,
          2023
         ],
         "y": [
          0.575,
          1.052,
          0.88,
          0.939
         ]
        },
        {
         "name": "AST%",
         "type": "scatter",
         "x": [
          2020,
          2021,
          2022,
          2023
         ],
         "y": [
          -10.495,
          -6.117,
          -2.121,
          -5.427
         ]
        },
        {
         "name": "FG3A%",
         "type": "scatter",
         "x": [
          2020,
          2021,
          2022,
          2023
         ],
         "y": [
          1.789,
          -2.791,
          3.299,
          -0.889
         ]
        },
        {
         "name": "PTS/FGA",
         "type": "scatter",
         "x": [
          2020,
          2021,
          2022,
          2023
         ],
         "y": [
          -1.416,
          0.522,
          -4.929,
          -4.489
         ]
        },
        {
         "name": "FG3M/FGM",
         "type": "scatter",
         "x": [
          2020,
          2021,
          2022,
          2023
         ],
         "y": [
          2.934,
          -3.508,
          4.036,
          -2.721
         ]
        },
        {
         "name": "FTA/FGA",
         "type": "scatter",
         "x": [
          2020,
          2021,
          2022,
          2023
         ],
         "y": [
          4.754,
          14.896,
          -8.697,
          -3.464
         ]
        },
        {
         "name": "TRU%",
         "type": "scatter",
         "x": [
          2020,
          2021,
          2022,
          2023
         ],
         "y": [
          -1.912,
          -1.012,
          -3.977,
          -4.141
         ]
        },
        {
         "name": "AST_TOV",
         "type": "scatter",
         "x": [
          2020,
          2021,
          2022,
          2023
         ],
         "y": [
          -2.835,
          -15.017,
          -2.528,
          -7.728
         ]
        }
       ],
       "layout": {
        "autosize": true,
        "template": {
         "data": {
          "bar": [
           {
            "error_x": {
             "color": "#2a3f5f"
            },
            "error_y": {
             "color": "#2a3f5f"
            },
            "marker": {
             "line": {
              "color": "#E5ECF6",
              "width": 0.5
             },
             "pattern": {
              "fillmode": "overlay",
              "size": 10,
              "solidity": 0.2
             }
            },
            "type": "bar"
           }
          ],
          "barpolar": [
           {
            "marker": {
             "line": {
              "color": "#E5ECF6",
              "width": 0.5
             },
             "pattern": {
              "fillmode": "overlay",
              "size": 10,
              "solidity": 0.2
             }
            },
            "type": "barpolar"
           }
          ],
          "carpet": [
           {
            "aaxis": {
             "endlinecolor": "#2a3f5f",
             "gridcolor": "white",
             "linecolor": "white",
             "minorgridcolor": "white",
             "startlinecolor": "#2a3f5f"
            },
            "baxis": {
             "endlinecolor": "#2a3f5f",
             "gridcolor": "white",
             "linecolor": "white",
             "minorgridcolor": "white",
             "startlinecolor": "#2a3f5f"
            },
            "type": "carpet"
           }
          ],
          "choropleth": [
           {
            "colorbar": {
             "outlinewidth": 0,
             "ticks": ""
            },
            "type": "choropleth"
           }
          ],
          "contour": [
           {
            "colorbar": {
             "outlinewidth": 0,
             "ticks": ""
            },
            "colorscale": [
             [
              0,
              "#0d0887"
             ],
             [
              0.1111111111111111,
              "#46039f"
             ],
             [
              0.2222222222222222,
              "#7201a8"
             ],
             [
              0.3333333333333333,
              "#9c179e"
             ],
             [
              0.4444444444444444,
              "#bd3786"
             ],
             [
              0.5555555555555556,
              "#d8576b"
             ],
             [
              0.6666666666666666,
              "#ed7953"
             ],
             [
              0.7777777777777778,
              "#fb9f3a"
             ],
             [
              0.8888888888888888,
              "#fdca26"
             ],
             [
              1,
              "#f0f921"
             ]
            ],
            "type": "contour"
           }
          ],
          "contourcarpet": [
           {
            "colorbar": {
             "outlinewidth": 0,
             "ticks": ""
            },
            "type": "contourcarpet"
           }
          ],
          "heatmap": [
           {
            "colorbar": {
             "outlinewidth": 0,
             "ticks": ""
            },
            "colorscale": [
             [
              0,
              "#0d0887"
             ],
             [
              0.1111111111111111,
              "#46039f"
             ],
             [
              0.2222222222222222,
              "#7201a8"
             ],
             [
              0.3333333333333333,
              "#9c179e"
             ],
             [
              0.4444444444444444,
              "#bd3786"
             ],
             [
              0.5555555555555556,
              "#d8576b"
             ],
             [
              0.6666666666666666,
              "#ed7953"
             ],
             [
              0.7777777777777778,
              "#fb9f3a"
             ],
             [
              0.8888888888888888,
              "#fdca26"
             ],
             [
              1,
              "#f0f921"
             ]
            ],
            "type": "heatmap"
           }
          ],
          "heatmapgl": [
           {
            "colorbar": {
             "outlinewidth": 0,
             "ticks": ""
            },
            "colorscale": [
             [
              0,
              "#0d0887"
             ],
             [
              0.1111111111111111,
              "#46039f"
             ],
             [
              0.2222222222222222,
              "#7201a8"
             ],
             [
              0.3333333333333333,
              "#9c179e"
             ],
             [
              0.4444444444444444,
              "#bd3786"
             ],
             [
              0.5555555555555556,
              "#d8576b"
             ],
             [
              0.6666666666666666,
              "#ed7953"
             ],
             [
              0.7777777777777778,
              "#fb9f3a"
             ],
             [
              0.8888888888888888,
              "#fdca26"
             ],
             [
              1,
              "#f0f921"
             ]
            ],
            "type": "heatmapgl"
           }
          ],
          "histogram": [
           {
            "marker": {
             "pattern": {
              "fillmode": "overlay",
              "size": 10,
              "solidity": 0.2
             }
            },
            "type": "histogram"
           }
          ],
          "histogram2d": [
           {
            "colorbar": {
             "outlinewidth": 0,
             "ticks": ""
            },
            "colorscale": [
             [
              0,
              "#0d0887"
             ],
             [
              0.1111111111111111,
              "#46039f"
             ],
             [
              0.2222222222222222,
              "#7201a8"
             ],
             [
              0.3333333333333333,
              "#9c179e"
             ],
             [
              0.4444444444444444,
              "#bd3786"
             ],
             [
              0.5555555555555556,
              "#d8576b"
             ],
             [
              0.6666666666666666,
              "#ed7953"
             ],
             [
              0.7777777777777778,
              "#fb9f3a"
             ],
             [
              0.8888888888888888,
              "#fdca26"
             ],
             [
              1,
              "#f0f921"
             ]
            ],
            "type": "histogram2d"
           }
          ],
          "histogram2dcontour": [
           {
            "colorbar": {
             "outlinewidth": 0,
             "ticks": ""
            },
            "colorscale": [
             [
              0,
              "#0d0887"
             ],
             [
              0.1111111111111111,
              "#46039f"
             ],
             [
              0.2222222222222222,
              "#7201a8"
             ],
             [
              0.3333333333333333,
              "#9c179e"
             ],
             [
              0.4444444444444444,
              "#bd3786"
             ],
             [
              0.5555555555555556,
              "#d8576b"
             ],
             [
              0.6666666666666666,
              "#ed7953"
             ],
             [
              0.7777777777777778,
              "#fb9f3a"
             ],
             [
              0.8888888888888888,
              "#fdca26"
             ],
             [
              1,
              "#f0f921"
             ]
            ],
            "type": "histogram2dcontour"
           }
          ],
          "mesh3d": [
           {
            "colorbar": {
             "outlinewidth": 0,
             "ticks": ""
            },
            "type": "mesh3d"
           }
          ],
          "parcoords": [
           {
            "line": {
             "colorbar": {
              "outlinewidth": 0,
              "ticks": ""
             }
            },
            "type": "parcoords"
           }
          ],
          "pie": [
           {
            "automargin": true,
            "type": "pie"
           }
          ],
          "scatter": [
           {
            "fillpattern": {
             "fillmode": "overlay",
             "size": 10,
             "solidity": 0.2
            },
            "type": "scatter"
           }
          ],
          "scatter3d": [
           {
            "line": {
             "colorbar": {
              "outlinewidth": 0,
              "ticks": ""
             }
            },
            "marker": {
             "colorbar": {
              "outlinewidth": 0,
              "ticks": ""
             }
            },
            "type": "scatter3d"
           }
          ],
          "scattercarpet": [
           {
            "marker": {
             "colorbar": {
              "outlinewidth": 0,
              "ticks": ""
             }
            },
            "type": "scattercarpet"
           }
          ],
          "scattergeo": [
           {
            "marker": {
             "colorbar": {
              "outlinewidth": 0,
              "ticks": ""
             }
            },
            "type": "scattergeo"
           }
          ],
          "scattergl": [
           {
            "marker": {
             "colorbar": {
              "outlinewidth": 0,
              "ticks": ""
             }
            },
            "type": "scattergl"
           }
          ],
          "scattermapbox": [
           {
            "marker": {
             "colorbar": {
              "outlinewidth": 0,
              "ticks": ""
             }
            },
            "type": "scattermapbox"
           }
          ],
          "scatterpolar": [
           {
            "marker": {
             "colorbar": {
              "outlinewidth": 0,
              "ticks": ""
             }
            },
            "type": "scatterpolar"
           }
          ],
          "scatterpolargl": [
           {
            "marker": {
             "colorbar": {
              "outlinewidth": 0,
              "ticks": ""
             }
            },
            "type": "scatterpolargl"
           }
          ],
          "scatterternary": [
           {
            "marker": {
             "colorbar": {
              "outlinewidth": 0,
              "ticks": ""
             }
            },
            "type": "scatterternary"
           }
          ],
          "surface": [
           {
            "colorbar": {
             "outlinewidth": 0,
             "ticks": ""
            },
            "colorscale": [
             [
              0,
              "#0d0887"
             ],
             [
              0.1111111111111111,
              "#46039f"
             ],
             [
              0.2222222222222222,
              "#7201a8"
             ],
             [
              0.3333333333333333,
              "#9c179e"
             ],
             [
              0.4444444444444444,
              "#bd3786"
             ],
             [
              0.5555555555555556,
              "#d8576b"
             ],
             [
              0.6666666666666666,
              "#ed7953"
             ],
             [
              0.7777777777777778,
              "#fb9f3a"
             ],
             [
              0.8888888888888888,
              "#fdca26"
             ],
             [
              1,
              "#f0f921"
             ]
            ],
            "type": "surface"
           }
          ],
          "table": [
           {
            "cells": {
             "fill": {
              "color": "#EBF0F8"
             },
             "line": {
              "color": "white"
             }
            },
            "header": {
             "fill": {
              "color": "#C8D4E3"
             },
             "line": {
              "color": "white"
             }
            },
            "type": "table"
           }
          ]
         },
         "layout": {
          "annotationdefaults": {
           "arrowcolor": "#2a3f5f",
           "arrowhead": 0,
           "arrowwidth": 1
          },
          "autotypenumbers": "strict",
          "coloraxis": {
           "colorbar": {
            "outlinewidth": 0,
            "ticks": ""
           }
          },
          "colorscale": {
           "diverging": [
            [
             0,
             "#8e0152"
            ],
            [
             0.1,
             "#c51b7d"
            ],
            [
             0.2,
             "#de77ae"
            ],
            [
             0.3,
             "#f1b6da"
            ],
            [
             0.4,
             "#fde0ef"
            ],
            [
             0.5,
             "#f7f7f7"
            ],
            [
             0.6,
             "#e6f5d0"
            ],
            [
             0.7,
             "#b8e186"
            ],
            [
             0.8,
             "#7fbc41"
            ],
            [
             0.9,
             "#4d9221"
            ],
            [
             1,
             "#276419"
            ]
           ],
           "sequential": [
            [
             0,
             "#0d0887"
            ],
            [
             0.1111111111111111,
             "#46039f"
            ],
            [
             0.2222222222222222,
             "#7201a8"
            ],
            [
             0.3333333333333333,
             "#9c179e"
            ],
            [
             0.4444444444444444,
             "#bd3786"
            ],
            [
             0.5555555555555556,
             "#d8576b"
            ],
            [
             0.6666666666666666,
             "#ed7953"
            ],
            [
             0.7777777777777778,
             "#fb9f3a"
            ],
            [
             0.8888888888888888,
             "#fdca26"
            ],
            [
             1,
             "#f0f921"
            ]
           ],
           "sequentialminus": [
            [
             0,
             "#0d0887"
            ],
            [
             0.1111111111111111,
             "#46039f"
            ],
            [
             0.2222222222222222,
             "#7201a8"
            ],
            [
             0.3333333333333333,
             "#9c179e"
            ],
            [
             0.4444444444444444,
             "#bd3786"
            ],
            [
             0.5555555555555556,
             "#d8576b"
            ],
            [
             0.6666666666666666,
             "#ed7953"
            ],
            [
             0.7777777777777778,
             "#fb9f3a"
            ],
            [
             0.8888888888888888,
             "#fdca26"
            ],
            [
             1,
             "#f0f921"
            ]
           ]
          },
          "colorway": [
           "#636efa",
           "#EF553B",
           "#00cc96",
           "#ab63fa",
           "#FFA15A",
           "#19d3f3",
           "#FF6692",
           "#B6E880",
           "#FF97FF",
           "#FECB52"
          ],
          "font": {
           "color": "#2a3f5f"
          },
          "geo": {
           "bgcolor": "white",
           "lakecolor": "white",
           "landcolor": "#E5ECF6",
           "showlakes": true,
           "showland": true,
           "subunitcolor": "white"
          },
          "hoverlabel": {
           "align": "left"
          },
          "hovermode": "closest",
          "mapbox": {
           "style": "light"
          },
          "paper_bgcolor": "white",
          "plot_bgcolor": "#E5ECF6",
          "polar": {
           "angularaxis": {
            "gridcolor": "white",
            "linecolor": "white",
            "ticks": ""
           },
           "bgcolor": "#E5ECF6",
           "radialaxis": {
            "gridcolor": "white",
            "linecolor": "white",
            "ticks": ""
           }
          },
          "scene": {
           "xaxis": {
            "backgroundcolor": "#E5ECF6",
            "gridcolor": "white",
            "gridwidth": 2,
            "linecolor": "white",
            "showbackground": true,
            "ticks": "",
            "zerolinecolor": "white"
           },
           "yaxis": {
            "backgroundcolor": "#E5ECF6",
            "gridcolor": "white",
            "gridwidth": 2,
            "linecolor": "white",
            "showbackground": true,
            "ticks": "",
            "zerolinecolor": "white"
           },
           "zaxis": {
            "backgroundcolor": "#E5ECF6",
            "gridcolor": "white",
            "gridwidth": 2,
            "linecolor": "white",
            "showbackground": true,
            "ticks": "",
            "zerolinecolor": "white"
           }
          },
          "shapedefaults": {
           "line": {
            "color": "#2a3f5f"
           }
          },
          "ternary": {
           "aaxis": {
            "gridcolor": "white",
            "linecolor": "white",
            "ticks": ""
           },
           "baxis": {
            "gridcolor": "white",
            "linecolor": "white",
            "ticks": ""
           },
           "bgcolor": "#E5ECF6",
           "caxis": {
            "gridcolor": "white",
            "linecolor": "white",
            "ticks": ""
           }
          },
          "title": {
           "x": 0.05
          },
          "xaxis": {
           "automargin": true,
           "gridcolor": "white",
           "linecolor": "white",
           "ticks": "",
           "title": {
            "standoff": 15
           },
           "zerolinecolor": "white",
           "zerolinewidth": 2
          },
          "yaxis": {
           "automargin": true,
           "gridcolor": "white",
           "linecolor": "white",
           "ticks": "",
           "title": {
            "standoff": 15
           },
           "zerolinecolor": "white",
           "zerolinewidth": 2
          }
         }
        },
        "xaxis": {
         "autorange": true,
         "range": [
          2019.8173813169985,
          2023.1826186830015
         ],
         "type": "linear"
        },
        "yaxis": {
         "autorange": true,
         "range": [
          -17.48554854368932,
          17.36454854368932
         ],
         "type": "linear"
        }
       }
      },
      "image/png": "[encoded data removed]",
      "text/html": [
       "<div>                            <div id=\"fface0e3-ad04-40ea-bce9-078909eef21b\" class=\"plotly-graph-div\" style=\"height:525px; width:100%;\"></div>            <script type=\"text/javascript\">                require([\"plotly\"], function(Plotly) {                    window.PLOTLYENV=window.PLOTLYENV || {};                                    if (document.getElementById(\"fface0e3-ad04-40ea-bce9-078909eef21b\")) {                    Plotly.newPlot(                        \"fface0e3-ad04-40ea-bce9-078909eef21b\",                        [{\"name\":\"FGA\",\"x\":[2020,2021,2022,2023],\"y\":[1.404,-2.245,2.143,0.779],\"type\":\"scatter\"},{\"name\":\"OREB\",\"x\":[2020,2021,2022,2023],\"y\":[6.476,-0.101,8.902,2.737],\"type\":\"scatter\"},{\"name\":\"TOV\",\"x\":[2020,2021,2022,2023],\"y\":[-9.256,6.209,-2.212,-1.236],\"type\":\"scatter\"},{\"name\":\"FTA\",\"x\":[2020,2021,2022,2023],\"y\":[6.226,12.317,-6.74,-2.712],\"type\":\"scatter\"},{\"name\":\"FGM\",\"x\":[2020,2021,2022,2023],\"y\":[-1.49,-3.86,-2.619,-3.639],\"type\":\"scatter\"},{\"name\":\"FG3M\",\"x\":[2020,2021,2022,2023],\"y\":[1.4,-7.233,1.311,-6.261],\"type\":\"scatter\"},{\"name\":\"FG3A\",\"x\":[2020,2021,2022,2023],\"y\":[3.218,-4.974,5.513,-0.117],\"type\":\"scatter\"},{\"name\":\"FTM\",\"x\":[2020,2021,2022,2023],\"y\":[6.837,13.498,-5.918,-1.798],\"type\":\"scatter\"},{\"name\":\"AST\",\"x\":[2020,2021,2022,2023],\"y\":[-11.828,-9.74,-4.684,-8.868],\"type\":\"scatter\"},{\"name\":\"PTS\",\"x\":[2020,2021,2022,2023],\"y\":[-0.031,-1.734,-2.892,-3.745],\"type\":\"scatter\"},{\"name\":\"POSS_per_48\",\"x\":[2020,2021,2022,2023],\"y\":[-3.171,-3.502,-4.928,-7.931],\"type\":\"scatter\"},{\"name\":\"FG%\",\"x\":[2020,2021,2022,2023],\"y\":[-2.855,-1.652,-4.662,-4.384],\"type\":\"scatter\"},{\"name\":\"3PT%\",\"x\":[2020,2021,2022,2023],\"y\":[-1.762,-2.377,-3.982,-6.151],\"type\":\"scatter\"},{\"name\":\"FT%\",\"x\":[2020,2021,2022,2023],\"y\":[0.575,1.052,0.88,0.939],\"type\":\"scatter\"},{\"name\":\"AST%\",\"x\":[2020,2021,2022,2023],\"y\":[-10.495,-6.117,-2.121,-5.427],\"type\":\"scatter\"},{\"name\":\"FG3A%\",\"x\":[2020,2021,2022,2023],\"y\":[1.789,-2.791,3.299,-0.889],\"type\":\"scatter\"},{\"name\":\"PTS\\u002fFGA\",\"x\":[2020,2021,2022,2023],\"y\":[-1.416,0.522,-4.929,-4.489],\"type\":\"scatter\"},{\"name\":\"FG3M\\u002fFGM\",\"x\":[2020,2021,2022,2023],\"y\":[2.934,-3.508,4.036,-2.721],\"type\":\"scatter\"},{\"name\":\"FTA\\u002fFGA\",\"x\":[2020,2021,2022,2023],\"y\":[4.754,14.896,-8.697,-3.464],\"type\":\"scatter\"},{\"name\":\"TRU%\",\"x\":[2020,2021,2022,2023],\"y\":[-1.912,-1.012,-3.977,-4.141],\"type\":\"scatter\"},{\"name\":\"AST_TOV\",\"x\":[2020,2021,2022,2023],\"y\":[-2.835,-15.017,-2.528,-7.728],\"type\":\"scatter\"}],                        {\"template\":{\"data\":{\"histogram2dcontour\":[{\"type\":\"histogram2dcontour\",\"colorbar\":{\"outlinewidth\":0,\"ticks\":\"\"},\"colorscale\":[[0.0,\"#0d0887\"],[0.1111111111111111,\"#46039f\"],[0.2222222222222222,\"#7201a8\"],[0.3333333333333333,\"#9c179e\"],[0.4444444444444444,\"#bd3786\"],[0.5555555555555556,\"#d8576b\"],[0.6666666666666666,\"#ed7953\"],[0.7777777777777778,\"#fb9f3a\"],[0.8888888888888888,\"#fdca26\"],[1.0,\"#f0f921\"]]}],\"choropleth\":[{\"type\":\"choropleth\",\"colorbar\":{\"outlinewidth\":0,\"ticks\":\"\"}}],\"histogram2d\":[{\"type\":\"histogram2d\",\"colorbar\":{\"outlinewidth\":0,\"ticks\":\"\"},\"colorscale\":[[0.0,\"#0d0887\"],[0.1111111111111111,\"#46039f\"],[0.2222222222222222,\"#7201a8\"],[0.3333333333333333,\"#9c179e\"],[0.4444444444444444,\"#bd3786\"],[0.5555555555555556,\"#d8576b\"],[0.6666666666666666,\"#ed7953\"],[0.7777777777777778,\"#fb9f3a\"],[0.8888888888888888,\"#fdca26\"],[1.0,\"#f0f921\"]]}],\"heatmap\":[{\"type\":\"heatmap\",\"colorbar\":{\"outlinewidth\":0,\"ticks\":\"\"},\"colorscale\":[[0.0,\"#0d0887\"],[0.1111111111111111,\"#46039f\"],[0.2222222222222222,\"#7201a8\"],[0.3333333333333333,\"#9c179e\"],[0.4444444444444444,\"#bd3786\"],[0.5555555555555556,\"#d8576b\"],[0.6666666666666666,\"#ed7953\"],[0.7777777777777778,\"#fb9f3a\"],[0.8888888888888888,\"#fdca26\"],[1.0,\"#f0f921\"]]}],\"heatmapgl\":[{\"type\":\"heatmapgl\",\"colorbar\":{\"outlinewidth\":0,\"ticks\":\"\"},\"colorscale\":[[0.0,\"#0d0887\"],[0.1111111111111111,\"#46039f\"],[0.2222222222222222,\"#7201a8\"],[0.3333333333333333,\"#9c179e\"],[0.4444444444444444,\"#bd3786\"],[0.5555555555555556,\"#d8576b\"],[0.6666666666666666,\"#ed7953\"],[0.7777777777777778,\"#fb9f3a\"],[0.8888888888888888,\"#fdca26\"],[1.0,\"#f0f921\"]]}],\"contourcarpet\":[{\"type\":\"contourcarpet\",\"colorbar\":{\"outlinewidth\":0,\"ticks\":\"\"}}],\"contour\":[{\"type\":\"contour\",\"colorbar\":{\"outlinewidth\":0,\"ticks\":\"\"},\"colorscale\":[[0.0,\"#0d0887\"],[0.1111111111111111,\"#46039f\"],[0.2222222222222222,\"#7201a8\"],[0.3333333333333333,\"#9c179e\"],[0.4444444444444444,\"#bd3786\"],[0.5555555555555556,\"#d8576b\"],[0.6666666666666666,\"#ed7953\"],[0.7777777777777778,\"#fb9f3a\"],[0.8888888888888888,\"#fdca26\"],[1.0,\"#f0f921\"]]}],\"surface\":[{\"type\":\"surface\",\"colorbar\":{\"outlinewidth\":0,\"ticks\":\"\"},\"colorscale\":[[0.0,\"#0d0887\"],[0.1111111111111111,\"#46039f\"],[0.2222222222222222,\"#7201a8\"],[0.3333333333333333,\"#9c179e\"],[0.4444444444444444,\"#bd3786\"],[0.5555555555555556,\"#d8576b\"],[0.6666666666666666,\"#ed7953\"],[0.7777777777777778,\"#fb9f3a\"],[0.8888888888888888,\"#fdca26\"],[1.0,\"#f0f921\"]]}],\"mesh3d\":[{\"type\":\"mesh3d\",\"colorbar\":{\"outlinewidth\":0,\"ticks\":\"\"}}],\"scatter\":[{\"fillpattern\":{\"fillmode\":\"overlay\",\"size\":10,\"solidity\":0.2},\"type\":\"scatter\"}],\"parcoords\":[{\"type\":\"parcoords\",\"line\":{\"colorbar\":{\"outlinewidth\":0,\"ticks\":\"\"}}}],\"scatterpolargl\":[{\"type\":\"scatterpolargl\",\"marker\":{\"colorbar\":{\"outlinewidth\":0,\"ticks\":\"\"}}}],\"bar\":[{\"error_x\":{\"color\":\"#2a3f5f\"},\"error_y\":{\"color\":\"#2a3f5f\"},\"marker\":{\"line\":{\"color\":\"#E5ECF6\",\"width\":0.5},\"pattern\":{\"fillmode\":\"overlay\",\"size\":10,\"solidity\":0.2}},\"type\":\"bar\"}],\"scattergeo\":[{\"type\":\"scattergeo\",\"marker\":{\"colorbar\":{\"outlinewidth\":0,\"ticks\":\"\"}}}],\"scatterpolar\":[{\"type\":\"scatterpolar\",\"marker\":{\"colorbar\":{\"outlinewidth\":0,\"ticks\":\"\"}}}],\"histogram\":[{\"marker\":{\"pattern\":{\"fillmode\":\"overlay\",\"size\":10,\"solidity\":0.2}},\"type\":\"histogram\"}],\"scattergl\":[{\"type\":\"scattergl\",\"marker\":{\"colorbar\":{\"outlinewidth\":0,\"ticks\":\"\"}}}],\"scatter3d\":[{\"type\":\"scatter3d\",\"line\":{\"colorbar\":{\"outlinewidth\":0,\"ticks\":\"\"}},\"marker\":{\"colorbar\":{\"outlinewidth\":0,\"ticks\":\"\"}}}],\"scattermapbox\":[{\"type\":\"scattermapbox\",\"marker\":{\"colorbar\":{\"outlinewidth\":0,\"ticks\":\"\"}}}],\"scatterternary\":[{\"type\":\"scatterternary\",\"marker\":{\"colorbar\":{\"outlinewidth\":0,\"ticks\":\"\"}}}],\"scattercarpet\":[{\"type\":\"scattercarpet\",\"marker\":{\"colorbar\":{\"outlinewidth\":0,\"ticks\":\"\"}}}],\"carpet\":[{\"aaxis\":{\"endlinecolor\":\"#2a3f5f\",\"gridcolor\":\"white\",\"linecolor\":\"white\",\"minorgridcolor\":\"white\",\"startlinecolor\":\"#2a3f5f\"},\"baxis\":{\"endlinecolor\":\"#2a3f5f\",\"gridcolor\":\"white\",\"linecolor\":\"white\",\"minorgridcolor\":\"white\",\"startlinecolor\":\"#2a3f5f\"},\"type\":\"carpet\"}],\"table\":[{\"cells\":{\"fill\":{\"color\":\"#EBF0F8\"},\"line\":{\"color\":\"white\"}},\"header\":{\"fill\":{\"color\":\"#C8D4E3\"},\"line\":{\"color\":\"white\"}},\"type\":\"table\"}],\"barpolar\":[{\"marker\":{\"line\":{\"color\":\"#E5ECF6\",\"width\":0.5},\"pattern\":{\"fillmode\":\"overlay\",\"size\":10,\"solidity\":0.2}},\"type\":\"barpolar\"}],\"pie\":[{\"automargin\":true,\"type\":\"pie\"}]},\"layout\":{\"autotypenumbers\":\"strict\",\"colorway\":[\"#636efa\",\"#EF553B\",\"#00cc96\",\"#ab63fa\",\"#FFA15A\",\"#19d3f3\",\"#FF6692\",\"#B6E880\",\"#FF97FF\",\"#FECB52\"],\"font\":{\"color\":\"#2a3f5f\"},\"hovermode\":\"closest\",\"hoverlabel\":{\"align\":\"left\"},\"paper_bgcolor\":\"white\",\"plot_bgcolor\":\"#E5ECF6\",\"polar\":{\"bgcolor\":\"#E5ECF6\",\"angularaxis\":{\"gridcolor\":\"white\",\"linecolor\":\"white\",\"ticks\":\"\"},\"radialaxis\":{\"gridcolor\":\"white\",\"linecolor\":\"white\",\"ticks\":\"\"}},\"ternary\":{\"bgcolor\":\"#E5ECF6\",\"aaxis\":{\"gridcolor\":\"white\",\"linecolor\":\"white\",\"ticks\":\"\"},\"baxis\":{\"gridcolor\":\"white\",\"linecolor\":\"white\",\"ticks\":\"\"},\"caxis\":{\"gridcolor\":\"white\",\"linecolor\":\"white\",\"ticks\":\"\"}},\"coloraxis\":{\"colorbar\":{\"outlinewidth\":0,\"ticks\":\"\"}},\"colorscale\":{\"sequential\":[[0.0,\"#0d0887\"],[0.1111111111111111,\"#46039f\"],[0.2222222222222222,\"#7201a8\"],[0.3333333333333333,\"#9c179e\"],[0.4444444444444444,\"#bd3786\"],[0.5555555555555556,\"#d8576b\"],[0.6666666666666666,\"#ed7953\"],[0.7777777777777778,\"#fb9f3a\"],[0.8888888888888888,\"#fdca26\"],[1.0,\"#f0f921\"]],\"sequentialminus\":[[0.0,\"#0d0887\"],[0.1111111111111111,\"#46039f\"],[0.2222222222222222,\"#7201a8\"],[0.3333333333333333,\"#9c179e\"],[0.4444444444444444,\"#bd3786\"],[0.5555555555555556,\"#d8576b\"],[0.6666666666666666,\"#ed7953\"],[0.7777777777777778,\"#fb9f3a\"],[0.8888888888888888,\"#fdca26\"],[1.0,\"#f0f921\"]],\"diverging\":[[0,\"#8e0152\"],[0.1,\"#c51b7d\"],[0.2,\"#de77ae\"],[0.3,\"#f1b6da\"],[0.4,\"#fde0ef\"],[0.5,\"#f7f7f7\"],[0.6,\"#e6f5d0\"],[0.7,\"#b8e186\"],[0.8,\"#7fbc41\"],[0.9,\"#4d9221\"],[1,\"#276419\"]]},\"xaxis\":{\"gridcolor\":\"white\",\"linecolor\":\"white\",\"ticks\":\"\",\"title\":{\"standoff\":15},\"zerolinecolor\":\"white\",\"automargin\":true,\"zerolinewidth\":2},\"yaxis\":{\"gridcolor\":\"white\",\"linecolor\":\"white\",\"ticks\":\"\",\"title\":{\"standoff\":15},\"zerolinecolor\":\"white\",\"automargin\":true,\"zerolinewidth\":2},\"scene\":{\"xaxis\":{\"backgroundcolor\":\"#E5ECF6\",\"gridcolor\":\"white\",\"linecolor\":\"white\",\"showbackground\":true,\"ticks\":\"\",\"zerolinecolor\":\"white\",\"gridwidth\":2},\"yaxis\":{\"backgroundcolor\":\"#E5ECF6\",\"gridcolor\":\"white\",\"linecolor\":\"white\",\"showbackground\":true,\"ticks\":\"\",\"zerolinecolor\":\"white\",\"gridwidth\":2},\"zaxis\":{\"backgroundcolor\":\"#E5ECF6\",\"gridcolor\":\"white\",\"linecolor\":\"white\",\"showbackground\":true,\"ticks\":\"\",\"zerolinecolor\":\"white\",\"gridwidth\":2}},\"shapedefaults\":{\"line\":{\"color\":\"#2a3f5f\"}},\"annotationdefaults\":{\"arrowcolor\":\"#2a3f5f\",\"arrowhead\":0,\"arrowwidth\":1},\"geo\":{\"bgcolor\":\"white\",\"landcolor\":\"#E5ECF6\",\"subunitcolor\":\"white\",\"showland\":true,\"showlakes\":true,\"lakecolor\":\"white\"},\"title\":{\"x\":0.05},\"mapbox\":{\"style\":\"light\"}}}},                        {\"responsive\": true}                    ).then(function(){\n",
       "                            \n",
       "var gd = document.getElementById('fface0e3-ad04-40ea-bce9-078909eef21b');\n",
       "var x = new MutationObserver(function (mutations, observer) {{\n",
       "        var display = window.getComputedStyle(gd).display;\n",
       "        if (!display || display === 'none') {{\n",
       "            console.log([gd, 'removed!']);\n",
       "            Plotly.purge(gd);\n",
       "            observer.disconnect();\n",
       "        }}\n",
       "}});\n",
       "\n",
       "// Listen for the removal of the full notebook cells\n",
       "var notebookContainer = gd.closest('#notebook-container');\n",
       "if (notebookContainer) {{\n",
       "    x.observe(notebookContainer, {childList: true});\n",
       "}}\n",
       "\n",
       "// Listen for the clearing of the current output cell\n",
       "var outputEl = gd.closest('.output');\n",
       "if (outputEl) {{\n",
       "    x.observe(outputEl, {childList: true});\n",
       "}}\n",
       "\n",
       "                        })                };                });            </script>        </div>"
      ]
     },
     "metadata": {},
     "output_type": "display_data"
    }
   ],
   "source": [
    "fig = go.Figure()\n",
    "for col in comp_change_df.columns[1:]:\n",
    "    fig.add_trace(go.Scatter(x=comp_change_df['season_start_year'],\n",
    "                             y=comp_change_df[col], name=col))\n",
    "fig.show()"
   ]
  },
  {
   "cell_type": "code",
   "execution_count": null,
   "id": "00fb4005-40d7-4e4a-aac1-2429d412c80e",
   "metadata": {},
   "outputs": [],
   "source": []
  }
 ],
 "metadata": {
  "kernelspec": {
   "display_name": "Python 3 (ipykernel)",
   "language": "python",
   "name": "python3"
  },
  "language_info": {
   "codemirror_mode": {
    "name": "ipython",
    "version": 3
   },
   "file_extension": ".py",
   "mimetype": "text/x-python",
   "name": "python",
   "nbconvert_exporter": "python",
   "pygments_lexer": "ipython3",
   "version": "3.11.5"
  }
 },
 "nbformat": 4,
 "nbformat_minor": 5
}
